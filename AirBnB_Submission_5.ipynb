{
 "cells": [
  {
   "cell_type": "markdown",
   "metadata": {},
   "source": [
    "# AirBnB Price Prediction"
   ]
  },
  {
   "cell_type": "code",
   "execution_count": 1,
   "metadata": {},
   "outputs": [],
   "source": [
    "# import the library\n",
    "%matplotlib inline\n",
    "\n",
    "import pandas as pd\n",
    "import numpy as np\n",
    "import matplotlib.pyplot as plt\n",
    "import seaborn as sns\n",
    "\n",
    "# sklearn :: utils\n",
    "from sklearn.model_selection import train_test_split\n",
    "\n",
    "# sklearn :: models\n",
    "from sklearn.linear_model import LinearRegression\n",
    "from sklearn.neighbors import KNeighborsRegressor\n",
    "from sklearn.tree import DecisionTreeRegressor\n",
    "from sklearn.ensemble import RandomForestRegressor\n",
    "from sklearn.ensemble import GradientBoostingRegressor\n",
    "from sklearn.linear_model import Lasso\n",
    "\n",
    "\n",
    "# sklearn :: evaluation metrics\n",
    "from sklearn.metrics import mean_absolute_error\n",
    "from sklearn.metrics import mean_squared_error\n",
    "\n",
    "sns.set_style('whitegrid')"
   ]
  },
  {
   "cell_type": "markdown",
   "metadata": {},
   "source": [
    "# Load the csv Data Files into Dataframe"
   ]
  },
  {
   "cell_type": "code",
   "execution_count": 2,
   "metadata": {},
   "outputs": [
    {
     "name": "stdout",
     "output_type": "stream",
     "text": [
      "(51000, 29) (23111, 28)\n"
     ]
    }
   ],
   "source": [
    "df_train = pd.read_csv('data/train.csv')\n",
    "df_test = pd.read_csv('data/test.csv')\n",
    "# df_zip = pd.read_csv('data/zipcode.csv')\n",
    "print(df_train.shape, df_test.shape)"
   ]
  },
  {
   "cell_type": "markdown",
   "metadata": {},
   "source": [
    "# View Data Features, Data Type and Missing Values"
   ]
  },
  {
   "cell_type": "code",
   "execution_count": 3,
   "metadata": {},
   "outputs": [
    {
     "name": "stdout",
     "output_type": "stream",
     "text": [
      "Index(['id', 'log_price', 'property_type', 'room_type', 'amenities',\n",
      "       'accommodates', 'bathrooms', 'bed_type', 'cancellation_policy',\n",
      "       'cleaning_fee', 'city', 'description', 'first_review',\n",
      "       'host_has_profile_pic', 'host_identity_verified', 'host_response_rate',\n",
      "       'host_since', 'instant_bookable', 'last_review', 'latitude',\n",
      "       'longitude', 'name', 'neighbourhood', 'number_of_reviews',\n",
      "       'review_scores_rating', 'thumbnail_url', 'zipcode', 'bedrooms', 'beds'],\n",
      "      dtype='object')\n"
     ]
    },
    {
     "data": {
      "text/html": [
       "<div>\n",
       "<style scoped>\n",
       "    .dataframe tbody tr th:only-of-type {\n",
       "        vertical-align: middle;\n",
       "    }\n",
       "\n",
       "    .dataframe tbody tr th {\n",
       "        vertical-align: top;\n",
       "    }\n",
       "\n",
       "    .dataframe thead th {\n",
       "        text-align: right;\n",
       "    }\n",
       "</style>\n",
       "<table border=\"1\" class=\"dataframe\">\n",
       "  <thead>\n",
       "    <tr style=\"text-align: right;\">\n",
       "      <th></th>\n",
       "      <th>id</th>\n",
       "      <th>log_price</th>\n",
       "      <th>property_type</th>\n",
       "      <th>room_type</th>\n",
       "      <th>amenities</th>\n",
       "      <th>accommodates</th>\n",
       "      <th>bathrooms</th>\n",
       "      <th>bed_type</th>\n",
       "      <th>cancellation_policy</th>\n",
       "      <th>cleaning_fee</th>\n",
       "      <th>...</th>\n",
       "      <th>latitude</th>\n",
       "      <th>longitude</th>\n",
       "      <th>name</th>\n",
       "      <th>neighbourhood</th>\n",
       "      <th>number_of_reviews</th>\n",
       "      <th>review_scores_rating</th>\n",
       "      <th>thumbnail_url</th>\n",
       "      <th>zipcode</th>\n",
       "      <th>bedrooms</th>\n",
       "      <th>beds</th>\n",
       "    </tr>\n",
       "  </thead>\n",
       "  <tbody>\n",
       "    <tr>\n",
       "      <th>0</th>\n",
       "      <td>13662370</td>\n",
       "      <td>3.806662</td>\n",
       "      <td>House</td>\n",
       "      <td>Private room</td>\n",
       "      <td>{TV,Internet,\"Wireless Internet\",\"Air conditio...</td>\n",
       "      <td>2</td>\n",
       "      <td>1.5</td>\n",
       "      <td>Real Bed</td>\n",
       "      <td>strict</td>\n",
       "      <td>True</td>\n",
       "      <td>...</td>\n",
       "      <td>41.849684</td>\n",
       "      <td>-87.676270</td>\n",
       "      <td>Pilsen Arts Community Custom Home</td>\n",
       "      <td>Pilsen</td>\n",
       "      <td>17</td>\n",
       "      <td>97.0</td>\n",
       "      <td>https://a0.muscache.com/im/pictures/81318153/a...</td>\n",
       "      <td>60608</td>\n",
       "      <td>1.0</td>\n",
       "      <td>1.0</td>\n",
       "    </tr>\n",
       "    <tr>\n",
       "      <th>1</th>\n",
       "      <td>4765892</td>\n",
       "      <td>4.941642</td>\n",
       "      <td>Apartment</td>\n",
       "      <td>Entire home/apt</td>\n",
       "      <td>{TV,Internet,\"Wireless Internet\",\"Air conditio...</td>\n",
       "      <td>2</td>\n",
       "      <td>2.0</td>\n",
       "      <td>Real Bed</td>\n",
       "      <td>strict</td>\n",
       "      <td>True</td>\n",
       "      <td>...</td>\n",
       "      <td>34.068613</td>\n",
       "      <td>-118.246455</td>\n",
       "      <td>Apartment 5 minutes from DTLA &amp; Dodger Stadium</td>\n",
       "      <td>Echo Park</td>\n",
       "      <td>2</td>\n",
       "      <td>100.0</td>\n",
       "      <td>https://a0.muscache.com/im/pictures/aa00250e-0...</td>\n",
       "      <td>90012</td>\n",
       "      <td>1.0</td>\n",
       "      <td>1.0</td>\n",
       "    </tr>\n",
       "    <tr>\n",
       "      <th>2</th>\n",
       "      <td>21169968</td>\n",
       "      <td>4.941642</td>\n",
       "      <td>Apartment</td>\n",
       "      <td>Entire home/apt</td>\n",
       "      <td>{TV,\"Cable TV\",\"Wireless Internet\",\"Air condit...</td>\n",
       "      <td>5</td>\n",
       "      <td>1.0</td>\n",
       "      <td>Real Bed</td>\n",
       "      <td>moderate</td>\n",
       "      <td>True</td>\n",
       "      <td>...</td>\n",
       "      <td>40.701958</td>\n",
       "      <td>-73.917352</td>\n",
       "      <td>Brand New Huge 2bdr apartment(L,M train 2 min)</td>\n",
       "      <td>Bushwick</td>\n",
       "      <td>25</td>\n",
       "      <td>88.0</td>\n",
       "      <td>https://a0.muscache.com/im/pictures/d9220535-c...</td>\n",
       "      <td>11237</td>\n",
       "      <td>2.0</td>\n",
       "      <td>3.0</td>\n",
       "    </tr>\n",
       "    <tr>\n",
       "      <th>3</th>\n",
       "      <td>7939196</td>\n",
       "      <td>4.867534</td>\n",
       "      <td>Apartment</td>\n",
       "      <td>Entire home/apt</td>\n",
       "      <td>{\"Cable TV\",Internet,\"Wireless Internet\",\"Air ...</td>\n",
       "      <td>6</td>\n",
       "      <td>1.0</td>\n",
       "      <td>Real Bed</td>\n",
       "      <td>strict</td>\n",
       "      <td>True</td>\n",
       "      <td>...</td>\n",
       "      <td>40.742959</td>\n",
       "      <td>-73.990820</td>\n",
       "      <td>Grande Super Large APT !!!</td>\n",
       "      <td>Flatiron District</td>\n",
       "      <td>12</td>\n",
       "      <td>82.0</td>\n",
       "      <td>NaN</td>\n",
       "      <td>10010</td>\n",
       "      <td>1.0</td>\n",
       "      <td>3.0</td>\n",
       "    </tr>\n",
       "    <tr>\n",
       "      <th>4</th>\n",
       "      <td>18161036</td>\n",
       "      <td>3.663562</td>\n",
       "      <td>House</td>\n",
       "      <td>Private room</td>\n",
       "      <td>{Internet,\"Wireless Internet\",\"Air conditionin...</td>\n",
       "      <td>2</td>\n",
       "      <td>1.0</td>\n",
       "      <td>Real Bed</td>\n",
       "      <td>flexible</td>\n",
       "      <td>True</td>\n",
       "      <td>...</td>\n",
       "      <td>34.046473</td>\n",
       "      <td>-117.734095</td>\n",
       "      <td>Private Cozy and Clean Rooms in Pomona</td>\n",
       "      <td>NaN</td>\n",
       "      <td>2</td>\n",
       "      <td>100.0</td>\n",
       "      <td>https://a0.muscache.com/im/pictures/e0c9b2f9-a...</td>\n",
       "      <td>91766</td>\n",
       "      <td>1.0</td>\n",
       "      <td>1.0</td>\n",
       "    </tr>\n",
       "  </tbody>\n",
       "</table>\n",
       "<p>5 rows × 29 columns</p>\n",
       "</div>"
      ],
      "text/plain": [
       "         id  log_price property_type        room_type  \\\n",
       "0  13662370   3.806662         House     Private room   \n",
       "1   4765892   4.941642     Apartment  Entire home/apt   \n",
       "2  21169968   4.941642     Apartment  Entire home/apt   \n",
       "3   7939196   4.867534     Apartment  Entire home/apt   \n",
       "4  18161036   3.663562         House     Private room   \n",
       "\n",
       "                                           amenities  accommodates  bathrooms  \\\n",
       "0  {TV,Internet,\"Wireless Internet\",\"Air conditio...             2        1.5   \n",
       "1  {TV,Internet,\"Wireless Internet\",\"Air conditio...             2        2.0   \n",
       "2  {TV,\"Cable TV\",\"Wireless Internet\",\"Air condit...             5        1.0   \n",
       "3  {\"Cable TV\",Internet,\"Wireless Internet\",\"Air ...             6        1.0   \n",
       "4  {Internet,\"Wireless Internet\",\"Air conditionin...             2        1.0   \n",
       "\n",
       "   bed_type cancellation_policy  cleaning_fee  ...    latitude   longitude  \\\n",
       "0  Real Bed              strict          True  ...   41.849684  -87.676270   \n",
       "1  Real Bed              strict          True  ...   34.068613 -118.246455   \n",
       "2  Real Bed            moderate          True  ...   40.701958  -73.917352   \n",
       "3  Real Bed              strict          True  ...   40.742959  -73.990820   \n",
       "4  Real Bed            flexible          True  ...   34.046473 -117.734095   \n",
       "\n",
       "                                             name      neighbourhood  \\\n",
       "0               Pilsen Arts Community Custom Home             Pilsen   \n",
       "1  Apartment 5 minutes from DTLA & Dodger Stadium          Echo Park   \n",
       "2  Brand New Huge 2bdr apartment(L,M train 2 min)           Bushwick   \n",
       "3                      Grande Super Large APT !!!  Flatiron District   \n",
       "4          Private Cozy and Clean Rooms in Pomona                NaN   \n",
       "\n",
       "  number_of_reviews review_scores_rating  \\\n",
       "0                17                 97.0   \n",
       "1                 2                100.0   \n",
       "2                25                 88.0   \n",
       "3                12                 82.0   \n",
       "4                 2                100.0   \n",
       "\n",
       "                                       thumbnail_url zipcode bedrooms  beds  \n",
       "0  https://a0.muscache.com/im/pictures/81318153/a...   60608      1.0   1.0  \n",
       "1  https://a0.muscache.com/im/pictures/aa00250e-0...   90012      1.0   1.0  \n",
       "2  https://a0.muscache.com/im/pictures/d9220535-c...   11237      2.0   3.0  \n",
       "3                                                NaN   10010      1.0   3.0  \n",
       "4  https://a0.muscache.com/im/pictures/e0c9b2f9-a...   91766      1.0   1.0  \n",
       "\n",
       "[5 rows x 29 columns]"
      ]
     },
     "execution_count": 3,
     "metadata": {},
     "output_type": "execute_result"
    }
   ],
   "source": [
    "print(df_train.columns)\n",
    "df_train.head()"
   ]
  },
  {
   "cell_type": "code",
   "execution_count": 4,
   "metadata": {},
   "outputs": [
    {
     "data": {
      "text/plain": [
       "id                          int64\n",
       "log_price                 float64\n",
       "property_type              object\n",
       "room_type                  object\n",
       "amenities                  object\n",
       "accommodates                int64\n",
       "bathrooms                 float64\n",
       "bed_type                   object\n",
       "cancellation_policy        object\n",
       "cleaning_fee                 bool\n",
       "city                       object\n",
       "description                object\n",
       "first_review               object\n",
       "host_has_profile_pic       object\n",
       "host_identity_verified     object\n",
       "host_response_rate         object\n",
       "host_since                 object\n",
       "instant_bookable           object\n",
       "last_review                object\n",
       "latitude                  float64\n",
       "longitude                 float64\n",
       "name                       object\n",
       "neighbourhood              object\n",
       "number_of_reviews           int64\n",
       "review_scores_rating      float64\n",
       "thumbnail_url              object\n",
       "zipcode                    object\n",
       "bedrooms                  float64\n",
       "beds                      float64\n",
       "dtype: object"
      ]
     },
     "execution_count": 4,
     "metadata": {},
     "output_type": "execute_result"
    }
   ],
   "source": [
    "# Data types of the Feature\n",
    "df_train.dtypes"
   ]
  },
  {
   "cell_type": "code",
   "execution_count": 5,
   "metadata": {},
   "outputs": [
    {
     "name": "stdout",
     "output_type": "stream",
     "text": [
      "id                            0\n",
      "log_price                     0\n",
      "property_type                 0\n",
      "room_type                     0\n",
      "amenities                     0\n",
      "accommodates                  0\n",
      "bathrooms                   133\n",
      "bed_type                      0\n",
      "cancellation_policy           0\n",
      "cleaning_fee                  0\n",
      "city                          0\n",
      "description                   0\n",
      "first_review              10856\n",
      "host_has_profile_pic        127\n",
      "host_identity_verified      127\n",
      "host_response_rate        12551\n",
      "host_since                  127\n",
      "instant_bookable              0\n",
      "last_review               10826\n",
      "latitude                      0\n",
      "longitude                     0\n",
      "name                          0\n",
      "neighbourhood              4675\n",
      "number_of_reviews             0\n",
      "review_scores_rating      11450\n",
      "thumbnail_url              5629\n",
      "zipcode                     645\n",
      "bedrooms                     63\n",
      "beds                         85\n",
      "dtype: int64\n"
     ]
    }
   ],
   "source": [
    "# Find the missing values\n",
    "print(df_train.isnull().sum())"
   ]
  },
  {
   "cell_type": "code",
   "execution_count": 6,
   "metadata": {},
   "outputs": [
    {
     "name": "stdout",
     "output_type": "stream",
     "text": [
      "id                            0\n",
      "log_price                     0\n",
      "property_type                 0\n",
      "room_type                     0\n",
      "amenities                     0\n",
      "accommodates                  0\n",
      "bathrooms                   133\n",
      "bed_type                      0\n",
      "cancellation_policy           0\n",
      "cleaning_fee                  0\n",
      "city                          0\n",
      "description                   0\n",
      "first_review              10856\n",
      "host_has_profile_pic        127\n",
      "host_identity_verified      127\n",
      "host_response_rate        12551\n",
      "host_since                  127\n",
      "instant_bookable              0\n",
      "last_review               10826\n",
      "latitude                      0\n",
      "longitude                     0\n",
      "name                          0\n",
      "neighbourhood              4675\n",
      "number_of_reviews             0\n",
      "review_scores_rating      11450\n",
      "thumbnail_url              5629\n",
      "zipcode                     645\n",
      "bedrooms                     63\n",
      "beds                         85\n",
      "dtype: int64\n"
     ]
    }
   ],
   "source": [
    "print(df_train.isnull().sum())"
   ]
  },
  {
   "cell_type": "markdown",
   "metadata": {},
   "source": [
    "# Convert Data Type, Handle Missing Values & outliers and Fearure Re-engineering"
   ]
  },
  {
   "cell_type": "markdown",
   "metadata": {},
   "source": [
    "### Feature : property_type"
   ]
  },
  {
   "cell_type": "code",
   "execution_count": 7,
   "metadata": {},
   "outputs": [
    {
     "name": "stdout",
     "output_type": "stream",
     "text": [
      "['House' 'Apartment' 'Condominium' 'Guesthouse' 'Dorm' 'Other' 'Loft'\n",
      " 'Townhouse' 'In-law' 'Camper/RV' 'Bungalow' 'Villa' 'Timeshare'\n",
      " 'Boutique hotel' 'Guest suite' 'Bed & Breakfast' 'Castle' 'Tent' 'Cabin'\n",
      " 'Hostel' 'Serviced apartment' 'Boat' 'Chalet' 'Yurt' 'Hut' 'Lighthouse'\n",
      " 'Cave' 'Earth House' 'Train' 'Tipi' 'Treehouse' 'Vacation home' 'Island']\n",
      "Apartment             33676\n",
      "House                 11416\n",
      "Condominium            1812\n",
      "Townhouse              1199\n",
      "Loft                    859\n",
      "Other                   418\n",
      "Guesthouse              329\n",
      "Bed & Breakfast         309\n",
      "Bungalow                243\n",
      "Villa                   122\n",
      "Dorm                     99\n",
      "Guest suite              83\n",
      "Camper/RV                63\n",
      "Cabin                    56\n",
      "Boutique hotel           53\n",
      "Timeshare                52\n",
      "Hostel                   49\n",
      "In-law                   47\n",
      "Boat                     45\n",
      "Serviced apartment       16\n",
      "Castle                   10\n",
      "Tent                      9\n",
      "Vacation home             7\n",
      "Yurt                      6\n",
      "Treehouse                 5\n",
      "Hut                       4\n",
      "Earth House               4\n",
      "Chalet                    2\n",
      "Cave                      2\n",
      "Tipi                      2\n",
      "Train                     1\n",
      "Lighthouse                1\n",
      "Island                    1\n",
      "Name: property_type, dtype: int64\n"
     ]
    },
    {
     "data": {
      "text/plain": [
       "property_type\n",
       "Apartment             4.756179\n",
       "Bed & Breakfast       4.562276\n",
       "Boat                  5.231895\n",
       "Boutique hotel        5.000182\n",
       "Bungalow              4.794144\n",
       "Cabin                 4.610905\n",
       "Camper/RV             4.558318\n",
       "Castle                5.301899\n",
       "Cave                  4.909373\n",
       "Chalet                4.755222\n",
       "Condominium           5.031342\n",
       "Dorm                  3.763096\n",
       "Earth House           5.285391\n",
       "Guest suite           4.751794\n",
       "Guesthouse            4.669058\n",
       "Hostel                3.607724\n",
       "House                 4.792254\n",
       "Hut                   3.799072\n",
       "In-law                4.776665\n",
       "Island                5.010635\n",
       "Lighthouse            5.521461\n",
       "Loft                  4.992789\n",
       "Other                 4.934597\n",
       "Serviced apartment    5.175853\n",
       "Tent                  4.268997\n",
       "Timeshare             5.509210\n",
       "Tipi                  5.258999\n",
       "Townhouse             4.832336\n",
       "Train                 5.135798\n",
       "Treehouse             4.169936\n",
       "Vacation home         5.102172\n",
       "Villa                 5.081168\n",
       "Yurt                  4.951035\n",
       "Name: log_price, dtype: float64"
      ]
     },
     "execution_count": 7,
     "metadata": {},
     "output_type": "execute_result"
    }
   ],
   "source": [
    "print(df_train.property_type.unique())\n",
    "print(df_train['property_type'].value_counts())\n",
    "df_train.groupby(by='property_type')['log_price'].mean()"
   ]
  },
  {
   "cell_type": "code",
   "execution_count": 8,
   "metadata": {},
   "outputs": [
    {
     "name": "stdout",
     "output_type": "stream",
     "text": [
      "['Earth House', 'Island', 'Lighthouse', 'Cave']\n"
     ]
    },
    {
     "data": {
      "text/html": [
       "<div>\n",
       "<style scoped>\n",
       "    .dataframe tbody tr th:only-of-type {\n",
       "        vertical-align: middle;\n",
       "    }\n",
       "\n",
       "    .dataframe tbody tr th {\n",
       "        vertical-align: top;\n",
       "    }\n",
       "\n",
       "    .dataframe thead th {\n",
       "        text-align: right;\n",
       "    }\n",
       "</style>\n",
       "<table border=\"1\" class=\"dataframe\">\n",
       "  <thead>\n",
       "    <tr style=\"text-align: right;\">\n",
       "      <th></th>\n",
       "      <th>id</th>\n",
       "      <th>log_price</th>\n",
       "      <th>room_type</th>\n",
       "      <th>amenities</th>\n",
       "      <th>accommodates</th>\n",
       "      <th>bathrooms</th>\n",
       "      <th>bed_type</th>\n",
       "      <th>cancellation_policy</th>\n",
       "      <th>cleaning_fee</th>\n",
       "      <th>city</th>\n",
       "      <th>...</th>\n",
       "      <th>Serviced apartment</th>\n",
       "      <th>Tent</th>\n",
       "      <th>Timeshare</th>\n",
       "      <th>Tipi</th>\n",
       "      <th>Townhouse</th>\n",
       "      <th>Train</th>\n",
       "      <th>Treehouse</th>\n",
       "      <th>Vacation home</th>\n",
       "      <th>Villa</th>\n",
       "      <th>Yurt</th>\n",
       "    </tr>\n",
       "  </thead>\n",
       "  <tbody>\n",
       "    <tr>\n",
       "      <th>0</th>\n",
       "      <td>13662370</td>\n",
       "      <td>3.806662</td>\n",
       "      <td>Private room</td>\n",
       "      <td>{TV,Internet,\"Wireless Internet\",\"Air conditio...</td>\n",
       "      <td>2</td>\n",
       "      <td>1.5</td>\n",
       "      <td>Real Bed</td>\n",
       "      <td>strict</td>\n",
       "      <td>True</td>\n",
       "      <td>Chicago</td>\n",
       "      <td>...</td>\n",
       "      <td>0</td>\n",
       "      <td>0</td>\n",
       "      <td>0</td>\n",
       "      <td>0</td>\n",
       "      <td>0</td>\n",
       "      <td>0</td>\n",
       "      <td>0</td>\n",
       "      <td>0</td>\n",
       "      <td>0</td>\n",
       "      <td>0</td>\n",
       "    </tr>\n",
       "    <tr>\n",
       "      <th>1</th>\n",
       "      <td>4765892</td>\n",
       "      <td>4.941642</td>\n",
       "      <td>Entire home/apt</td>\n",
       "      <td>{TV,Internet,\"Wireless Internet\",\"Air conditio...</td>\n",
       "      <td>2</td>\n",
       "      <td>2.0</td>\n",
       "      <td>Real Bed</td>\n",
       "      <td>strict</td>\n",
       "      <td>True</td>\n",
       "      <td>LA</td>\n",
       "      <td>...</td>\n",
       "      <td>0</td>\n",
       "      <td>0</td>\n",
       "      <td>0</td>\n",
       "      <td>0</td>\n",
       "      <td>0</td>\n",
       "      <td>0</td>\n",
       "      <td>0</td>\n",
       "      <td>0</td>\n",
       "      <td>0</td>\n",
       "      <td>0</td>\n",
       "    </tr>\n",
       "    <tr>\n",
       "      <th>2</th>\n",
       "      <td>21169968</td>\n",
       "      <td>4.941642</td>\n",
       "      <td>Entire home/apt</td>\n",
       "      <td>{TV,\"Cable TV\",\"Wireless Internet\",\"Air condit...</td>\n",
       "      <td>5</td>\n",
       "      <td>1.0</td>\n",
       "      <td>Real Bed</td>\n",
       "      <td>moderate</td>\n",
       "      <td>True</td>\n",
       "      <td>NYC</td>\n",
       "      <td>...</td>\n",
       "      <td>0</td>\n",
       "      <td>0</td>\n",
       "      <td>0</td>\n",
       "      <td>0</td>\n",
       "      <td>0</td>\n",
       "      <td>0</td>\n",
       "      <td>0</td>\n",
       "      <td>0</td>\n",
       "      <td>0</td>\n",
       "      <td>0</td>\n",
       "    </tr>\n",
       "    <tr>\n",
       "      <th>3</th>\n",
       "      <td>7939196</td>\n",
       "      <td>4.867534</td>\n",
       "      <td>Entire home/apt</td>\n",
       "      <td>{\"Cable TV\",Internet,\"Wireless Internet\",\"Air ...</td>\n",
       "      <td>6</td>\n",
       "      <td>1.0</td>\n",
       "      <td>Real Bed</td>\n",
       "      <td>strict</td>\n",
       "      <td>True</td>\n",
       "      <td>NYC</td>\n",
       "      <td>...</td>\n",
       "      <td>0</td>\n",
       "      <td>0</td>\n",
       "      <td>0</td>\n",
       "      <td>0</td>\n",
       "      <td>0</td>\n",
       "      <td>0</td>\n",
       "      <td>0</td>\n",
       "      <td>0</td>\n",
       "      <td>0</td>\n",
       "      <td>0</td>\n",
       "    </tr>\n",
       "    <tr>\n",
       "      <th>4</th>\n",
       "      <td>18161036</td>\n",
       "      <td>3.663562</td>\n",
       "      <td>Private room</td>\n",
       "      <td>{Internet,\"Wireless Internet\",\"Air conditionin...</td>\n",
       "      <td>2</td>\n",
       "      <td>1.0</td>\n",
       "      <td>Real Bed</td>\n",
       "      <td>flexible</td>\n",
       "      <td>True</td>\n",
       "      <td>LA</td>\n",
       "      <td>...</td>\n",
       "      <td>0</td>\n",
       "      <td>0</td>\n",
       "      <td>0</td>\n",
       "      <td>0</td>\n",
       "      <td>0</td>\n",
       "      <td>0</td>\n",
       "      <td>0</td>\n",
       "      <td>0</td>\n",
       "      <td>0</td>\n",
       "      <td>0</td>\n",
       "    </tr>\n",
       "  </tbody>\n",
       "</table>\n",
       "<p>5 rows × 57 columns</p>\n",
       "</div>"
      ],
      "text/plain": [
       "         id  log_price        room_type  \\\n",
       "0  13662370   3.806662     Private room   \n",
       "1   4765892   4.941642  Entire home/apt   \n",
       "2  21169968   4.941642  Entire home/apt   \n",
       "3   7939196   4.867534  Entire home/apt   \n",
       "4  18161036   3.663562     Private room   \n",
       "\n",
       "                                           amenities  accommodates  bathrooms  \\\n",
       "0  {TV,Internet,\"Wireless Internet\",\"Air conditio...             2        1.5   \n",
       "1  {TV,Internet,\"Wireless Internet\",\"Air conditio...             2        2.0   \n",
       "2  {TV,\"Cable TV\",\"Wireless Internet\",\"Air condit...             5        1.0   \n",
       "3  {\"Cable TV\",Internet,\"Wireless Internet\",\"Air ...             6        1.0   \n",
       "4  {Internet,\"Wireless Internet\",\"Air conditionin...             2        1.0   \n",
       "\n",
       "   bed_type cancellation_policy  cleaning_fee     city  ...   \\\n",
       "0  Real Bed              strict          True  Chicago  ...    \n",
       "1  Real Bed              strict          True       LA  ...    \n",
       "2  Real Bed            moderate          True      NYC  ...    \n",
       "3  Real Bed              strict          True      NYC  ...    \n",
       "4  Real Bed            flexible          True       LA  ...    \n",
       "\n",
       "  Serviced apartment Tent Timeshare Tipi Townhouse Train Treehouse  \\\n",
       "0                  0    0         0    0         0     0         0   \n",
       "1                  0    0         0    0         0     0         0   \n",
       "2                  0    0         0    0         0     0         0   \n",
       "3                  0    0         0    0         0     0         0   \n",
       "4                  0    0         0    0         0     0         0   \n",
       "\n",
       "  Vacation home  Villa  Yurt  \n",
       "0             0      0     0  \n",
       "1             0      0     0  \n",
       "2             0      0     0  \n",
       "3             0      0     0  \n",
       "4             0      0     0  \n",
       "\n",
       "[5 rows x 57 columns]"
      ]
     },
     "execution_count": 8,
     "metadata": {},
     "output_type": "execute_result"
    }
   ],
   "source": [
    "# Find the difference between 'property_type' fearure in both dataframes\n",
    "df1 = df_train.property_type.unique()\n",
    "df2 = df_test.property_type.unique()\n",
    "diff = list(set(df1) - set(df2))\n",
    "print(diff)\n",
    "\n",
    "# Drop the rows from df_train which contains ['property_type'] 'Cave', 'Island', 'Earth House', 'Lighthouse'\n",
    "for i in diff:\n",
    "    df_train = df_train[df_train['property_type'] != i]\n",
    "\n",
    "# Create new features from property_type\n",
    "df_property_type = pd.get_dummies(df_train['property_type']).astype(int)\n",
    "df_train = pd.concat([df_train, df_property_type], axis=1)\n",
    "\n",
    "# Delete 'property_type' column from df_train\n",
    "del df_train['property_type']\n",
    "df_train.head()"
   ]
  },
  {
   "cell_type": "code",
   "execution_count": 9,
   "metadata": {},
   "outputs": [],
   "source": [
    "# Create new features from property_type\n",
    "df_property_type = pd.get_dummies(df_test['property_type'])\n",
    "df_test = pd.concat([df_test, df_property_type], axis=1)\n",
    "\n",
    "# Delete 'property_type' column from df_train\n",
    "del df_test['property_type']"
   ]
  },
  {
   "cell_type": "markdown",
   "metadata": {},
   "source": [
    "### Feature : room_type"
   ]
  },
  {
   "cell_type": "code",
   "execution_count": 10,
   "metadata": {},
   "outputs": [
    {
     "name": "stdout",
     "output_type": "stream",
     "text": [
      "['Private room' 'Entire home/apt' 'Shared room']\n",
      "Entire home/apt    28362\n",
      "Private room       21122\n",
      "Shared room         1508\n",
      "Name: room_type, dtype: int64\n"
     ]
    },
    {
     "data": {
      "text/plain": [
       "room_type\n",
       "Entire home/apt    5.162808\n",
       "Private room       4.327514\n",
       "Shared room        3.871713\n",
       "Name: log_price, dtype: float64"
      ]
     },
     "execution_count": 10,
     "metadata": {},
     "output_type": "execute_result"
    }
   ],
   "source": [
    "print(df_train.room_type.unique())\n",
    "print(df_train['room_type'].value_counts())\n",
    "df_train.groupby(by='room_type')['log_price'].mean()"
   ]
  },
  {
   "cell_type": "code",
   "execution_count": 11,
   "metadata": {},
   "outputs": [
    {
     "name": "stdout",
     "output_type": "stream",
     "text": [
      "[]\n"
     ]
    }
   ],
   "source": [
    "# Find the difference between 'room_type' fearure in both dataframes\n",
    "df1 = df_train.room_type.unique()\n",
    "df2 = df_test.room_type.unique()\n",
    "diff = list(set(df1) - set(df2))\n",
    "print(diff)\n",
    "\n",
    "# Create new features from room_type\n",
    "df_room_type = pd.get_dummies(df_train['room_type']).astype(int)\n",
    "df_train = pd.concat([df_train, df_room_type], axis=1)\n",
    "\n",
    "# Delete 'room_type' column from df_train\n",
    "del df_train['room_type']"
   ]
  },
  {
   "cell_type": "code",
   "execution_count": 12,
   "metadata": {},
   "outputs": [],
   "source": [
    "# Create new features from room_type\n",
    "df_room_type = pd.get_dummies(df_test['room_type'])\n",
    "df_test = pd.concat([df_test, df_room_type], axis=1)\n",
    "\n",
    "# Delete 'property_type' column from df_train\n",
    "del df_test['room_type']"
   ]
  },
  {
   "cell_type": "markdown",
   "metadata": {},
   "source": [
    "### Feature: amenities"
   ]
  },
  {
   "cell_type": "code",
   "execution_count": 13,
   "metadata": {},
   "outputs": [],
   "source": [
    "# Create new feature with total number of amenities\n",
    "df_train['#amenities'] = df_train['amenities'].str.count(\",\") + 1\n",
    "\n",
    "df_train['family'] = np.where(df_train['amenities'].str.contains(\"Family\")==True, '1', '0')\n",
    "df_train['family'] = df_train['family'].astype(int)\n",
    "\n",
    "df_train['pets'] = np.where(df_train['amenities'].str.contains(\"Pets allowed\")==True, '1', '0')\n",
    "df_train['pets'] = df_train['pets'].astype(int)\n",
    "\n",
    "df_train['event'] = np.where(df_train['amenities'].str.contains(\"Suitable for events\")==True, '1', '0')\n",
    "df_train['event'] = df_train['event'].astype(int)\n",
    "\n",
    "df_train['kitchen'] = np.where(df_train['amenities'].str.contains(\"Kitchen\")==True, '1', '0')\n",
    "df_train['kitchen'] = df_train['kitchen'].astype(int)\n",
    "\n",
    "df_train['heating'] = np.where(df_train['amenities'].str.contains(\"Heating\")==True, '1', '0')\n",
    "df_train['heating'] = df_train['heating'].astype(int)\n",
    "\n",
    "df_train['gym'] = np.where(df_train['amenities'].str.contains(\"Gym\")==True, '1', '0')\n",
    "df_train['gym'] = df_train['gym'].astype(int)\n",
    "\n",
    "df_train['elevator'] = np.where(df_train['amenities'].str.contains(\"Elevator\")==True, '1', '0')\n",
    "df_train['elevator'] = df_train['elevator'].astype(int)\n",
    "\n",
    "df_train['pool'] = np.where(df_train['amenities'].str.contains(\"Pool\")==True, '1', '0')\n",
    "df_train['pool'] = df_train['pool'].astype(int)\n",
    "\n",
    "# Delete 'amenities' column from df_train\n",
    "del df_train['amenities']"
   ]
  },
  {
   "cell_type": "code",
   "execution_count": 14,
   "metadata": {},
   "outputs": [],
   "source": [
    "# Create new features from amenities\n",
    "df_test['#amenities'] = df_test['amenities'].str.count(\",\") + 1\n",
    "\n",
    "df_test['family'] = np.where(df_test['amenities'].str.contains(\"Family\")==True, '1', '0')\n",
    "df_test['family'] = df_test['family'].astype(int)\n",
    "\n",
    "df_test['pets'] = np.where(df_test['amenities'].str.contains(\"Pets allowed\")==True, '1', '0')\n",
    "df_test['pets'] = df_test['pets'].astype(int)\n",
    "\n",
    "df_test['event'] = np.where(df_test['amenities'].str.contains(\"Suitable for events\")==True, '1', '0')\n",
    "df_test['event'] = df_test['event'].astype(int)\n",
    "\n",
    "df_test['kitchen'] = np.where(df_test['amenities'].str.contains(\"Kitchen\")==True, '1', '0')\n",
    "df_test['kitchen'] = df_test['kitchen'].astype(int)\n",
    "\n",
    "df_test['heating'] = np.where(df_test['amenities'].str.contains(\"Heating\")==True, '1', '0')\n",
    "df_test['heating'] = df_test['heating'].astype(int)\n",
    "\n",
    "df_test['gym'] = np.where(df_test['amenities'].str.contains(\"Gym\")==True, '1', '0')\n",
    "df_test['gym'] = df_test['gym'].astype(int)\n",
    "\n",
    "df_test['elevator'] = np.where(df_test['amenities'].str.contains(\"Elevator\")==True, '1', '0')\n",
    "df_test['elevator'] = df_test['elevator'].astype(int)\n",
    "\n",
    "df_test['pool'] = np.where(df_test['amenities'].str.contains(\"Pool\")==True, '1', '0')\n",
    "df_test['pool'] = df_test['pool'].astype(int)\n",
    "\n",
    "# Delete 'amenities' column from df_train\n",
    "del df_test['amenities']"
   ]
  },
  {
   "cell_type": "markdown",
   "metadata": {},
   "source": [
    "### Feature: accommodates"
   ]
  },
  {
   "cell_type": "code",
   "execution_count": 15,
   "metadata": {},
   "outputs": [
    {
     "name": "stdout",
     "output_type": "stream",
     "text": [
      "2     21989\n",
      "4      8353\n",
      "1      6507\n",
      "3      5315\n",
      "6      3321\n",
      "5      2338\n",
      "8      1238\n",
      "7       660\n",
      "10      495\n",
      "16      222\n",
      "12      192\n",
      "9       178\n",
      "14       75\n",
      "11       54\n",
      "15       31\n",
      "13       24\n",
      "Name: accommodates, dtype: int64\n"
     ]
    },
    {
     "data": {
      "text/plain": [
       "accommodates\n",
       "1     4.179633\n",
       "2     4.550311\n",
       "3     4.809153\n",
       "4     5.059248\n",
       "5     5.244151\n",
       "6     5.444440\n",
       "7     5.539955\n",
       "8     5.723292\n",
       "9     5.669526\n",
       "10    5.823928\n",
       "11    5.833586\n",
       "12    6.117887\n",
       "13    5.893654\n",
       "14    6.063651\n",
       "15    6.081268\n",
       "16    6.070342\n",
       "Name: log_price, dtype: float64"
      ]
     },
     "execution_count": 15,
     "metadata": {},
     "output_type": "execute_result"
    }
   ],
   "source": [
    "print(df_train['accommodates'].value_counts())\n",
    "df_train.groupby(by='accommodates')['log_price'].mean()"
   ]
  },
  {
   "cell_type": "code",
   "execution_count": 16,
   "metadata": {},
   "outputs": [
    {
     "name": "stdout",
     "output_type": "stream",
     "text": [
      "[]\n"
     ]
    }
   ],
   "source": [
    "# Find the difference between 'accommodates' fearure in both dataframes\n",
    "df1 = df_train.accommodates.unique()\n",
    "df2 = df_test.accommodates.unique()\n",
    "diff = list(set(df1) - set(df2))\n",
    "print(diff)"
   ]
  },
  {
   "cell_type": "markdown",
   "metadata": {},
   "source": [
    "### Feature: bathrooms"
   ]
  },
  {
   "cell_type": "code",
   "execution_count": 17,
   "metadata": {},
   "outputs": [
    {
     "name": "stdout",
     "output_type": "stream",
     "text": [
      "1.0    40071\n",
      "2.0     5377\n",
      "1.5     2621\n",
      "2.5     1056\n",
      "3.0      745\n",
      "3.5      288\n",
      "4.0      192\n",
      "0.5      151\n",
      "0.0      139\n",
      "4.5       80\n",
      "5.0       46\n",
      "5.5       30\n",
      "8.0       25\n",
      "6.0       20\n",
      "7.0        9\n",
      "6.5        6\n",
      "7.5        3\n",
      "Name: bathrooms, dtype: int64\n"
     ]
    }
   ],
   "source": [
    "print(df_train['bathrooms'].value_counts())"
   ]
  },
  {
   "cell_type": "code",
   "execution_count": 18,
   "metadata": {},
   "outputs": [
    {
     "name": "stdout",
     "output_type": "stream",
     "text": [
      "[nan]\n",
      "133\n"
     ]
    }
   ],
   "source": [
    "# Find the difference between 'bathrooms' fearure in both dataframes\n",
    "df1 = df_train.bathrooms.unique()\n",
    "df2 = df_test.bathrooms.unique()\n",
    "diff = list(set(df1) - set(df2))\n",
    "print(diff)\n",
    "\n",
    "# Find the missing values\n",
    "print(df_train['bathrooms'].isnull().sum())\n",
    "\n",
    "# Replace NaN with Mean value in bathroom feature / column\n",
    "df_train['bathrooms'].fillna(round(df_train['bathrooms'].mean()), inplace=True)"
   ]
  },
  {
   "cell_type": "markdown",
   "metadata": {},
   "source": [
    "### Feature: bed_type"
   ]
  },
  {
   "cell_type": "code",
   "execution_count": 19,
   "metadata": {},
   "outputs": [
    {
     "name": "stdout",
     "output_type": "stream",
     "text": [
      "Real Bed         49530\n",
      "Futon              533\n",
      "Pull-out Sofa      417\n",
      "Airbed             331\n",
      "Couch              181\n",
      "Name: bed_type, dtype: int64\n"
     ]
    }
   ],
   "source": [
    "print(df_train['bed_type'].value_counts())"
   ]
  },
  {
   "cell_type": "code",
   "execution_count": 20,
   "metadata": {},
   "outputs": [
    {
     "name": "stdout",
     "output_type": "stream",
     "text": [
      "[]\n"
     ]
    }
   ],
   "source": [
    "# Find the difference between 'bed_type' fearure in both dataframes\n",
    "df1 = df_train.bed_type.unique()\n",
    "df2 = df_test.bed_type.unique()\n",
    "diff = list(set(df1) - set(df2))\n",
    "print(diff)\n",
    "\n",
    "# Create new features from bed_type\n",
    "df_bed_type = pd.get_dummies(df_train['bed_type']).astype(int)\n",
    "df_train = pd.concat([df_train, df_bed_type], axis=1)\n",
    "\n",
    "# Delete 'bed_type' column from df_train\n",
    "del df_train['bed_type']"
   ]
  },
  {
   "cell_type": "code",
   "execution_count": 21,
   "metadata": {},
   "outputs": [],
   "source": [
    "# Create new features from bed_type\n",
    "df_bed_type = pd.get_dummies(df_test['bed_type'])\n",
    "df_test = pd.concat([df_test, df_bed_type], axis=1)\n",
    "\n",
    "# Delete 'bed_type' column from df_train\n",
    "del df_test['bed_type']"
   ]
  },
  {
   "cell_type": "markdown",
   "metadata": {},
   "source": [
    "### Feature: cancellation_policy"
   ]
  },
  {
   "cell_type": "code",
   "execution_count": 22,
   "metadata": {},
   "outputs": [
    {
     "name": "stdout",
     "output_type": "stream",
     "text": [
      "strict             22289\n",
      "flexible           15561\n",
      "moderate           13045\n",
      "super_strict_30       84\n",
      "super_strict_60       13\n",
      "Name: cancellation_policy, dtype: int64\n"
     ]
    }
   ],
   "source": [
    "print(df_train['cancellation_policy'].value_counts())"
   ]
  },
  {
   "cell_type": "code",
   "execution_count": 23,
   "metadata": {},
   "outputs": [
    {
     "name": "stdout",
     "output_type": "stream",
     "text": [
      "[]\n"
     ]
    }
   ],
   "source": [
    "# Find the difference between 'cancellation_policy' fearure in both dataframes\n",
    "df1 = df_train.cancellation_policy.unique()\n",
    "df2 = df_test.cancellation_policy.unique()\n",
    "diff = list(set(df1) - set(df2))\n",
    "print(diff)\n",
    "\n",
    "# Create new features from cancellation_policy\n",
    "df_cancellation_policy = pd.get_dummies(df_train['cancellation_policy']).astype(int)\n",
    "df_train = pd.concat([df_train, df_cancellation_policy], axis=1)\n",
    "\n",
    "# Delete 'cancellation_policy' column from df_train\n",
    "del df_train['cancellation_policy']"
   ]
  },
  {
   "cell_type": "code",
   "execution_count": 24,
   "metadata": {},
   "outputs": [],
   "source": [
    "df_cancellation_policy = pd.get_dummies(df_test['cancellation_policy']).astype(int)\n",
    "df_test = pd.concat([df_test, df_cancellation_policy], axis=1)\n",
    "\n",
    "# Delete 'cancellation_policy' column from df_train\n",
    "del df_test['cancellation_policy']"
   ]
  },
  {
   "cell_type": "markdown",
   "metadata": {},
   "source": [
    "### Feature: city"
   ]
  },
  {
   "cell_type": "code",
   "execution_count": 25,
   "metadata": {},
   "outputs": [
    {
     "name": "stdout",
     "output_type": "stream",
     "text": [
      "NYC        22255\n",
      "LA         15381\n",
      "SF          4487\n",
      "DC          3893\n",
      "Chicago     2585\n",
      "Boston      2391\n",
      "Name: city, dtype: int64\n"
     ]
    }
   ],
   "source": [
    "print(df_train['city'].value_counts())"
   ]
  },
  {
   "cell_type": "code",
   "execution_count": 26,
   "metadata": {},
   "outputs": [
    {
     "name": "stdout",
     "output_type": "stream",
     "text": [
      "[]\n"
     ]
    }
   ],
   "source": [
    "# Find the difference between 'city' fearure in both dataframes\n",
    "df1 = df_train.city.unique()\n",
    "df2 = df_test.city.unique()\n",
    "diff = list(set(df1) - set(df2))\n",
    "print(diff)\n",
    "\n",
    "# Create new features from city\n",
    "df_city = pd.get_dummies(df_train['city']).astype(int)\n",
    "df_train = pd.concat([df_train, df_city], axis=1)\n",
    "\n",
    "# # Delete 'city' column from df_train\n",
    "# del df_train['city']\n",
    "# df_train"
   ]
  },
  {
   "cell_type": "code",
   "execution_count": 27,
   "metadata": {},
   "outputs": [],
   "source": [
    "# Create new features from city\n",
    "df_city = pd.get_dummies(df_test['city'])\n",
    "df_test = pd.concat([df_test, df_city], axis=1)"
   ]
  },
  {
   "cell_type": "markdown",
   "metadata": {},
   "source": [
    "### Feature: description"
   ]
  },
  {
   "cell_type": "code",
   "execution_count": 28,
   "metadata": {},
   "outputs": [],
   "source": [
    "# Delete column from df_train\n",
    "del df_train['description']"
   ]
  },
  {
   "cell_type": "code",
   "execution_count": 29,
   "metadata": {},
   "outputs": [],
   "source": [
    "# Delete column from df_train\n",
    "del df_test['description']"
   ]
  },
  {
   "cell_type": "markdown",
   "metadata": {},
   "source": [
    "### Feature: first_review"
   ]
  },
  {
   "cell_type": "code",
   "execution_count": 30,
   "metadata": {},
   "outputs": [],
   "source": [
    "# Transform object/string Date/Time data to datetime\n",
    "df_train['first_review'] = pd.to_datetime(df_train['first_review'])\n",
    "\n",
    "# Delete column from df_train\n",
    "del df_train['first_review']"
   ]
  },
  {
   "cell_type": "code",
   "execution_count": 31,
   "metadata": {},
   "outputs": [],
   "source": [
    "# Delete column from df_train\n",
    "del df_test['first_review']"
   ]
  },
  {
   "cell_type": "markdown",
   "metadata": {},
   "source": [
    "### Feature: host_has_profile_pic"
   ]
  },
  {
   "cell_type": "code",
   "execution_count": 32,
   "metadata": {},
   "outputs": [],
   "source": [
    "# Replace t with 1, f with 0 and NaN with 0 of host_identity_verified feature\n",
    "df_train['host_has_profile_pic'].mask(df_train['host_has_profile_pic'] == \"t\", \"1\", inplace=True)\n",
    "df_train['host_has_profile_pic'].mask(df_train['host_has_profile_pic'] == \"f\", \"0\", inplace=True)\n",
    "df_train['host_has_profile_pic'].fillna(0.0, inplace=True)\n",
    "\n",
    "# Convert Data Type to Float\n",
    "df_train['host_has_profile_pic'] = df_train['host_has_profile_pic'].astype(float)"
   ]
  },
  {
   "cell_type": "code",
   "execution_count": 33,
   "metadata": {},
   "outputs": [],
   "source": [
    "# Replace t with 1, f with 0 and NaN with 0 of host_identity_verified feature\n",
    "df_test['host_has_profile_pic'].mask(df_test['host_has_profile_pic'] == \"t\", \"1\", inplace=True)\n",
    "df_test['host_has_profile_pic'].mask(df_test['host_has_profile_pic'] == \"f\", \"0\", inplace=True)\n",
    "df_test['host_has_profile_pic'].fillna(0.0, inplace=True)\n",
    "\n",
    "# Convert Data Type to Float\n",
    "df_test['host_has_profile_pic'] = df_test['host_has_profile_pic'].astype(float)"
   ]
  },
  {
   "cell_type": "markdown",
   "metadata": {},
   "source": [
    "### Feature: host_identity_verified"
   ]
  },
  {
   "cell_type": "code",
   "execution_count": 34,
   "metadata": {},
   "outputs": [],
   "source": [
    "# Replace t with 1, f with 0 and NaN with 0 of host_identity_verified feature\n",
    "df_train['host_identity_verified'].mask(df_train['host_identity_verified'] == \"t\", \"1\", inplace=True)\n",
    "df_train['host_identity_verified'].mask(df_train['host_identity_verified'] == \"f\", \"0\", inplace=True)\n",
    "df_train['host_identity_verified'].fillna(0.0, inplace=True)\n",
    "\n",
    "# Convert Data Type to Float\n",
    "df_train['host_identity_verified'] = df_train['host_identity_verified'].astype(float)"
   ]
  },
  {
   "cell_type": "code",
   "execution_count": 35,
   "metadata": {},
   "outputs": [],
   "source": [
    "# Replace t with 1, f with 0 and NaN with 0 of host_identity_verified feature\n",
    "df_test['host_identity_verified'].mask(df_test['host_identity_verified'] == \"t\", \"1\", inplace=True)\n",
    "df_test['host_identity_verified'].mask(df_test['host_identity_verified'] == \"f\", \"0\", inplace=True)\n",
    "df_test['host_identity_verified'].fillna(0.0, inplace=True)\n",
    "\n",
    "# Convert Data Type to Float\n",
    "df_test['host_identity_verified'] = df_test['host_identity_verified'].astype(float)"
   ]
  },
  {
   "cell_type": "markdown",
   "metadata": {},
   "source": [
    "### Feature: host_response_rate"
   ]
  },
  {
   "cell_type": "code",
   "execution_count": 36,
   "metadata": {},
   "outputs": [
    {
     "name": "stdout",
     "output_type": "stream",
     "text": [
      "12549\n"
     ]
    }
   ],
   "source": [
    "# Find the missing values\n",
    "print(df_train['host_response_rate'].isnull().sum())"
   ]
  },
  {
   "cell_type": "code",
   "execution_count": 37,
   "metadata": {},
   "outputs": [],
   "source": [
    "# Delete % sign from host_response_rate data and convert the data from object to integer\n",
    "df_train['host_response_rate'] = df_train['host_response_rate'].str.replace('%', '')\n",
    "df_train['host_response_rate'].fillna(0, inplace=True)\n",
    "\n",
    "# Convert data type to Integer\n",
    "df_train['host_response_rate'] = df_train['host_response_rate'].astype(int)\n",
    "\n",
    "# Mean of host_response_rate without considering 0 values \n",
    "mean_host_response_rate = round(df_train['host_response_rate'].mean(skipna=True))\n",
    "\n",
    "# Replace 0 with Mean value\n",
    "df_train['host_response_rate'].mask(df_train['host_response_rate'] == 0, mean_host_response_rate, inplace=True)"
   ]
  },
  {
   "cell_type": "code",
   "execution_count": 38,
   "metadata": {},
   "outputs": [],
   "source": [
    "# Delete % sign from host_response_rate data and convert the data from object to integer\n",
    "df_test['host_response_rate'] = df_test['host_response_rate'].str.replace('%', '')\n",
    "df_test['host_response_rate'].fillna(0, inplace=True)\n",
    "\n",
    "# Convert data type to Integer\n",
    "df_test['host_response_rate'] = df_test['host_response_rate'].astype(int)\n",
    "\n",
    "# Mean of host_response_rate without considering 0 values \n",
    "mean_host_response_rate = round(df_test['host_response_rate'].mean(skipna=True))\n",
    "\n",
    "# Replace 0 with Mean value\n",
    "df_test['host_response_rate'].mask(df_test['host_response_rate'] == 0, mean_host_response_rate, inplace=True)"
   ]
  },
  {
   "cell_type": "markdown",
   "metadata": {},
   "source": [
    "### Feature: host_since"
   ]
  },
  {
   "cell_type": "code",
   "execution_count": 39,
   "metadata": {},
   "outputs": [
    {
     "name": "stdout",
     "output_type": "stream",
     "text": [
      "2014\n"
     ]
    }
   ],
   "source": [
    "# Transform object/string Date/Time data to datetime\n",
    "df_train['host_since'] = pd.to_datetime(df_train['host_since'])\n",
    "\n",
    "df_train['host_since_year'] = df_train['host_since'].dt.year\n",
    "print(round(df_train['host_since_year'].mean(skipna=True)))\n",
    "df_train['host_since_year'].fillna(round(df_train['host_since_year'].mean()), inplace=True)\n",
    "\n",
    "# Delete column from df_train\n",
    "del df_train['host_since']"
   ]
  },
  {
   "cell_type": "code",
   "execution_count": 40,
   "metadata": {},
   "outputs": [
    {
     "name": "stdout",
     "output_type": "stream",
     "text": [
      "2014\n"
     ]
    }
   ],
   "source": [
    "# Transform object/string Date/Time data to datetime\n",
    "df_test['host_since'] = pd.to_datetime(df_test['host_since'])\n",
    "\n",
    "df_test['host_since_year'] = df_test['host_since'].dt.year\n",
    "print(round(df_test['host_since_year'].mean(skipna=True)))\n",
    "df_test['host_since_year'].fillna(round(df_test['host_since_year'].mean()), inplace=True)\n",
    "\n",
    "# Delete column from df_train\n",
    "del df_test['host_since']"
   ]
  },
  {
   "cell_type": "markdown",
   "metadata": {},
   "source": [
    "### Feature: instant_bookable"
   ]
  },
  {
   "cell_type": "code",
   "execution_count": 41,
   "metadata": {},
   "outputs": [
    {
     "name": "stdout",
     "output_type": "stream",
     "text": [
      "f    37655\n",
      "t    13337\n",
      "Name: instant_bookable, dtype: int64\n"
     ]
    }
   ],
   "source": [
    "print(df_train['instant_bookable'].value_counts())"
   ]
  },
  {
   "cell_type": "code",
   "execution_count": 42,
   "metadata": {},
   "outputs": [],
   "source": [
    "# Replace t with 1, f with 0 and NaN with 0 of host_identity_verified feature\n",
    "df_train['instant_bookable'].mask(df_train['instant_bookable'] == \"t\", \"1\", inplace=True)\n",
    "df_train['instant_bookable'].mask(df_train['instant_bookable'] == \"f\", \"0\", inplace=True)\n",
    "\n",
    "# Convert Data Type to Integer\n",
    "df_train['instant_bookable'] = df_train['instant_bookable'].astype(int)"
   ]
  },
  {
   "cell_type": "code",
   "execution_count": 43,
   "metadata": {},
   "outputs": [],
   "source": [
    "# Replace t with 1, f with 0 and NaN with 0 of host_identity_verified feature\n",
    "df_test['instant_bookable'].mask(df_test['instant_bookable'] == \"t\", \"1\", inplace=True)\n",
    "df_test['instant_bookable'].mask(df_test['instant_bookable'] == \"f\", \"0\", inplace=True)\n",
    "\n",
    "# Convert Data Type to Integer\n",
    "df_test['instant_bookable'] = df_test['instant_bookable'].astype(int)"
   ]
  },
  {
   "cell_type": "markdown",
   "metadata": {},
   "source": [
    "### Feature: last_review"
   ]
  },
  {
   "cell_type": "code",
   "execution_count": 44,
   "metadata": {},
   "outputs": [],
   "source": [
    "# Transform object/string Date/Time data to datetime\n",
    "df_train['last_review'] = pd.to_datetime(df_train['last_review'])\n",
    "\n",
    "# Create new Feature with Year\n",
    "df_train['last_review_year'] = df_train['last_review'].dt.year\n",
    "\n",
    "# Replace NaN with 0 value\n",
    "df_train['last_review_year'].fillna(0, inplace=True)\n",
    "\n",
    "# Create new features from neighbourhood\n",
    "df_last_review_year = pd.get_dummies(df_train['last_review_year']).astype(int)\n",
    "df_train = pd.concat([df_train, df_last_review_year], axis=1)\n",
    "\n",
    "# Delete column from df_train\n",
    "del df_train['last_review']"
   ]
  },
  {
   "cell_type": "code",
   "execution_count": 45,
   "metadata": {},
   "outputs": [],
   "source": [
    "# Transform object/string Date/Time data to datetime\n",
    "df_test['last_review'] = pd.to_datetime(df_test['last_review'])\n",
    "\n",
    "# Create new Feature with Year\n",
    "df_test['last_review_year'] = df_test['last_review'].dt.year\n",
    "\n",
    "# Replace NaN with 0 value\n",
    "df_test['last_review_year'].fillna(0, inplace=True)\n",
    "\n",
    "# Create new features from neighbourhood\n",
    "df_last_review_year = pd.get_dummies(df_test['last_review_year']).astype(int)\n",
    "df_test = pd.concat([df_test, df_last_review_year], axis=1)\n",
    "\n",
    "# Delete column from df_train\n",
    "del df_test['last_review']"
   ]
  },
  {
   "cell_type": "markdown",
   "metadata": {},
   "source": [
    "### Feature: 'name'"
   ]
  },
  {
   "cell_type": "code",
   "execution_count": 46,
   "metadata": {},
   "outputs": [],
   "source": [
    "# Delete column from df_train\n",
    "del df_train['name']"
   ]
  },
  {
   "cell_type": "code",
   "execution_count": 47,
   "metadata": {},
   "outputs": [],
   "source": [
    "# Delete column from df_train\n",
    "del df_test['name']"
   ]
  },
  {
   "cell_type": "code",
   "execution_count": 48,
   "metadata": {},
   "outputs": [
    {
     "name": "stdout",
     "output_type": "stream",
     "text": [
      "(50992, 88) (23111, 89)\n"
     ]
    }
   ],
   "source": [
    "print(df_train.shape, df_test.shape)"
   ]
  },
  {
   "cell_type": "markdown",
   "metadata": {},
   "source": [
    "### Feature: neighbourhood"
   ]
  },
  {
   "cell_type": "code",
   "execution_count": 49,
   "metadata": {},
   "outputs": [],
   "source": [
    "def remove_whitespace(x):\n",
    "    try:\n",
    "        # remove spaces inside and outside of string\n",
    "        x = \"\".join(x.split())\n",
    "\n",
    "    except:\n",
    "        pass\n",
    "    return x\n",
    "\n",
    "# Apply remove_whitespace to column only\n",
    "df_train['neighbourhood'] = df_train['neighbourhood'].apply(remove_whitespace)\n",
    "\n",
    "# Apply to remove_whitespace to entire Dataframe\n",
    "# df = df.applymap(remove_whitespace)\n",
    "# print(df)"
   ]
  },
  {
   "cell_type": "code",
   "execution_count": 50,
   "metadata": {},
   "outputs": [],
   "source": [
    "# Delete special charecter from column string\n",
    "df_train['neighbourhood'] = df_train['neighbourhood'].str.replace('\"', '')\n",
    "\n",
    "mapping = dict(df_train.dropna()[['zipcode', 'neighbourhood']].values)\n",
    "df_train['neighbourhood'].fillna(df_train['zipcode'].map(mapping), inplace=True)\n",
    "\n",
    "# df_train.dropna(how='any', inplace=True)\n",
    "\n",
    "df_train = df_train[pd.notnull(df_train['neighbourhood'])]\n",
    "\n",
    "# Create new features from neighbourhood\n",
    "df_neighbourhood = pd.get_dummies(df_train['neighbourhood']).astype(int)\n",
    "df_train = pd.concat([df_train, df_neighbourhood], axis=1)\n",
    "\n",
    "# # Delete column from df_train\n",
    "# del df_train['neighbourhood']"
   ]
  },
  {
   "cell_type": "code",
   "execution_count": 51,
   "metadata": {},
   "outputs": [],
   "source": [
    "# Delete special charecter from column string\n",
    "df_test['neighbourhood'] = df_test['neighbourhood'].str.replace('\"', '')\n",
    "\n",
    "mapping = dict(df_test.dropna()[['zipcode', 'neighbourhood']].values)\n",
    "df_test['neighbourhood'].fillna(df_test['zipcode'].map(mapping), inplace=True)\n",
    "\n",
    "# Create new features from neighbourhood\n",
    "df_neighbourhood = pd.get_dummies(df_test['neighbourhood']).astype(int)\n",
    "df_test = pd.concat([df_test, df_neighbourhood], axis=1)\n",
    "\n",
    "# # Delete column from df_train\n",
    "# del df_test['neighbourhood']"
   ]
  },
  {
   "cell_type": "code",
   "execution_count": 52,
   "metadata": {},
   "outputs": [
    {
     "name": "stdout",
     "output_type": "stream",
     "text": [
      "['TimesSquare/TheatreDistrict', 'WestFarms', 'HuntingtonPark', 'PacificHeights', 'RedHook', 'SpuytenDuyvil', 'FortDupont', 'GlenPark', 'EastCorner', 'OldTown', 'BrooklynNavyYard', 'HilcrestHeights/MarlowHeights,MD', 'WoodlandHills/WarnerCenter', 'SouthChicago', 'WestHollywood', 'WesleyHeights', 'TwinPeaks', 'CulverCity', 'PresidioHeights', 'MountWashington', \"O'Hare\", 'MarinersHarbor', 'LincolnPark', 'TheCastro', 'GloverPark', 'Huguenot', 'McKinleyPark', 'NorthCenter', 'Cambridge', 'Annadale', 'DowntownBrooklyn', 'GreenwichVillage', 'ConeyIsland', 'BathBeach', 'NewBrighton', 'BenningRidge', 'KingsbridgeHeights', 'MillBasin', 'ShepherdPark', 'ParkView', 'FortWadsworth', 'Graniteville', 'LeDroitPark', 'NewDorpBeach', 'AuburnGresham', 'SilverLake', 'DupontCircle', 'NorthHillsWest', 'WindsorTerrace', 'GlassellPark', 'WestPortal', 'MurrayHill', 'ArtsDistrict', 'NearNortheast', 'Tottenville', 'BaldwinHills', 'PortMorris', 'CentralNortheast/MahaningHeights', 'HayesValley', 'DiamondHeights', 'UniversityHeights', 'Vernon', 'Arleta', 'HydePark', 'LongBeach', 'RoscoeVillage', 'Westchester/PlayaDelRey', 'WashingtonPark', 'BeverlyHills', 'NaylorGardens', 'WashingtonHeights', 'HudsonSquare', 'CahuengaPass', 'NorthLawndale', 'MeatpackingDistrict', 'HuntsPoint', 'SierraMadre', 'NobHill', 'IvyCity', 'CapitolHill', 'ArmourSquare', 'Artesia', 'EastBoston', 'SanMarino', 'LighthouseHIll', 'EastHollywood', 'Co-opCity', 'LaurelCanyon', 'SkidRow', 'TakomaPark,MD', 'WesternAddition/NOPA', 'WestLawn', 'FreshMeadows', 'NorthMichiganPark', 'SouthLA', 'LaHabra', 'UnionSquare', 'UStreetCorridor', 'MarinePark', 'LosFeliz', 'NorthPark', 'MarshallHeights', 'BrightonPark', 'GarfieldPark', 'StudioCity', 'BernalHeights', 'RichmondHill', 'ShermanOaks', 'PalosVerdes', 'CarverLangston', 'KingmanPark', 'FlatironDistrict', 'AlondraPark', 'DykerHeights', 'EastNewYork', 'ForestHills', 'MountPleasant', 'MontereyPark', 'WestElsdon', 'FortGreene', 'ElysianValley', 'RiverTerrace', 'RiverNorth', 'LaCrescenta-Montrose', 'OzonePark', 'SeaGate', 'EchoPark', 'TheBronx', 'RollingHillsEstates', 'ElSegundo', 'GrantCity', 'WestLosAngeles', 'MidlandBeach', 'MottHaven', 'UpperEastSide', 'BarryFarm', 'GrandCrossing', 'FriendshipHeights', 'CowHollow', 'Pullman', 'MtRainier/Brentwood,MD', 'LaCanadaFlintridge', 'AlamoSquare', 'SouthGate', 'JacksonHeights', 'FoggyBottom', 'DowntownCrossing', 'CarrollGardens', 'CobbleHill', 'EastHarlem', 'ColonialVillage', 'WestCovina', 'PortRichmond', 'WestAthens', 'NorthEnd', 'NearNortheast/HStreetCorridor', 'PleasantPlains', 'Woodland', 'PorterRanch', 'DelRey', 'NearWestSide', \"Hell'sKitchen\", 'LittleItaly/UIC', 'TelegraphHill', 'SilverSpring,MD', 'HawaiianGardens', 'CollegePoint', 'RollingHills', 'ManhattanBeach', 'LeffertsGarden', 'GoodHope', 'BackBay', 'LamondRiggs', 'WoodleyPark', 'LaMirada', 'SantaFeSprings', 'WestRoxbury', 'MissionHills', 'BarneyCircle', 'St.George', 'FortTotten', 'MeiersCorners', 'Mt.Pleasant', 'WestLoop/Greektown', 'EastElmhurst', 'TruxtonCircle', 'AlbanyPark', 'PacificPalisades', 'MidtownEast', 'MorrisPark', 'ParkVersailles', 'LakeBalboa', 'GovernmentCenter', 'SunsetPark', 'BedfordPark', 'KipsBay', 'CanogaPark', 'EastVillage', 'ThrogsNeck', 'WickerPark', 'LittleItaly', 'LincolnHeights', 'VisitacionValley', 'RandleHighlands', 'MissionBay', 'AmericanUniversityPark', 'CastleHill', 'SanPedro', 'LoganSquare', 'ElmPark', 'EastFlatbush', 'Commerce', 'WashingtonHighlands', 'PortagePark', 'GramercyPark', \"Fisherman'sWharf\", 'LongIslandCity', 'GoldCoast', 'EastlandGardens', 'HarborGateway', 'WestchesterVillage', 'WestVillage', 'MarinaDelRey', 'JeffersonPark', 'SouthRobertson', 'BrooklynHeights', 'ElMonte', 'SignalHill', 'SouthEnd', 'SheepsheadBay', 'LowerEastSide', 'GranadaHillsNorth', 'GarfieldHeights', 'NoeValley', 'ClintonHill', 'NorwoodPark', 'RandallManor', \"OldSoldiers'Home\", 'EdisonPark', 'Rossville', 'EastSanGabriel', 'SouthShore', 'NearNorthSide', 'UpperWestSide', 'ColumbiaHeights', 'LincolnSquare', 'RooseveltIsland', 'BaldwinPark', 'HamiltonHeights', 'ValleyVillage', 'BayRidge', 'FinancialDistrict', 'MissionDistrict', 'MissionHill', 'ProspectHeights', 'ColumbiaStreetWaterfront', 'LaPuente', 'BoerumHill', 'PicoRivera', 'ClevelandPark', 'BergenBeach', 'TempleCity', 'OuterSunset', 'SouthStreetSeaport', 'PelhamBay', 'SpringValley', 'ConcourseVillage', 'Paramount', 'CityIsland', 'LoganCircle', 'SunValley', 'TheRockaways', 'MorrisHeights', 'MorganPark', 'SouthSanGabriel', 'DalyCity', 'GreatKills', 'RiverWest', 'HumboldtPark', 'MarbleHill', 'DuboceTriangle', 'DupontPark', 'SantaMonica', 'NorthHollywood', 'BalboaTerrace', 'EagleRock', 'MountVernonSquare', 'PleasantHill', 'AtwaterVillage', 'CoolidgeCorner', 'Ditmars/Steinway', 'MassachusettsHeights', 'Ashburn', 'WestAdams', 'FortLincoln', 'MissionTerrace', 'HarborCity', 'JamaicaPlain', 'Eltingville', 'PotreroHill', 'Benning', 'GreenwoodHeights', 'NorthHillsEast', 'WestTown/NobleSquare', 'CivicCenter', 'SouthBeach', 'WestEnd', 'HollywoodHills', 'Downtown/PennQuarter', 'NorthBeach', 'HighlandPark', 'ChestnutHill', 'RichmondDistrict', 'Clifton', 'SanGabriel', 'SouthBoston', 'HermosaBeach', 'ManorPark', 'MarVista', 'CrockerAmazon', 'MontereyHills', 'CastletonCorners', 'TodtHill', 'ColeValley', 'EastLosAngeles', 'BenningHeights', 'WestBrighton', 'AdamsMorgan', 'ObservatoryCircle', 'JudiciarySquare', 'RanchoPalosVerdes', 'NavyYard', 'RogersPark', 'NorthClevelandPark', 'BeaconHill', 'CypressPark', 'VinegarHill', 'SouthPasadena', 'InnerSunset', 'ElSereno', 'ShipleyTerrace', 'WestHills', 'MichiganPark', 'ChevyChase', 'ArcherHeights', 'SouthOzonePark', 'CongressHeights', 'SouthwestWaterfront', 'Arboretum', 'BelAir/BeverlyCrest', 'Winthrop', 'SeaCliff', 'BuenaVista', 'UkrainianVillage', 'BackoftheYards', 'RedondoBeach', 'MountEden', 'TolucaLake', 'WestPuenteValley', 'VanNuys', 'Montebello', 'Hillbrook', 'ForestHill', 'IrvingPark', 'CrownHeights', 'BatteryParkCity', 'RegoPark', 'TheaterDistrict', 'HowardBeach', 'Chillum,MD', 'VanNest', 'BoyleHeights', 'ParkSlope', 'DonganHills', 'RussianHill', 'LittleVillage', 'BoroughPark', 'SouthLoop/PrintersRow', '16thStreetHeights', 'MontecitoHeights', 'Skyland', 'Lindenwood', 'CathedralHeights', 'GrymesHill', 'LeatherDistrict', 'SouthWhittier', 'SouthElMonte', 'LowerHaight', 'MorningsideHeights', 'FortDavis', 'WestRidge', 'BrightonBeach', 'PanoramaCity', 'BelmontCragin', 'MiddleVillage', 'ValleyGlen', 'AlphabetCity', 'KewGardenHills', 'GarfieldRidge', 'St.Elizabeths']\n",
      "[nan, 'Gramercy Park', 'North Beach', 'North Park', \"Fisherman's Wharf\", 'Spring Valley', 'Sheepshead Bay', 'Central Northeast/Mahaning Heights', 'Murray Hill', 'Atwater Village', 'Carver Langston', 'Concourse Village', 'Lincoln Square', 'Mt. Vernon Square', 'Lower East Side', 'Valley Village', 'Del Rey', 'Lower Haight', 'Daly City', 'Los Feliz', \"Hell's Kitchen\", 'Boyle Heights', 'Highland Park', 'Kingsbridge Heights', 'Humboldt Park', 'La Canada Flintridge', 'Hudson Square', 'Manor Park', 'Mission Terrace', 'Harbor City', 'Clearing', 'Ivy City', 'Culver City', 'Kew Garden Hills', 'Forest Hills', 'The Castro', 'Granada Hills North', 'Grymes Hill', 'Little Italy/UIC', 'Fort Wadsworth', 'Beacon Hill', 'Colonial Village', 'Mount Vernon Square', 'Old Town', 'Glover Park', 'Mount Washington', 'Co-op City', 'Sherman Oaks', 'South Boston', 'Roosevelt Island', 'Castle Hill ', 'Gold Coast', 'Marine Park', 'Benning Heights', 'Bethesda, MD', 'Woodley Park', 'Portage Park', 'Cathedral Heights', 'Sea Cliff', 'Fresh Meadows', 'Harvard Square', 'Red Hook', 'Hollywood Hills', 'Mariners Harbor', 'Washington Highlands', 'Monterey Hills', 'LeDroit Park', 'Long Island City', 'Pico Rivera', 'Upper East Side', 'West Portal', 'Chevy Chase, MD', 'Southwest Waterfront', 'Friendship Heights', 'Toluca Lake', 'West Loop/Greektown', 'The Bronx', 'Brooklyn Navy Yard', 'Brooklyn Heights', 'Mott Haven', 'East Harlem', 'Mission Hill', 'College Point', 'Crocker Amazon', 'Balboa Terrace', 'Laurel Canyon', 'El Sereno', 'Pleasant Hill', 'North Cleveland Park', 'Vinegar Hill', 'Buena Vista', 'Morgan Park', 'North Lawndale', 'East Boston', 'Harbor Gateway', 'Cow Hollow', 'Albany Park', 'Chevy Chase', 'Downtown Brooklyn', 'Morris Heights', 'Cahuenga Pass', 'Lincoln Heights', 'Great Kills', 'Hayes Valley', 'McKinley Park', 'Greenwich Village', 'Windsor Terrace', 'Dupont Park', 'Morris Park', 'West End', 'San Marino', 'South Chicago', 'San Pedro', 'Back of the Yards', 'East Elmhurst', 'Park Versailles', 'Coney Island', 'Midtown East', 'Mt Rainier/Brentwood, MD', 'Beverly Hills', 'Potrero Hill', 'Westchester/Playa Del Rey', 'West Ridge', 'Near Northeast/H Street Corridor', 'West Roxbury', 'South San Gabriel', 'Palos Verdes', 'Montecito Heights', 'U Street Corridor', 'Emerson Hill', 'Chestnut Hill', 'Fort Greene', 'East Corner', 'Dyker Heights', 'Jefferson Park', 'Lincoln Park', 'San Gabriel', 'Telegraph Hill', 'Carroll Gardens', 'Alamo Square', 'Sea Gate', 'East Village', 'Richmond District', 'Howard Beach', 'Good Hope', 'Rogers Park', 'Outer Sunset', 'Arts District', 'Sierra Madre', 'Lefferts Garden', 'Jamaica Plain', 'North Michigan Park', 'Times Square/Theatre District', 'Government Center', 'North Hills West', 'New Springville', 'Meatpacking District', 'Cole Valley', 'Canoga Park', 'North Hollywood', 'Norwood Park', 'Mission Hills', 'Marshall Heights', 'Financial District', 'Sunset Park', 'Cleveland Park', 'Signal Hill', 'West Village', 'Upper West Side', 'American University Park', 'New Brighton', 'Forest Hill', 'Mount Eden', 'East San Gabriel', 'Elysian Valley', 'Jackson Heights', 'West Hollywood', 'Naylor Gardens', 'East Flatbush', 'Silver Spring, MD', 'Eagle Rock', 'Dupont Circle', 'Crown Heights', 'Navy Yard', 'Hawaiian Gardens', 'Rancho Palos Verdes', 'Park View', 'Manhattan Beach', 'Garfield Park', 'Noe Valley', 'Watertown', 'Monterey Park', 'Leather District', 'Duboce Triangle', 'Rego Park', 'South Shore', 'Little Village', 'Near West Side', 'Richmond Hill', 'West Puente Valley', 'Rolling Hills Estates', 'The Rockaways', 'Huntington Park', 'River West', 'Morningside Heights', 'Middle Village', 'Port Richmond', 'Somerville', 'Logan Square', 'South Whittier', 'Arrochar', 'Ozone Park', 'El Segundo', 'East Los Angeles', 'Baldwin Hills', 'Alondra Park', 'South Beach', 'Kips Bay', 'Gerritsen Beach', 'West Adams', 'Cobble Hill', 'North Center', 'Woodland Hills/Warner Center', 'La Crescenta-Montrose', 'Back Bay', 'Visitacion Valley', 'Glassell Park', 'Lamond Riggs', 'Randle Highlands', 'Echo Park', 'Redondo Beach', 'Downtown Crossing', 'Wesley Heights', 'Long Beach', 'Benning Ridge', 'Newton', 'South Robertson', 'Ditmars / Steinway', 'Montclare', 'West Covina', 'Panorama City', 'Greenwood Heights', 'River North', 'Civic Center', 'Barney Circle', 'Wicker Park', 'Skid Row', 'St. Elizabeths', 'South LA', 'Irwindale', 'Bay Ridge', 'Judiciary Square', 'Irving Park', 'Presidio Heights', 'Hamilton Heights', 'Adams Morgan', 'West Town', 'Pacific Heights', 'Foggy Bottom', 'Prospect Heights', 'South Pasadena', 'Throgs Neck', 'Silver Lake', 'Marble Hill', 'Alphabet City', 'Pelham Bay', 'Van Nuys', 'South El Monte', 'Park Slope', 'Roscoe Village', 'West Brighton', 'South Ozone Park', 'Mar Vista', 'Glen Park', 'La Mirada', 'Midland Beach', 'Country Club', 'Pacific Palisades', 'Washington Heights', 'Magnificent Mile', 'Suitland-Silver Hill, MD', 'Hermosa Beach', 'Truxton Circle', 'Western Addition/NOPA', 'Russian Hill', 'Temple City', 'Borough Park', 'River Terrace', '16th Street Heights', 'East Hollywood', 'St. George', 'Downtown/Penn Quarter', 'South Street Seaport', 'South Loop/Printers Row', 'Theater District', 'South End', 'Mount Pleasant', 'Boerum Hill', 'Hunts Point', 'Pleasant Plains', 'Ukrainian Village', 'North End', 'Sun Valley', 'Fort Lincoln', 'Hyde Park', 'Flatiron District', 'West Town/Noble Square', 'Valley Glen', 'Clinton Hill', 'North Hills East', 'Columbia Heights', 'Battery Park City', 'Santa Monica', 'West Hills', 'Elm Park', 'Spuyten Duyvil', 'East New York', 'El Monte', 'Brighton Beach', 'Wilmington', 'Diamond Heights', 'Mission Bay', 'West Los Angeles', 'Nob Hill', 'Logan Circle', 'Bergen Beach', 'Armour Square', 'Michigan Park', 'University Heights', 'Studio City', 'Marina Del Rey', 'Oakwood', 'Mission District', 'Little Italy', 'Printers Row', 'Belmont Cragin', 'Columbia Street Waterfront', 'Kingman Park', 'Capitol Hill', 'Bel Air/Beverly Crest', 'Shepherd Park', 'Porter Ranch', 'Near North Side', 'Lake Balboa', 'Inner Sunset', 'Twin Peaks', 'Bath Beach', 'City Island', 'Union Square', 'Bernal Heights', 'Bedford Park', 'Bell']\n"
     ]
    }
   ],
   "source": [
    "df1 = df_train.neighbourhood.unique()\n",
    "df2 = df_test.neighbourhood.unique()\n",
    "diff = list(set(df1) - set(df2))\n",
    "print(diff)\n",
    "\n",
    "diff = list(set(df2)-set(df1))\n",
    "print(diff)"
   ]
  },
  {
   "cell_type": "code",
   "execution_count": 53,
   "metadata": {},
   "outputs": [
    {
     "name": "stdout",
     "output_type": "stream",
     "text": [
      "(50057, 685) (23111, 637)\n"
     ]
    }
   ],
   "source": [
    "print(df_train.shape, df_test.shape)"
   ]
  },
  {
   "cell_type": "code",
   "execution_count": 54,
   "metadata": {},
   "outputs": [],
   "source": [
    "# df_train.columns = df_train.columns.to_series().apply(lambda x: x.strip())\n",
    "# df_test.columns = df_test.columns.to_series().apply(lambda x: x.strip())\n"
   ]
  },
  {
   "cell_type": "code",
   "execution_count": 55,
   "metadata": {},
   "outputs": [],
   "source": [
    "del df_train['neighbourhood']\n",
    "del df_test['neighbourhood']"
   ]
  },
  {
   "cell_type": "markdown",
   "metadata": {},
   "source": [
    "### Feature: review_scores_rating"
   ]
  },
  {
   "cell_type": "code",
   "execution_count": 56,
   "metadata": {},
   "outputs": [
    {
     "name": "stdout",
     "output_type": "stream",
     "text": [
      "Unique Values in the Column: ['20-29' '30-39' '40-49' '50-59' '60-69' '70-79' '80-84' '85-89' '90-94'\n",
      " '95-100' 'No Reviews']\n"
     ]
    }
   ],
   "source": [
    "# Replace NaN with No Reviews value in review_scores_rating feature / column\n",
    "df_train['review_scores_rating'].fillna('No Reviews', inplace=True)\n",
    "\n",
    "# convert review_scores_rating into buckets\n",
    "def convert_scores_buckets(val):\n",
    "    if val == 'No Reviews':\n",
    "        return 'No Reviews'\n",
    "    elif val >= 95:\n",
    "        return '95-100'\n",
    "    elif val >= 90 and val < 95:\n",
    "        return '90-94'\n",
    "    elif val >= 85 and val < 90:\n",
    "        return '85-89'\n",
    "    elif val >= 80 and val < 85:\n",
    "        return '80-84'\n",
    "    elif val >= 70 and val < 80:\n",
    "        return '70-79'\n",
    "    elif val >= 60 and val < 70:\n",
    "        return '60-69'\n",
    "    elif val >= 50 and val < 60:\n",
    "        return '50-59'\n",
    "    elif val >= 40 and val < 50:\n",
    "        return '40-49'\n",
    "    elif val >= 30 and val < 40:\n",
    "        return '30-39'\n",
    "    elif val >= 20 and val < 30:\n",
    "        return '20-29'\n",
    "    elif val >= 10 and val < 20:\n",
    "        return '10-19'\n",
    "    elif val < 10:\n",
    "        return '0-9'\n",
    "\n",
    "df_train['review_scores_rating'] = df_train['review_scores_rating'].apply(convert_scores_buckets)\n",
    "print ('Unique Values in the Column:', np.unique(df_train['review_scores_rating']))\n",
    "# print(df_train['review_scores_rating'].value_counts())\n",
    "\n",
    "# Create new features from review_scores_rating\n",
    "df_review_scores_buckets = pd.get_dummies(df_train['review_scores_rating']).astype(int)\n",
    "df_train = pd.concat([df_train, df_review_scores_buckets], axis=1)\n",
    "\n",
    "# Delete column from df_train\n",
    "del df_train['review_scores_rating']"
   ]
  },
  {
   "cell_type": "code",
   "execution_count": 57,
   "metadata": {},
   "outputs": [
    {
     "name": "stdout",
     "output_type": "stream",
     "text": [
      "Unique Values in the Column: ['20-29' '30-39' '40-49' '50-59' '60-69' '70-79' '80-84' '85-89' '90-94'\n",
      " '95-100' 'No Reviews']\n"
     ]
    }
   ],
   "source": [
    "# Replace NaN with No Reviews value in review_scores_rating feature / column\n",
    "df_test['review_scores_rating'].fillna('No Reviews', inplace=True)\n",
    "\n",
    "# convert review_scores_rating into buckets\n",
    "def convert_scores_buckets(val):\n",
    "    if val == 'No Reviews':\n",
    "        return 'No Reviews'\n",
    "    elif val >= 95:\n",
    "        return '95-100'\n",
    "    elif val >= 90 and val < 95:\n",
    "        return '90-94'\n",
    "    elif val >= 85 and val < 90:\n",
    "        return '85-89'\n",
    "    elif val >= 80 and val < 85:\n",
    "        return '80-84'\n",
    "    elif val >= 70 and val < 80:\n",
    "        return '70-79'\n",
    "    elif val >= 60 and val < 70:\n",
    "        return '60-69'\n",
    "    elif val >= 50 and val < 60:\n",
    "        return '50-59'\n",
    "    elif val >= 40 and val < 50:\n",
    "        return '40-49'\n",
    "    elif val >= 30 and val < 40:\n",
    "        return '30-39'\n",
    "    elif val >= 20 and val < 30:\n",
    "        return '20-29'\n",
    "    elif val >= 10 and val < 20:\n",
    "        return '10-19'\n",
    "    elif val < 10:\n",
    "        return '0-9'\n",
    "\n",
    "df_test['review_scores_rating'] = df_test['review_scores_rating'].apply(convert_scores_buckets)\n",
    "print ('Unique Values in the Column:', np.unique(df_test['review_scores_rating']))\n",
    "# print(df_train['review_scores_rating'].value_counts())\n",
    "\n",
    "# Create new features from review_scores_rating\n",
    "df_review_scores_buckets = pd.get_dummies(df_test['review_scores_rating']).astype(int)\n",
    "df_test = pd.concat([df_test, df_review_scores_buckets], axis=1)\n",
    "\n",
    "# Delete column from df_train\n",
    "del df_test['review_scores_rating']"
   ]
  },
  {
   "cell_type": "markdown",
   "metadata": {},
   "source": [
    "### Feature: thumbnail_url"
   ]
  },
  {
   "cell_type": "code",
   "execution_count": 58,
   "metadata": {},
   "outputs": [],
   "source": [
    "# Delete column from df_train\n",
    "del df_train['thumbnail_url']"
   ]
  },
  {
   "cell_type": "code",
   "execution_count": 59,
   "metadata": {},
   "outputs": [],
   "source": [
    "# Delete column from df_train\n",
    "del df_test['thumbnail_url']"
   ]
  },
  {
   "cell_type": "markdown",
   "metadata": {},
   "source": [
    "### Feature: zipcode"
   ]
  },
  {
   "cell_type": "code",
   "execution_count": 60,
   "metadata": {},
   "outputs": [
    {
     "name": "stdout",
     "output_type": "stream",
     "text": [
      "11211.0                                                       926\n",
      "90291                                                         861\n",
      "11221                                                         823\n",
      "94110                                                         715\n",
      "90046                                                         662\n",
      "20002                                                         646\n",
      "20009                                                         625\n",
      "20001                                                         546\n",
      "10019                                                         532\n",
      "90028                                                         527\n",
      "11222                                                         511\n",
      "90026                                                         500\n",
      "10002                                                         497\n",
      "10009.0                                                       481\n",
      "10025                                                         478\n",
      "11237                                                         452\n",
      "11215                                                         439\n",
      "10031                                                         433\n",
      "90036                                                         433\n",
      "10027                                                         429\n",
      "11216                                                         425\n",
      "11206                                                         406\n",
      "10036                                                         400\n",
      "10014                                                         383\n",
      "10029.0                                                       379\n",
      "10012                                                         375\n",
      "94114                                                         371\n",
      "10016                                                         369\n",
      "10011.0                                                       337\n",
      "90068                                                         336\n",
      "                                                             ... \n",
      "95202\\r\\r\\r\\r\\r\\r\\r\\n\\r\\r\\r\\r\\r\\r\\r\\n\\r\\r\\r\\r\\r\\r\\r\\n94158      1\n",
      "11239.0                                                         1\n",
      "90039-2715                                                      1\n",
      "11219.0                                                         1\n",
      "11362.0                                                         1\n",
      "10309                                                           1\n",
      "11385-2308                                                      1\n",
      "94103.0                                                         1\n",
      "90604                                                           1\n",
      "20001-4044                                                      1\n",
      "90606                                                           1\n",
      "11106.0                                                         1\n",
      "10000                                                           1\n",
      "10048                                                           1\n",
      "90701                                                           1\n",
      "20748                                                           1\n",
      "20007-3413                                                      1\n",
      "91001-2243                                                      1\n",
      "91523                                                           1\n",
      "90035-4475                                                      1\n",
      "10282.0                                                         1\n",
      "94118.0                                                         1\n",
      "10471.0                                                         1\n",
      "60628                                                           1\n",
      "90221                                                           1\n",
      "11377.0                                                         1\n",
      "10162                                                           1\n",
      "15074                                                           1\n",
      "60660-1448                                                      1\n",
      "20064                                                           1\n",
      "Name: zipcode, Length: 679, dtype: int64\n"
     ]
    }
   ],
   "source": [
    "print(df_train['zipcode'].value_counts())"
   ]
  },
  {
   "cell_type": "code",
   "execution_count": 61,
   "metadata": {},
   "outputs": [],
   "source": [
    "# Delete column from df_train\n",
    "del df_train['zipcode']"
   ]
  },
  {
   "cell_type": "code",
   "execution_count": 62,
   "metadata": {},
   "outputs": [],
   "source": [
    "# Delete column from df_train\n",
    "del df_test['zipcode']"
   ]
  },
  {
   "cell_type": "markdown",
   "metadata": {},
   "source": [
    "### Feature: bedrooms"
   ]
  },
  {
   "cell_type": "code",
   "execution_count": 63,
   "metadata": {},
   "outputs": [],
   "source": [
    "# Replace NaN with Mean value in bedrooms feature / column\n",
    "df_train['bedrooms'].fillna(round(df_train['bedrooms'].mean()), inplace=True)"
   ]
  },
  {
   "cell_type": "markdown",
   "metadata": {},
   "source": [
    "### Feature: beds"
   ]
  },
  {
   "cell_type": "code",
   "execution_count": 64,
   "metadata": {},
   "outputs": [],
   "source": [
    "# Replace NaN with Mean value in beds feature / column\n",
    "df_train['beds'].fillna(round(df_train['beds'].mean()), inplace=True)"
   ]
  },
  {
   "cell_type": "markdown",
   "metadata": {},
   "source": [
    "# Handle Outlier"
   ]
  },
  {
   "cell_type": "code",
   "execution_count": 65,
   "metadata": {},
   "outputs": [
    {
     "name": "stdout",
     "output_type": "stream",
     "text": [
      "mean 4.7845472369980016\n",
      "std 0.7110935940843597\n"
     ]
    },
    {
     "data": {
      "image/png": "[encoded data removed]",
      "text/plain": [
       "<Figure size 432x288 with 1 Axes>"
      ]
     },
     "metadata": {
      "needs_background": "light"
     },
     "output_type": "display_data"
    }
   ],
   "source": [
    "print('mean', np.mean(df_train['log_price']))\n",
    "print('std', np.std(df_train['log_price']))\n",
    "plt.hist(df_train['log_price'], bins=30)\n",
    "plt.show()"
   ]
  },
  {
   "cell_type": "code",
   "execution_count": 66,
   "metadata": {},
   "outputs": [
    {
     "name": "stdout",
     "output_type": "stream",
     "text": [
      "2     21560\n",
      "4      8225\n",
      "1      6407\n",
      "3      5226\n",
      "6      3263\n",
      "5      2294\n",
      "8      1209\n",
      "7       646\n",
      "10      477\n",
      "16      215\n",
      "12      181\n",
      "9       175\n",
      "14       71\n",
      "11       54\n",
      "15       30\n",
      "13       24\n",
      "Name: accommodates, dtype: int64\n",
      "mean 3.1494895818766606\n",
      "std 2.1567069366265703\n"
     ]
    },
    {
     "data": {
      "text/plain": [
       "accommodates\n",
       "1     4.184886\n",
       "2     4.558800\n",
       "3     4.815520\n",
       "4     5.064740\n",
       "5     5.250416\n",
       "6     5.446765\n",
       "7     5.542814\n",
       "8     5.724926\n",
       "9     5.667061\n",
       "10    5.824111\n",
       "11    5.833586\n",
       "12    6.127444\n",
       "13    5.893654\n",
       "14    6.099824\n",
       "15    6.045646\n",
       "16    6.080128\n",
       "Name: log_price, dtype: float64"
      ]
     },
     "execution_count": 66,
     "metadata": {},
     "output_type": "execute_result"
    }
   ],
   "source": [
    "print(df_train['accommodates'].value_counts())\n",
    "print('mean', np.mean(df_train['accommodates']))\n",
    "print('std', np.std(df_train['accommodates']))\n",
    "df_train.groupby(by='accommodates')['log_price'].mean()"
   ]
  },
  {
   "cell_type": "code",
   "execution_count": 67,
   "metadata": {},
   "outputs": [
    {
     "name": "stdout",
     "output_type": "stream",
     "text": [
      "2     9861\n",
      "4     3712\n",
      "1     2926\n",
      "3     2479\n",
      "6     1647\n",
      "5     1106\n",
      "8      557\n",
      "7      286\n",
      "10     205\n",
      "9       92\n",
      "16      79\n",
      "12      72\n",
      "14      29\n",
      "11      25\n",
      "15      23\n",
      "13      12\n",
      "Name: accommodates, dtype: int64\n",
      "2     42.667994\n",
      "4     16.061616\n",
      "1     12.660638\n",
      "3     10.726494\n",
      "6      7.126477\n",
      "5      4.785600\n",
      "8      2.410108\n",
      "7      1.237506\n",
      "10     0.887023\n",
      "9      0.398079\n",
      "16     0.341829\n",
      "12     0.311540\n",
      "14     0.125481\n",
      "11     0.108174\n",
      "15     0.099520\n",
      "13     0.051923\n",
      "Name: accommodates, dtype: float64\n"
     ]
    }
   ],
   "source": [
    "print(df_test['accommodates'].value_counts())\n",
    "print(df_test['accommodates'].value_counts(normalize=True) * 100)\n",
    "# df['gender'].value_counts(normalize=True) * 100"
   ]
  },
  {
   "cell_type": "code",
   "execution_count": 68,
   "metadata": {},
   "outputs": [
    {
     "name": "stdout",
     "output_type": "stream",
     "text": [
      "id                            0\n",
      "log_price                     0\n",
      "accommodates                  0\n",
      "bathrooms                     0\n",
      "cleaning_fee                  0\n",
      "city                          0\n",
      "host_has_profile_pic          0\n",
      "host_identity_verified        0\n",
      "host_response_rate            0\n",
      "instant_bookable              0\n",
      "latitude                      0\n",
      "longitude                     0\n",
      "number_of_reviews             0\n",
      "bedrooms                      0\n",
      "beds                          0\n",
      "Apartment                     0\n",
      "Bed & Breakfast               0\n",
      "Boat                          0\n",
      "Boutique hotel                0\n",
      "Bungalow                      0\n",
      "Cabin                         0\n",
      "Camper/RV                     0\n",
      "Castle                        0\n",
      "Chalet                        0\n",
      "Condominium                   0\n",
      "Dorm                          0\n",
      "Guest suite                   0\n",
      "Guesthouse                    0\n",
      "Hostel                        0\n",
      "House                         0\n",
      "                             ..\n",
      "Westside                      0\n",
      "Westwood                      0\n",
      "Whitestone                    0\n",
      "Whittier                      0\n",
      "WickerPark                    0\n",
      "Williamsbridge                0\n",
      "Williamsburg                  0\n",
      "Willowbrook                   0\n",
      "WindsorTerrace                0\n",
      "Winnetka                      0\n",
      "Winthrop                      0\n",
      "Woodhaven                     0\n",
      "Woodland                      0\n",
      "WoodlandHills/WarnerCenter    0\n",
      "Woodlawn                      0\n",
      "WoodleyPark                   0\n",
      "Woodridge                     0\n",
      "Woodside                      0\n",
      "Wrigleyville                  0\n",
      "20-29                         0\n",
      "30-39                         0\n",
      "40-49                         0\n",
      "50-59                         0\n",
      "60-69                         0\n",
      "70-79                         0\n",
      "80-84                         0\n",
      "85-89                         0\n",
      "90-94                         0\n",
      "95-100                        0\n",
      "No Reviews                    0\n",
      "Length: 692, dtype: int64\n"
     ]
    }
   ],
   "source": [
    "# Find the missing values\n",
    "print(df_train.isnull().sum())"
   ]
  },
  {
   "cell_type": "code",
   "execution_count": 69,
   "metadata": {},
   "outputs": [],
   "source": [
    "# # Correlation\n",
    "# df_temp = df_train.filter(['log_price','accommodates', 'bathrooms', 'bedrooms', 'beds', 'Real Bed', 'Shared room', \n",
    "#                            'Entire home/apt', 'Private room', 'cleaning_fee', 'review_scores_rating', \n",
    "#                            'host_since_year', 'Boston', 'Chicago', 'DC', 'LA', 'NYC', 'SF', 'c_distance', 'Condominium', 'pets', 'event',\n",
    "#                           'kitchen', 'heating', 'gym', 'elevator', 'pool', '#amenities'], axis=1)\n",
    "# df_temp.corr()"
   ]
  },
  {
   "cell_type": "markdown",
   "metadata": {},
   "source": [
    "# Add external feature in the dataset"
   ]
  },
  {
   "cell_type": "code",
   "execution_count": 70,
   "metadata": {},
   "outputs": [
    {
     "data": {
      "text/html": [
       "<div>\n",
       "<style scoped>\n",
       "    .dataframe tbody tr th:only-of-type {\n",
       "        vertical-align: middle;\n",
       "    }\n",
       "\n",
       "    .dataframe tbody tr th {\n",
       "        vertical-align: top;\n",
       "    }\n",
       "\n",
       "    .dataframe thead th {\n",
       "        text-align: right;\n",
       "    }\n",
       "</style>\n",
       "<table border=\"1\" class=\"dataframe\">\n",
       "  <thead>\n",
       "    <tr style=\"text-align: right;\">\n",
       "      <th></th>\n",
       "      <th>City</th>\n",
       "      <th>c_lat</th>\n",
       "      <th>c_lon</th>\n",
       "    </tr>\n",
       "  </thead>\n",
       "  <tbody>\n",
       "    <tr>\n",
       "      <th>0</th>\n",
       "      <td>NYC</td>\n",
       "      <td>40.71427</td>\n",
       "      <td>-74.00597</td>\n",
       "    </tr>\n",
       "    <tr>\n",
       "      <th>1</th>\n",
       "      <td>LA</td>\n",
       "      <td>34.05223</td>\n",
       "      <td>-118.24368</td>\n",
       "    </tr>\n",
       "    <tr>\n",
       "      <th>2</th>\n",
       "      <td>SF</td>\n",
       "      <td>37.77493</td>\n",
       "      <td>-122.41942</td>\n",
       "    </tr>\n",
       "    <tr>\n",
       "      <th>3</th>\n",
       "      <td>DC</td>\n",
       "      <td>38.89511</td>\n",
       "      <td>-77.03637</td>\n",
       "    </tr>\n",
       "    <tr>\n",
       "      <th>4</th>\n",
       "      <td>Chicago</td>\n",
       "      <td>41.85003</td>\n",
       "      <td>-87.65005</td>\n",
       "    </tr>\n",
       "    <tr>\n",
       "      <th>5</th>\n",
       "      <td>Boston</td>\n",
       "      <td>42.35843</td>\n",
       "      <td>-71.05977</td>\n",
       "    </tr>\n",
       "  </tbody>\n",
       "</table>\n",
       "</div>"
      ],
      "text/plain": [
       "      City     c_lat      c_lon\n",
       "0      NYC  40.71427  -74.00597\n",
       "1       LA  34.05223 -118.24368\n",
       "2       SF  37.77493 -122.41942\n",
       "3       DC  38.89511  -77.03637\n",
       "4  Chicago  41.85003  -87.65005\n",
       "5   Boston  42.35843  -71.05977"
      ]
     },
     "execution_count": 70,
     "metadata": {},
     "output_type": "execute_result"
    }
   ],
   "source": [
    "data = [['NYC', 40.71427, -74.00597], ['LA', 34.05223, -118.24368], ['SF', 37.77493, -122.41942], ['DC', 38.89511, -77.03637], \n",
    "        ['Chicago', 41.85003, -87.65005],['Boston', 42.35843, -71.05977]]\n",
    "df_c = pd.DataFrame(data,columns=['City','c_lat', 'c_lon'])\n",
    "df_c"
   ]
  },
  {
   "cell_type": "code",
   "execution_count": 71,
   "metadata": {},
   "outputs": [],
   "source": [
    "df_merged = pd.merge(left=df_train, right=df_c, how='left', left_on=['city'], right_on=['City'])\n",
    "\n",
    "df_train = df_merged"
   ]
  },
  {
   "cell_type": "code",
   "execution_count": 72,
   "metadata": {},
   "outputs": [],
   "source": [
    "# df_train = df_train[(df_train['accommodates']<9)]\n",
    "# df_train = df_train[df_train['property_type'].value_counts()>100]"
   ]
  },
  {
   "cell_type": "code",
   "execution_count": 73,
   "metadata": {},
   "outputs": [
    {
     "name": "stdout",
     "output_type": "stream",
     "text": [
      "(0.031001669256653167, -179.96934404301348, 2928.567346835669)\n"
     ]
    },
    {
     "data": {
      "text/html": [
       "<div>\n",
       "<style scoped>\n",
       "    .dataframe tbody tr th:only-of-type {\n",
       "        vertical-align: middle;\n",
       "    }\n",
       "\n",
       "    .dataframe tbody tr th {\n",
       "        vertical-align: top;\n",
       "    }\n",
       "\n",
       "    .dataframe thead th {\n",
       "        text-align: right;\n",
       "    }\n",
       "</style>\n",
       "<table border=\"1\" class=\"dataframe\">\n",
       "  <thead>\n",
       "    <tr style=\"text-align: right;\">\n",
       "      <th></th>\n",
       "      <th>id</th>\n",
       "      <th>log_price</th>\n",
       "      <th>accommodates</th>\n",
       "      <th>bathrooms</th>\n",
       "      <th>cleaning_fee</th>\n",
       "      <th>city</th>\n",
       "      <th>host_has_profile_pic</th>\n",
       "      <th>host_identity_verified</th>\n",
       "      <th>host_response_rate</th>\n",
       "      <th>instant_bookable</th>\n",
       "      <th>...</th>\n",
       "      <th>70-79</th>\n",
       "      <th>80-84</th>\n",
       "      <th>85-89</th>\n",
       "      <th>90-94</th>\n",
       "      <th>95-100</th>\n",
       "      <th>No Reviews</th>\n",
       "      <th>City</th>\n",
       "      <th>c_lat</th>\n",
       "      <th>c_lon</th>\n",
       "      <th>c_distance</th>\n",
       "    </tr>\n",
       "  </thead>\n",
       "  <tbody>\n",
       "    <tr>\n",
       "      <th>0</th>\n",
       "      <td>13662370</td>\n",
       "      <td>3.806662</td>\n",
       "      <td>2</td>\n",
       "      <td>1.5</td>\n",
       "      <td>True</td>\n",
       "      <td>Chicago</td>\n",
       "      <td>1.0</td>\n",
       "      <td>1.0</td>\n",
       "      <td>100</td>\n",
       "      <td>1</td>\n",
       "      <td>...</td>\n",
       "      <td>0</td>\n",
       "      <td>0</td>\n",
       "      <td>0</td>\n",
       "      <td>0</td>\n",
       "      <td>1</td>\n",
       "      <td>0</td>\n",
       "      <td>Chicago</td>\n",
       "      <td>41.85003</td>\n",
       "      <td>-87.65005</td>\n",
       "      <td>2177.746448</td>\n",
       "    </tr>\n",
       "    <tr>\n",
       "      <th>1</th>\n",
       "      <td>4765892</td>\n",
       "      <td>4.941642</td>\n",
       "      <td>2</td>\n",
       "      <td>2.0</td>\n",
       "      <td>True</td>\n",
       "      <td>LA</td>\n",
       "      <td>1.0</td>\n",
       "      <td>1.0</td>\n",
       "      <td>100</td>\n",
       "      <td>0</td>\n",
       "      <td>...</td>\n",
       "      <td>0</td>\n",
       "      <td>0</td>\n",
       "      <td>0</td>\n",
       "      <td>0</td>\n",
       "      <td>1</td>\n",
       "      <td>0</td>\n",
       "      <td>LA</td>\n",
       "      <td>34.05223</td>\n",
       "      <td>-118.24368</td>\n",
       "      <td>1835.239616</td>\n",
       "    </tr>\n",
       "    <tr>\n",
       "      <th>2</th>\n",
       "      <td>21169968</td>\n",
       "      <td>4.941642</td>\n",
       "      <td>5</td>\n",
       "      <td>1.0</td>\n",
       "      <td>True</td>\n",
       "      <td>NYC</td>\n",
       "      <td>1.0</td>\n",
       "      <td>1.0</td>\n",
       "      <td>100</td>\n",
       "      <td>1</td>\n",
       "      <td>...</td>\n",
       "      <td>0</td>\n",
       "      <td>0</td>\n",
       "      <td>1</td>\n",
       "      <td>0</td>\n",
       "      <td>0</td>\n",
       "      <td>0</td>\n",
       "      <td>NYC</td>\n",
       "      <td>40.71427</td>\n",
       "      <td>-74.00597</td>\n",
       "      <td>7612.447530</td>\n",
       "    </tr>\n",
       "    <tr>\n",
       "      <th>3</th>\n",
       "      <td>7939196</td>\n",
       "      <td>4.867534</td>\n",
       "      <td>6</td>\n",
       "      <td>1.0</td>\n",
       "      <td>True</td>\n",
       "      <td>NYC</td>\n",
       "      <td>1.0</td>\n",
       "      <td>1.0</td>\n",
       "      <td>70</td>\n",
       "      <td>0</td>\n",
       "      <td>...</td>\n",
       "      <td>0</td>\n",
       "      <td>1</td>\n",
       "      <td>0</td>\n",
       "      <td>0</td>\n",
       "      <td>0</td>\n",
       "      <td>0</td>\n",
       "      <td>NYC</td>\n",
       "      <td>40.71427</td>\n",
       "      <td>-74.00597</td>\n",
       "      <td>3433.336713</td>\n",
       "    </tr>\n",
       "    <tr>\n",
       "      <th>4</th>\n",
       "      <td>16078894</td>\n",
       "      <td>4.836282</td>\n",
       "      <td>6</td>\n",
       "      <td>1.0</td>\n",
       "      <td>True</td>\n",
       "      <td>NYC</td>\n",
       "      <td>1.0</td>\n",
       "      <td>0.0</td>\n",
       "      <td>100</td>\n",
       "      <td>0</td>\n",
       "      <td>...</td>\n",
       "      <td>0</td>\n",
       "      <td>0</td>\n",
       "      <td>0</td>\n",
       "      <td>0</td>\n",
       "      <td>1</td>\n",
       "      <td>0</td>\n",
       "      <td>NYC</td>\n",
       "      <td>40.71427</td>\n",
       "      <td>-74.00597</td>\n",
       "      <td>6760.318460</td>\n",
       "    </tr>\n",
       "    <tr>\n",
       "      <th>5</th>\n",
       "      <td>10122015</td>\n",
       "      <td>5.220356</td>\n",
       "      <td>5</td>\n",
       "      <td>2.0</td>\n",
       "      <td>True</td>\n",
       "      <td>Boston</td>\n",
       "      <td>1.0</td>\n",
       "      <td>0.0</td>\n",
       "      <td>94</td>\n",
       "      <td>0</td>\n",
       "      <td>...</td>\n",
       "      <td>0</td>\n",
       "      <td>0</td>\n",
       "      <td>0</td>\n",
       "      <td>0</td>\n",
       "      <td>0</td>\n",
       "      <td>1</td>\n",
       "      <td>Boston</td>\n",
       "      <td>42.35843</td>\n",
       "      <td>-71.05977</td>\n",
       "      <td>5278.985802</td>\n",
       "    </tr>\n",
       "    <tr>\n",
       "      <th>6</th>\n",
       "      <td>13762269</td>\n",
       "      <td>5.686975</td>\n",
       "      <td>2</td>\n",
       "      <td>1.0</td>\n",
       "      <td>False</td>\n",
       "      <td>LA</td>\n",
       "      <td>1.0</td>\n",
       "      <td>0.0</td>\n",
       "      <td>100</td>\n",
       "      <td>0</td>\n",
       "      <td>...</td>\n",
       "      <td>0</td>\n",
       "      <td>0</td>\n",
       "      <td>0</td>\n",
       "      <td>0</td>\n",
       "      <td>1</td>\n",
       "      <td>0</td>\n",
       "      <td>LA</td>\n",
       "      <td>34.05223</td>\n",
       "      <td>-118.24368</td>\n",
       "      <td>23407.871438</td>\n",
       "    </tr>\n",
       "    <tr>\n",
       "      <th>7</th>\n",
       "      <td>15174230</td>\n",
       "      <td>3.555348</td>\n",
       "      <td>2</td>\n",
       "      <td>1.0</td>\n",
       "      <td>False</td>\n",
       "      <td>NYC</td>\n",
       "      <td>1.0</td>\n",
       "      <td>0.0</td>\n",
       "      <td>100</td>\n",
       "      <td>0</td>\n",
       "      <td>...</td>\n",
       "      <td>0</td>\n",
       "      <td>1</td>\n",
       "      <td>0</td>\n",
       "      <td>0</td>\n",
       "      <td>0</td>\n",
       "      <td>0</td>\n",
       "      <td>NYC</td>\n",
       "      <td>40.71427</td>\n",
       "      <td>-74.00597</td>\n",
       "      <td>9165.943774</td>\n",
       "    </tr>\n",
       "    <tr>\n",
       "      <th>8</th>\n",
       "      <td>15716280</td>\n",
       "      <td>4.234107</td>\n",
       "      <td>2</td>\n",
       "      <td>2.0</td>\n",
       "      <td>True</td>\n",
       "      <td>NYC</td>\n",
       "      <td>1.0</td>\n",
       "      <td>1.0</td>\n",
       "      <td>100</td>\n",
       "      <td>0</td>\n",
       "      <td>...</td>\n",
       "      <td>0</td>\n",
       "      <td>0</td>\n",
       "      <td>0</td>\n",
       "      <td>1</td>\n",
       "      <td>0</td>\n",
       "      <td>0</td>\n",
       "      <td>NYC</td>\n",
       "      <td>40.71427</td>\n",
       "      <td>-74.00597</td>\n",
       "      <td>3863.573908</td>\n",
       "    </tr>\n",
       "    <tr>\n",
       "      <th>9</th>\n",
       "      <td>10806613</td>\n",
       "      <td>3.555348</td>\n",
       "      <td>1</td>\n",
       "      <td>1.0</td>\n",
       "      <td>False</td>\n",
       "      <td>Boston</td>\n",
       "      <td>1.0</td>\n",
       "      <td>1.0</td>\n",
       "      <td>90</td>\n",
       "      <td>0</td>\n",
       "      <td>...</td>\n",
       "      <td>0</td>\n",
       "      <td>0</td>\n",
       "      <td>0</td>\n",
       "      <td>0</td>\n",
       "      <td>1</td>\n",
       "      <td>0</td>\n",
       "      <td>Boston</td>\n",
       "      <td>42.35843</td>\n",
       "      <td>-71.05977</td>\n",
       "      <td>14743.804003</td>\n",
       "    </tr>\n",
       "  </tbody>\n",
       "</table>\n",
       "<p>10 rows × 696 columns</p>\n",
       "</div>"
      ],
      "text/plain": [
       "         id  log_price  accommodates  bathrooms  cleaning_fee     city  \\\n",
       "0  13662370   3.806662             2        1.5          True  Chicago   \n",
       "1   4765892   4.941642             2        2.0          True       LA   \n",
       "2  21169968   4.941642             5        1.0          True      NYC   \n",
       "3   7939196   4.867534             6        1.0          True      NYC   \n",
       "4  16078894   4.836282             6        1.0          True      NYC   \n",
       "5  10122015   5.220356             5        2.0          True   Boston   \n",
       "6  13762269   5.686975             2        1.0         False       LA   \n",
       "7  15174230   3.555348             2        1.0         False      NYC   \n",
       "8  15716280   4.234107             2        2.0          True      NYC   \n",
       "9  10806613   3.555348             1        1.0         False   Boston   \n",
       "\n",
       "   host_has_profile_pic  host_identity_verified  host_response_rate  \\\n",
       "0                   1.0                     1.0                 100   \n",
       "1                   1.0                     1.0                 100   \n",
       "2                   1.0                     1.0                 100   \n",
       "3                   1.0                     1.0                  70   \n",
       "4                   1.0                     0.0                 100   \n",
       "5                   1.0                     0.0                  94   \n",
       "6                   1.0                     0.0                 100   \n",
       "7                   1.0                     0.0                 100   \n",
       "8                   1.0                     1.0                 100   \n",
       "9                   1.0                     1.0                  90   \n",
       "\n",
       "   instant_bookable      ...       70-79  80-84  85-89  90-94  95-100  \\\n",
       "0                 1      ...           0      0      0      0       1   \n",
       "1                 0      ...           0      0      0      0       1   \n",
       "2                 1      ...           0      0      1      0       0   \n",
       "3                 0      ...           0      1      0      0       0   \n",
       "4                 0      ...           0      0      0      0       1   \n",
       "5                 0      ...           0      0      0      0       0   \n",
       "6                 0      ...           0      0      0      0       1   \n",
       "7                 0      ...           0      1      0      0       0   \n",
       "8                 0      ...           0      0      0      1       0   \n",
       "9                 0      ...           0      0      0      0       1   \n",
       "\n",
       "   No Reviews     City     c_lat      c_lon    c_distance  \n",
       "0           0  Chicago  41.85003  -87.65005   2177.746448  \n",
       "1           0       LA  34.05223 -118.24368   1835.239616  \n",
       "2           0      NYC  40.71427  -74.00597   7612.447530  \n",
       "3           0      NYC  40.71427  -74.00597   3433.336713  \n",
       "4           0      NYC  40.71427  -74.00597   6760.318460  \n",
       "5           1   Boston  42.35843  -71.05977   5278.985802  \n",
       "6           0       LA  34.05223 -118.24368  23407.871438  \n",
       "7           0      NYC  40.71427  -74.00597   9165.943774  \n",
       "8           0      NYC  40.71427  -74.00597   3863.573908  \n",
       "9           0   Boston  42.35843  -71.05977  14743.804003  \n",
       "\n",
       "[10 rows x 696 columns]"
      ]
     },
     "execution_count": 73,
     "metadata": {},
     "output_type": "execute_result"
    }
   ],
   "source": [
    "import pyproj\n",
    "\n",
    "geod = pyproj.Geod(ellps='WGS84') #Distance will be measured on this ellipsoid - more accurate than a spherical method\n",
    "\n",
    "df_t = geod.inv(41.849684, -87.676270, 41.85003, -87.65005)\n",
    "print(df_t)\n",
    "# df_train['c_distance'] = geod.inv(df_train['latitude'], df_train['longitude'], df_train['c_lat'], df_train['c_lon'])\n",
    "\n",
    "#Get distance between pairs of lat-lon points\n",
    "def Distance(lat1,lon1,lat2,lon2):\n",
    "  az12,az21,dist = geod.inv(lon1,lat1,lon2,lat2)\n",
    "  return dist\n",
    "\n",
    "#Add/update a column to the data frame with the distances (in metres)\n",
    "df_train['c_distance'] = Distance(df_train['latitude'].tolist(),df_train['longitude'].tolist(),\n",
    "                                  df_train['c_lat'].tolist(),df_train['c_lon'].tolist())\n",
    "df_train.head(10)"
   ]
  },
  {
   "cell_type": "code",
   "execution_count": 74,
   "metadata": {},
   "outputs": [],
   "source": [
    "# Delete column from df_train\n",
    "del df_train['city']\n",
    "del df_train['City']"
   ]
  },
  {
   "cell_type": "code",
   "execution_count": 75,
   "metadata": {},
   "outputs": [],
   "source": [
    "# Add new feature c_distance\n",
    "\n",
    "df_merged_t = pd.merge(left=df_test, right=df_c, how='left', left_on=['city'], right_on=['City'])\n",
    "df_test = df_merged_t\n",
    "\n",
    "#Get distance between pairs of lat-lon points\n",
    "def Distance(lat1,lon1,lat2,lon2):\n",
    "  az12,az21,dist = geod.inv(lon1,lat1,lon2,lat2)\n",
    "  return dist\n",
    "\n",
    "#Add/update a column to the data frame with the distances (in metres)\n",
    "df_test['c_distance'] = Distance(df_test['latitude'].tolist(),df_test['longitude'].tolist(),\n",
    "                                  df_test['c_lat'].tolist(),df_test['c_lon'].tolist())"
   ]
  },
  {
   "cell_type": "code",
   "execution_count": 76,
   "metadata": {},
   "outputs": [
    {
     "data": {
      "text/html": [
       "<div>\n",
       "<style scoped>\n",
       "    .dataframe tbody tr th:only-of-type {\n",
       "        vertical-align: middle;\n",
       "    }\n",
       "\n",
       "    .dataframe tbody tr th {\n",
       "        vertical-align: top;\n",
       "    }\n",
       "\n",
       "    .dataframe thead th {\n",
       "        text-align: right;\n",
       "    }\n",
       "</style>\n",
       "<table border=\"1\" class=\"dataframe\">\n",
       "  <thead>\n",
       "    <tr style=\"text-align: right;\">\n",
       "      <th></th>\n",
       "      <th>City</th>\n",
       "      <th>c_lat</th>\n",
       "      <th>c_lon</th>\n",
       "    </tr>\n",
       "  </thead>\n",
       "  <tbody>\n",
       "    <tr>\n",
       "      <th>0</th>\n",
       "      <td>NYC</td>\n",
       "      <td>40.71427</td>\n",
       "      <td>-74.00597</td>\n",
       "    </tr>\n",
       "    <tr>\n",
       "      <th>1</th>\n",
       "      <td>LA</td>\n",
       "      <td>34.05223</td>\n",
       "      <td>-118.24368</td>\n",
       "    </tr>\n",
       "    <tr>\n",
       "      <th>2</th>\n",
       "      <td>SF</td>\n",
       "      <td>37.77493</td>\n",
       "      <td>-122.41942</td>\n",
       "    </tr>\n",
       "    <tr>\n",
       "      <th>3</th>\n",
       "      <td>DC</td>\n",
       "      <td>38.89511</td>\n",
       "      <td>-77.03637</td>\n",
       "    </tr>\n",
       "    <tr>\n",
       "      <th>4</th>\n",
       "      <td>Chicago</td>\n",
       "      <td>41.85003</td>\n",
       "      <td>-87.65005</td>\n",
       "    </tr>\n",
       "    <tr>\n",
       "      <th>5</th>\n",
       "      <td>Boston</td>\n",
       "      <td>42.35843</td>\n",
       "      <td>-71.05977</td>\n",
       "    </tr>\n",
       "  </tbody>\n",
       "</table>\n",
       "</div>"
      ],
      "text/plain": [
       "      City     c_lat      c_lon\n",
       "0      NYC  40.71427  -74.00597\n",
       "1       LA  34.05223 -118.24368\n",
       "2       SF  37.77493 -122.41942\n",
       "3       DC  38.89511  -77.03637\n",
       "4  Chicago  41.85003  -87.65005\n",
       "5   Boston  42.35843  -71.05977"
      ]
     },
     "execution_count": 76,
     "metadata": {},
     "output_type": "execute_result"
    }
   ],
   "source": [
    "data = [['NYC', 40.71427, -74.00597], ['LA', 34.05223, -118.24368], ['SF', 37.77493, -122.41942], ['DC', 38.89511, -77.03637], \n",
    "        ['Chicago', 41.85003, -87.65005],['Boston', 42.35843, -71.05977]]\n",
    "df_c = pd.DataFrame(data,columns=['City','c_lat', 'c_lon'])\n",
    "df_c"
   ]
  },
  {
   "cell_type": "code",
   "execution_count": 77,
   "metadata": {},
   "outputs": [],
   "source": [
    "# Delete column from df_train\n",
    "del df_test['city']\n",
    "del df_test['City']"
   ]
  },
  {
   "cell_type": "code",
   "execution_count": 78,
   "metadata": {},
   "outputs": [],
   "source": [
    "df_train.reset_index(drop=True, inplace=True)\n",
    "df_test.reset_index(drop=True, inplace=True)"
   ]
  },
  {
   "cell_type": "markdown",
   "metadata": {},
   "source": [
    "# Experiment"
   ]
  },
  {
   "cell_type": "code",
   "execution_count": 79,
   "metadata": {},
   "outputs": [
    {
     "data": {
      "text/plain": [
       "['accommodates',\n",
       " 'bathrooms',\n",
       " 'cleaning_fee',\n",
       " 'host_has_profile_pic',\n",
       " 'host_identity_verified',\n",
       " 'host_response_rate',\n",
       " 'instant_bookable',\n",
       " 'number_of_reviews',\n",
       " 'bedrooms',\n",
       " 'beds',\n",
       " 'Apartment',\n",
       " 'Bed & Breakfast',\n",
       " 'Boat',\n",
       " 'Boutique hotel',\n",
       " 'Bungalow',\n",
       " 'Cabin',\n",
       " 'Camper/RV',\n",
       " 'Castle',\n",
       " 'Chalet',\n",
       " 'Condominium',\n",
       " 'Dorm',\n",
       " 'Guest suite',\n",
       " 'Guesthouse',\n",
       " 'Hostel',\n",
       " 'House',\n",
       " 'Hut',\n",
       " 'In-law',\n",
       " 'Loft',\n",
       " 'Other',\n",
       " 'Serviced apartment',\n",
       " 'Tent',\n",
       " 'Timeshare',\n",
       " 'Tipi',\n",
       " 'Townhouse',\n",
       " 'Train',\n",
       " 'Treehouse',\n",
       " 'Vacation home',\n",
       " 'Villa',\n",
       " 'Yurt',\n",
       " 'Entire home/apt',\n",
       " 'Private room',\n",
       " 'Shared room',\n",
       " '#amenities',\n",
       " 'family',\n",
       " 'pets',\n",
       " 'event',\n",
       " 'kitchen',\n",
       " 'heating',\n",
       " 'gym',\n",
       " 'elevator',\n",
       " 'pool',\n",
       " 'Airbed',\n",
       " 'Couch',\n",
       " 'Futon',\n",
       " 'Pull-out Sofa',\n",
       " 'Real Bed',\n",
       " 'flexible',\n",
       " 'moderate',\n",
       " 'strict',\n",
       " 'super_strict_30',\n",
       " 'super_strict_60',\n",
       " 'Boston',\n",
       " 'Chicago',\n",
       " 'DC',\n",
       " 'LA',\n",
       " 'NYC',\n",
       " 'SF',\n",
       " 'host_since_year',\n",
       " 'last_review_year',\n",
       " 0.0,\n",
       " 2009.0,\n",
       " 2010.0,\n",
       " 2011.0,\n",
       " 2012.0,\n",
       " 2013.0,\n",
       " 2014.0,\n",
       " 2015.0,\n",
       " 2016.0,\n",
       " 2017.0,\n",
       " '16thStreetHeights',\n",
       " 'AdamsMorgan',\n",
       " 'AlamoSquare',\n",
       " 'AlbanyPark',\n",
       " 'Alhambra',\n",
       " 'Allerton',\n",
       " 'Allston-Brighton',\n",
       " 'AlondraPark',\n",
       " 'AlphabetCity',\n",
       " 'Altadena',\n",
       " 'AmericanUniversityPark',\n",
       " 'Anacostia',\n",
       " 'Andersonville',\n",
       " 'Annadale',\n",
       " 'Arboretum',\n",
       " 'Arcadia',\n",
       " 'ArcherHeights',\n",
       " 'Arleta',\n",
       " 'ArmourSquare',\n",
       " 'Artesia',\n",
       " 'ArtsDistrict',\n",
       " 'Ashburn',\n",
       " 'Astoria',\n",
       " 'AtwaterVillage',\n",
       " 'AuburnGresham',\n",
       " 'Austin',\n",
       " 'Avondale',\n",
       " 'Azusa',\n",
       " 'BackBay',\n",
       " 'BackoftheYards',\n",
       " 'BalboaTerrace',\n",
       " 'BaldwinHills',\n",
       " 'BaldwinPark',\n",
       " 'BarneyCircle',\n",
       " 'BarryFarm',\n",
       " 'BathBeach',\n",
       " 'BatteryParkCity',\n",
       " 'BayRidge',\n",
       " 'Baychester',\n",
       " 'Bayside',\n",
       " 'Bayview',\n",
       " 'BeaconHill',\n",
       " 'Bedford-Stuyvesant',\n",
       " 'BedfordPark',\n",
       " 'BelAir/BeverlyCrest',\n",
       " 'Bellevue',\n",
       " 'Bellflower',\n",
       " 'Belmont',\n",
       " 'BelmontCragin',\n",
       " 'Benning',\n",
       " 'BenningHeights',\n",
       " 'BenningRidge',\n",
       " 'Bensonhurst',\n",
       " 'BergenBeach',\n",
       " 'Berkley',\n",
       " 'BernalHeights',\n",
       " 'Beverly',\n",
       " 'BeverlyHills',\n",
       " 'Bloomingdale',\n",
       " 'BoerumHill',\n",
       " 'BoroughPark',\n",
       " 'BoyleHeights',\n",
       " 'Boystown',\n",
       " 'Bradbury',\n",
       " 'Brentwood',\n",
       " 'Bridgeport',\n",
       " 'BrightonBeach',\n",
       " 'BrightonPark',\n",
       " 'Brightwood',\n",
       " 'Bronxdale',\n",
       " 'Bronzeville',\n",
       " 'Brookland',\n",
       " 'Brookline',\n",
       " 'Brooklyn',\n",
       " 'BrooklynHeights',\n",
       " 'BrooklynNavyYard',\n",
       " 'Brownsville',\n",
       " 'Bucktown',\n",
       " 'BuenaVista',\n",
       " 'Burbank',\n",
       " 'Burleith',\n",
       " 'Bushwick',\n",
       " 'CahuengaPass',\n",
       " 'Cambridge',\n",
       " 'Canarsie',\n",
       " 'CanogaPark',\n",
       " 'CapitolHill',\n",
       " 'CarrollGardens',\n",
       " 'Carson',\n",
       " 'CarverLangston',\n",
       " 'CastleHill',\n",
       " 'CastletonCorners',\n",
       " 'CathedralHeights',\n",
       " 'CentralNortheast/MahaningHeights',\n",
       " 'Cerritos',\n",
       " 'Charlestown',\n",
       " 'Chatham',\n",
       " 'Chatsworth',\n",
       " 'Chelsea',\n",
       " 'ChestnutHill',\n",
       " 'ChevyChase',\n",
       " 'Chillum,MD',\n",
       " 'Chinatown',\n",
       " 'CityIsland',\n",
       " 'CivicCenter',\n",
       " 'Claremont',\n",
       " 'ClevelandPark',\n",
       " 'Clifton',\n",
       " 'ClintonHill',\n",
       " 'Co-opCity',\n",
       " 'CobbleHill',\n",
       " 'ColeValley',\n",
       " 'CollegePoint',\n",
       " 'ColonialVillage',\n",
       " 'ColumbiaHeights',\n",
       " 'ColumbiaStreetWaterfront',\n",
       " 'Commerce',\n",
       " 'Compton',\n",
       " 'Concord',\n",
       " 'Concourse',\n",
       " 'ConcourseVillage',\n",
       " 'ConeyIsland',\n",
       " 'CongressHeights',\n",
       " 'CoolidgeCorner',\n",
       " 'Corona',\n",
       " 'Covina',\n",
       " 'CowHollow',\n",
       " 'Crestwood',\n",
       " 'CrockerAmazon',\n",
       " 'Crotona',\n",
       " 'CrownHeights',\n",
       " 'CulverCity',\n",
       " 'CypressPark',\n",
       " 'DUMBO',\n",
       " 'DalyCity',\n",
       " 'Deanwood',\n",
       " 'DelRey',\n",
       " 'DiamondHeights',\n",
       " 'Ditmars/Steinway',\n",
       " 'Dogpatch',\n",
       " 'DonganHills',\n",
       " 'Dorchester',\n",
       " 'Douglass',\n",
       " 'Downey',\n",
       " 'Downtown',\n",
       " 'Downtown/PennQuarter',\n",
       " 'DowntownBrooklyn',\n",
       " 'DowntownCrossing',\n",
       " 'Duarte',\n",
       " 'DuboceTriangle',\n",
       " 'Dunning',\n",
       " 'DupontCircle',\n",
       " 'DupontPark',\n",
       " 'DykerHeights',\n",
       " 'EagleRock',\n",
       " 'EastBoston',\n",
       " 'EastCorner',\n",
       " 'EastElmhurst',\n",
       " 'EastFlatbush',\n",
       " 'EastHarlem',\n",
       " 'EastHollywood',\n",
       " 'EastLosAngeles',\n",
       " 'EastNewYork',\n",
       " 'EastSanGabriel',\n",
       " 'EastVillage',\n",
       " 'Eastchester',\n",
       " 'EastlandGardens',\n",
       " 'EchoPark',\n",
       " 'Eckington',\n",
       " 'Edenwald',\n",
       " 'Edgewater',\n",
       " 'Edgewood',\n",
       " 'EdisonPark',\n",
       " 'ElMonte',\n",
       " 'ElSegundo',\n",
       " 'ElSereno',\n",
       " 'ElmPark',\n",
       " 'Elmhurst',\n",
       " 'Eltingville',\n",
       " 'ElysianValley',\n",
       " 'Encino',\n",
       " 'Englewood',\n",
       " 'Excelsior',\n",
       " 'Fairlawn',\n",
       " 'Fenway/Kenmore',\n",
       " 'FinancialDistrict',\n",
       " \"Fisherman'sWharf\",\n",
       " 'Flatbush',\n",
       " 'FlatironDistrict',\n",
       " 'Flatlands',\n",
       " 'Florence-Graham',\n",
       " 'Flushing',\n",
       " 'FoggyBottom',\n",
       " 'Fordham',\n",
       " 'ForestHill',\n",
       " 'ForestHills',\n",
       " 'FortDavis',\n",
       " 'FortDupont',\n",
       " 'FortGreene',\n",
       " 'FortLincoln',\n",
       " 'FortTotten',\n",
       " 'FortWadsworth',\n",
       " 'Foxhall',\n",
       " 'FreshMeadows',\n",
       " 'FriendshipHeights',\n",
       " 'Galewood',\n",
       " 'Gallaudet',\n",
       " 'Gardena',\n",
       " 'GarfieldHeights',\n",
       " 'GarfieldPark',\n",
       " 'GarfieldRidge',\n",
       " 'Gateway',\n",
       " 'Georgetown',\n",
       " 'GlassellPark',\n",
       " 'GlenPark',\n",
       " 'Glendale',\n",
       " 'Glendora',\n",
       " 'GloverPark',\n",
       " 'GoldCoast',\n",
       " 'GoodHope',\n",
       " 'GovernmentCenter',\n",
       " 'Gowanus',\n",
       " 'GramercyPark',\n",
       " 'GranadaHillsNorth',\n",
       " 'GrandCrossing',\n",
       " 'Graniteville',\n",
       " 'GrantCity',\n",
       " 'Grasmere',\n",
       " 'Gravesend',\n",
       " 'GreatKills',\n",
       " 'Greenpoint',\n",
       " 'Greenway',\n",
       " 'GreenwichVillage',\n",
       " 'GreenwoodHeights',\n",
       " 'GrymesHill',\n",
       " 'Haight-Ashbury',\n",
       " 'HamiltonHeights',\n",
       " 'HarborCity',\n",
       " 'HarborGateway',\n",
       " 'Harlem',\n",
       " 'HawaiianGardens',\n",
       " 'Hawthorne',\n",
       " 'HayesValley',\n",
       " \"Hell'sKitchen\",\n",
       " 'Hermon',\n",
       " 'Hermosa',\n",
       " 'HermosaBeach',\n",
       " 'Highbridge',\n",
       " 'HighlandPark',\n",
       " 'HilcrestHeights/MarlowHeights,MD',\n",
       " 'Hillbrook',\n",
       " 'Hillcrest',\n",
       " 'Hollywood',\n",
       " 'HollywoodHills',\n",
       " 'HowardBeach',\n",
       " 'HudsonSquare',\n",
       " 'Huguenot',\n",
       " 'HumboldtPark',\n",
       " 'HuntingtonPark',\n",
       " 'HuntsPoint',\n",
       " 'HydePark',\n",
       " 'Ingleside',\n",
       " 'Inglewood',\n",
       " 'InnerSunset',\n",
       " 'Inwood',\n",
       " 'IrvingPark',\n",
       " 'IvyCity',\n",
       " 'JacksonHeights',\n",
       " 'Jamaica',\n",
       " 'JamaicaPlain',\n",
       " 'Japantown',\n",
       " 'JeffersonPark',\n",
       " 'JudiciarySquare',\n",
       " 'Kalorama',\n",
       " 'Kensington',\n",
       " 'Kent',\n",
       " 'Kenwood',\n",
       " 'KewGardenHills',\n",
       " 'KingmanPark',\n",
       " 'Kingsbridge',\n",
       " 'KingsbridgeHeights',\n",
       " 'KipsBay',\n",
       " 'LaCanadaFlintridge',\n",
       " 'LaCrescenta-Montrose',\n",
       " 'LaHabra',\n",
       " 'LaMirada',\n",
       " 'LaPuente',\n",
       " 'LakeBalboa',\n",
       " 'Lakeshore',\n",
       " 'Lakeview',\n",
       " 'Lakewood',\n",
       " 'LamondRiggs',\n",
       " 'Langdon',\n",
       " 'LaurelCanyon',\n",
       " 'Lawndale',\n",
       " 'LeDroitPark',\n",
       " 'LeatherDistrict',\n",
       " 'LeffertsGarden',\n",
       " 'LighthouseHIll',\n",
       " 'LincolnHeights',\n",
       " 'LincolnPark',\n",
       " 'LincolnSquare',\n",
       " 'Lindenwood',\n",
       " 'LittleItaly',\n",
       " 'LittleItaly/UIC',\n",
       " 'LittleVillage',\n",
       " 'LoganCircle',\n",
       " 'LoganSquare',\n",
       " 'Lomita',\n",
       " 'LongBeach',\n",
       " 'LongIslandCity',\n",
       " 'Longwood',\n",
       " 'Loop',\n",
       " 'LosFeliz',\n",
       " 'LowerEastSide',\n",
       " 'LowerHaight',\n",
       " 'Lynwood',\n",
       " 'Malibu',\n",
       " 'Manhattan',\n",
       " 'ManhattanBeach',\n",
       " 'ManorPark',\n",
       " 'MarVista',\n",
       " 'MarbleHill',\n",
       " 'Marina',\n",
       " 'MarinaDelRey',\n",
       " 'MarinePark',\n",
       " 'MarinersHarbor',\n",
       " 'MarshallHeights',\n",
       " 'Maspeth',\n",
       " 'MassachusettsHeights',\n",
       " 'Mattapan',\n",
       " 'McKinleyPark',\n",
       " 'MeatpackingDistrict',\n",
       " 'MeiersCorners',\n",
       " 'Melrose',\n",
       " 'MichiganPark',\n",
       " 'Mid-City',\n",
       " 'Mid-Wilshire',\n",
       " 'MiddleVillage',\n",
       " 'MidlandBeach',\n",
       " 'Midtown',\n",
       " 'MidtownEast',\n",
       " 'Midwood',\n",
       " 'MillBasin',\n",
       " 'MissionBay',\n",
       " 'MissionDistrict',\n",
       " 'MissionHill',\n",
       " 'MissionHills',\n",
       " 'MissionTerrace',\n",
       " 'Monrovia',\n",
       " 'Montebello',\n",
       " 'MontecitoHeights',\n",
       " 'MontereyHills',\n",
       " 'MontereyPark',\n",
       " 'MorganPark',\n",
       " 'MorningsideHeights',\n",
       " 'MorrisHeights',\n",
       " 'MorrisPark',\n",
       " 'Morrisania',\n",
       " 'MottHaven',\n",
       " 'MountEden',\n",
       " 'MountPleasant',\n",
       " 'MountVernonSquare',\n",
       " 'MountWashington',\n",
       " 'Mt.Pleasant',\n",
       " 'MtRainier/Brentwood,MD',\n",
       " 'MurrayHill',\n",
       " 'NavyYard',\n",
       " 'NaylorGardens',\n",
       " 'NearNorthSide',\n",
       " 'NearNortheast',\n",
       " 'NearNortheast/HStreetCorridor',\n",
       " 'NearWestSide',\n",
       " 'NewBrighton',\n",
       " 'NewDorpBeach',\n",
       " 'NobHill',\n",
       " 'NoeValley',\n",
       " 'Noho',\n",
       " 'Nolita',\n",
       " 'NorthBeach',\n",
       " 'NorthCenter',\n",
       " 'NorthClevelandPark',\n",
       " 'NorthEnd',\n",
       " 'NorthHillsEast',\n",
       " 'NorthHillsWest',\n",
       " 'NorthHollywood',\n",
       " 'NorthLawndale',\n",
       " 'NorthMichiganPark',\n",
       " 'NorthPark',\n",
       " 'Northridge',\n",
       " 'Norwalk',\n",
       " 'Norwood',\n",
       " 'NorwoodPark',\n",
       " \"O'Hare\",\n",
       " 'Oakland',\n",
       " 'ObservatoryCircle',\n",
       " 'Oceanview',\n",
       " \"OldSoldiers'Home\",\n",
       " 'OldTown',\n",
       " 'OuterSunset',\n",
       " 'OzonePark',\n",
       " 'PacificHeights',\n",
       " 'PacificPalisades',\n",
       " 'Pacoima',\n",
       " 'Palisades',\n",
       " 'Palms',\n",
       " 'PalosVerdes',\n",
       " 'PanoramaCity',\n",
       " 'Paramount',\n",
       " 'ParkSlope',\n",
       " 'ParkVersailles',\n",
       " 'ParkView',\n",
       " 'Parkchester',\n",
       " 'Parkside',\n",
       " 'Pasadena',\n",
       " 'PelhamBay',\n",
       " 'Petworth',\n",
       " 'PicoRivera',\n",
       " 'Pilsen',\n",
       " 'PleasantHill',\n",
       " 'PleasantPlains',\n",
       " 'PortMorris',\n",
       " 'PortRichmond',\n",
       " 'PortagePark',\n",
       " 'PorterRanch',\n",
       " 'Portola',\n",
       " 'PotreroHill',\n",
       " 'Presidio',\n",
       " 'PresidioHeights',\n",
       " 'ProspectHeights',\n",
       " 'Pullman',\n",
       " 'Queens',\n",
       " 'RanchoPalosVerdes',\n",
       " 'RandallManor',\n",
       " 'RandleHighlands',\n",
       " 'RedHook',\n",
       " 'RedondoBeach',\n",
       " 'RegoPark',\n",
       " 'Reseda',\n",
       " 'RichmondDistrict',\n",
       " 'RichmondHill',\n",
       " 'Ridgewood',\n",
       " 'RiverNorth',\n",
       " 'RiverTerrace',\n",
       " 'RiverWest',\n",
       " 'Riverdale',\n",
       " 'RogersPark',\n",
       " 'RollingHills',\n",
       " 'RollingHillsEstates',\n",
       " 'RooseveltIsland',\n",
       " 'RoscoeVillage',\n",
       " 'Rosebank',\n",
       " 'Roseland',\n",
       " 'Rosemead',\n",
       " 'Roslindale',\n",
       " 'Rossville',\n",
       " 'Roxbury',\n",
       " 'RussianHill',\n",
       " 'SanGabriel',\n",
       " 'SanMarino',\n",
       " 'SanPedro',\n",
       " 'SantaFeSprings',\n",
       " 'SantaMonica',\n",
       " 'SeaCliff',\n",
       " 'SeaGate',\n",
       " 'Shaw',\n",
       " 'SheepsheadBay',\n",
       " 'ShepherdPark',\n",
       " 'ShermanOaks',\n",
       " 'ShipleyTerrace',\n",
       " 'SierraMadre',\n",
       " 'SignalHill',\n",
       " 'SilverLake',\n",
       " 'SilverSpring,MD',\n",
       " 'SkidRow',\n",
       " 'Skyland',\n",
       " 'SoMa',\n",
       " 'Soho',\n",
       " 'Soundview',\n",
       " 'SouthBeach',\n",
       " 'SouthBoston',\n",
       " 'SouthChicago',\n",
       " 'SouthElMonte',\n",
       " 'SouthEnd',\n",
       " 'SouthGate',\n",
       " 'SouthLA',\n",
       " 'SouthLoop/PrintersRow',\n",
       " 'SouthOzonePark',\n",
       " 'SouthPasadena',\n",
       " 'SouthRobertson',\n",
       " 'SouthSanGabriel',\n",
       " 'SouthShore',\n",
       " 'SouthStreetSeaport',\n",
       " 'SouthWhittier',\n",
       " 'SouthwestWaterfront',\n",
       " 'SpringValley',\n",
       " 'SpuytenDuyvil',\n",
       " 'St.Elizabeths',\n",
       " 'St.George',\n",
       " 'Stapleton',\n",
       " 'Streeterville',\n",
       " 'Stronghold',\n",
       " 'StudioCity',\n",
       " 'SunValley',\n",
       " 'Sunland/Tujunga',\n",
       " 'Sunnyside',\n",
       " 'SunsetPark',\n",
       " 'Sylmar',\n",
       " 'Takoma',\n",
       " 'TakomaPark,MD',\n",
       " 'Tarzana',\n",
       " 'TelegraphHill',\n",
       " 'TempleCity',\n",
       " 'Tenderloin',\n",
       " 'TheBronx',\n",
       " 'TheCastro',\n",
       " 'TheRockaways',\n",
       " 'TheaterDistrict',\n",
       " 'ThrogsNeck',\n",
       " 'TimesSquare/TheatreDistrict',\n",
       " 'TodtHill',\n",
       " 'TolucaLake',\n",
       " 'Tompkinsville',\n",
       " 'Topanga',\n",
       " 'Torrance',\n",
       " 'Tottenville',\n",
       " 'Tremont',\n",
       " 'Tribeca',\n",
       " 'Trinidad',\n",
       " 'TruxtonCircle',\n",
       " 'TwinPeaks',\n",
       " 'Twining',\n",
       " 'UStreetCorridor',\n",
       " 'UkrainianVillage',\n",
       " 'UnionSquare',\n",
       " 'UniversityHeights',\n",
       " 'UpperEastSide',\n",
       " 'UpperWestSide',\n",
       " 'Uptown',\n",
       " 'Utopia',\n",
       " 'ValleyGlen',\n",
       " 'ValleyVillage',\n",
       " 'VanNest',\n",
       " 'VanNuys',\n",
       " 'Venice',\n",
       " 'Vernon',\n",
       " 'VinegarHill',\n",
       " 'VisitacionValley',\n",
       " 'Wakefield',\n",
       " 'WashingtonHeights',\n",
       " 'WashingtonHighlands',\n",
       " 'WashingtonPark',\n",
       " 'Watts',\n",
       " 'WesleyHeights',\n",
       " 'WestAdams',\n",
       " 'WestAthens',\n",
       " 'WestBrighton',\n",
       " 'WestCovina',\n",
       " 'WestElsdon',\n",
       " 'WestEnd',\n",
       " 'WestFarms',\n",
       " 'WestHills',\n",
       " 'WestHollywood',\n",
       " 'WestLawn',\n",
       " 'WestLoop/Greektown',\n",
       " 'WestLosAngeles',\n",
       " 'WestPortal',\n",
       " 'WestPuenteValley',\n",
       " 'WestRidge',\n",
       " 'WestRoxbury',\n",
       " 'WestTown/NobleSquare',\n",
       " 'WestVillage',\n",
       " 'Westchester/PlayaDelRey',\n",
       " 'WestchesterVillage',\n",
       " 'Westerleigh',\n",
       " 'WesternAddition/NOPA',\n",
       " 'Westlake',\n",
       " 'Westmont',\n",
       " 'Westside',\n",
       " 'Westwood',\n",
       " 'Whitestone',\n",
       " 'Whittier',\n",
       " 'WickerPark',\n",
       " 'Williamsbridge',\n",
       " 'Williamsburg',\n",
       " 'Willowbrook',\n",
       " 'WindsorTerrace',\n",
       " 'Winnetka',\n",
       " 'Winthrop',\n",
       " 'Woodhaven',\n",
       " 'Woodland',\n",
       " 'WoodlandHills/WarnerCenter',\n",
       " 'Woodlawn',\n",
       " 'WoodleyPark',\n",
       " 'Woodridge',\n",
       " 'Woodside',\n",
       " 'Wrigleyville',\n",
       " '20-29',\n",
       " '30-39',\n",
       " '40-49',\n",
       " '50-59',\n",
       " '60-69',\n",
       " '70-79',\n",
       " '80-84',\n",
       " '85-89',\n",
       " '90-94',\n",
       " '95-100',\n",
       " 'No Reviews',\n",
       " 'c_distance']"
      ]
     },
     "execution_count": 79,
     "metadata": {},
     "output_type": "execute_result"
    }
   ],
   "source": [
    "feature = list(df_train)\n",
    "\n",
    "# items to be removed \n",
    "unwanted_feature = {'id','log_price', 'latitude', 'longitude', 'c_lat', 'c_lon'}\n",
    "\n",
    "\n",
    "list1 = [ele for ele in feature if ele not in unwanted_feature]\n",
    "\n",
    "list1"
   ]
  },
  {
   "cell_type": "code",
   "execution_count": 80,
   "metadata": {},
   "outputs": [],
   "source": [
    "# select the columns\n",
    "X_columns = list1\n",
    "y_column = ['log_price']"
   ]
  },
  {
   "cell_type": "code",
   "execution_count": 81,
   "metadata": {},
   "outputs": [
    {
     "name": "stdout",
     "output_type": "stream",
     "text": [
      "X_train (40045, 688)\n",
      "y_train (40045, 1)\n",
      "X_test (10012, 688)\n",
      "y_test (10012, 1)\n"
     ]
    }
   ],
   "source": [
    "# split the data using sklearn\n",
    "\n",
    "threshold = 0.8\n",
    "X = df_train[X_columns]\n",
    "y = df_train[y_column]\n",
    "X_train, X_test, y_train, y_test = train_test_split(X, y, test_size=1.0-threshold, shuffle=True)\n",
    "\n",
    "print('X_train', X_train.shape)\n",
    "print('y_train', y_train.shape)\n",
    "print('X_test', X_test.shape)\n",
    "print('y_test', y_test.shape)"
   ]
  },
  {
   "cell_type": "code",
   "execution_count": 82,
   "metadata": {},
   "outputs": [],
   "source": [
    "def model_training(model_name, model, X_train, y_train):\n",
    "    model.fit(X_train, y_train)\n",
    "    return model\n",
    "    \n",
    "def model_prediction(model, X_test):\n",
    "    y_pred = model.predict(X_test)\n",
    "    return y_pred\n",
    "\n",
    "def model_evaluation(model_name, y_test, y_pred):\n",
    "    print(model_name)\n",
    "    print('MAE', mean_absolute_error(y_test, y_pred))\n",
    "    print('RMSE', np.sqrt(mean_squared_error(y_test, y_pred)))\n",
    "#     plt.scatter(y_test, y_pred, alpha=0.3)\n",
    "#     plt.plot(range(0,5000000, 100), range(0,5000000, 100), '--r', alpha=0.3, label='Line1')\n",
    "#     plt.title(model_name)\n",
    "#     plt.xlabel('True Value')\n",
    "#     plt.ylabel('Predict Value')\n",
    "#     plt.xlim([0, 5000000])\n",
    "#     plt.ylim([0, 5000000])\n",
    "#     plt.show()\n",
    "    print('')\n",
    "\n",
    "def run_experiment(model_name, model, X_train, y_train, X_test):\n",
    "    train_model = model_training(model_name, model, X_train, y_train)\n",
    "    predictions = model_prediction(train_model, X_test)\n",
    "    model_evaluation(model_name, y_test, predictions)\n",
    "    \n",
    "# run_experiment('Linear Regression', LinearRegression(), X_train, y_train, X_test)\n",
    "# run_experiment('KNN 5', KNeighborsRegressor(5), X_train, y_train, X_test)\n",
    "# run_experiment('KNN 2', KNeighborsRegressor(2), X_train, y_train, X_test)\n",
    "# run_experiment('Decision Tree', DecisionTreeRegressor(), X_train, y_train, X_test)\n",
    "# run_experiment('Random Forest 10', RandomForestRegressor(10), X_train, y_train, X_test)\n",
    "# run_experiment('Random Forest 100', RandomForestRegressor(100), X_train, y_train, X_test)\n",
    "# run_experiment('Random Forest 200', RandomForestRegressor(200), X_train, y_train, X_test)\n",
    "# run_experiment('Gradient Boosting', GradientBoostingRegressor(), X_train, y_train, X_test)\n",
    "\n"
   ]
  },
  {
   "cell_type": "markdown",
   "metadata": {},
   "source": [
    "# Model Training"
   ]
  },
  {
   "cell_type": "code",
   "execution_count": 83,
   "metadata": {},
   "outputs": [
    {
     "name": "stderr",
     "output_type": "stream",
     "text": [
      "C:\\ProgramData\\Anaconda3\\lib\\site-packages\\sklearn\\utils\\validation.py:761: DataConversionWarning: A column-vector y was passed when a 1d array was expected. Please change the shape of y to (n_samples, ), for example using ravel().\n",
      "  y = column_or_1d(y, warn=True)\n"
     ]
    }
   ],
   "source": [
    "# train a linear regression\n",
    "model = GradientBoostingRegressor()\n",
    "model.fit(X_train, y_train)\n",
    "y_pred = model.predict(X_test)"
   ]
  },
  {
   "cell_type": "markdown",
   "metadata": {},
   "source": [
    "# Model Evaluation"
   ]
  },
  {
   "cell_type": "code",
   "execution_count": 84,
   "metadata": {},
   "outputs": [
    {
     "name": "stdout",
     "output_type": "stream",
     "text": [
      "RMSE 0.4267\n"
     ]
    },
    {
     "data": {
      "image/png": "[encoded data removed]",
      "text/plain": [
       "<Figure size 432x288 with 1 Axes>"
      ]
     },
     "metadata": {
      "needs_background": "light"
     },
     "output_type": "display_data"
    }
   ],
   "source": [
    "rmse = np.sqrt(mean_squared_error(y_test, y_pred))\n",
    "print('RMSE', round(rmse, 4))\n",
    "plt.scatter(y_test, y_pred, alpha=0.3)\n",
    "plt.plot(range(0,10), range(0,10), '--r', alpha=0.3, label='Line1')\n",
    "plt.title('Gradient Boosting')\n",
    "plt.xlabel('True Value')\n",
    "plt.ylabel('Predict Value')\n",
    "plt.show()"
   ]
  },
  {
   "cell_type": "markdown",
   "metadata": {},
   "source": [
    "# Prepare submission"
   ]
  },
  {
   "cell_type": "code",
   "execution_count": 85,
   "metadata": {},
   "outputs": [
    {
     "ename": "KeyError",
     "evalue": "'[\\'16thStreetHeights\\' \\'AdamsMorgan\\' \\'AlamoSquare\\' \\'AlbanyPark\\'\\n \\'AlondraPark\\' \\'AlphabetCity\\' \\'AmericanUniversityPark\\' \\'Annadale\\'\\n \\'Arboretum\\' \\'ArcherHeights\\' \\'Arleta\\' \\'ArmourSquare\\' \\'Artesia\\'\\n \\'ArtsDistrict\\' \\'Ashburn\\' \\'AtwaterVillage\\' \\'AuburnGresham\\' \\'BackBay\\'\\n \\'BackoftheYards\\' \\'BalboaTerrace\\' \\'BaldwinHills\\' \\'BaldwinPark\\'\\n \\'BarneyCircle\\' \\'BarryFarm\\' \\'BathBeach\\' \\'BatteryParkCity\\' \\'BayRidge\\'\\n \\'BeaconHill\\' \\'BedfordPark\\' \\'BelAir/BeverlyCrest\\' \\'BelmontCragin\\'\\n \\'Benning\\' \\'BenningHeights\\' \\'BenningRidge\\' \\'BergenBeach\\' \\'BernalHeights\\'\\n \\'BeverlyHills\\' \\'BoerumHill\\' \\'BoroughPark\\' \\'BoyleHeights\\' \\'BrightonBeach\\'\\n \\'BrightonPark\\' \\'BrooklynHeights\\' \\'BrooklynNavyYard\\' \\'BuenaVista\\'\\n \\'CahuengaPass\\' \\'Cambridge\\' \\'CanogaPark\\' \\'CapitolHill\\' \\'CarrollGardens\\'\\n \\'CarverLangston\\' \\'CastleHill\\' \\'CastletonCorners\\' \\'CathedralHeights\\'\\n \\'CentralNortheast/MahaningHeights\\' \\'ChestnutHill\\' \\'ChevyChase\\'\\n \\'Chillum,MD\\' \\'CityIsland\\' \\'CivicCenter\\' \\'ClevelandPark\\' \\'Clifton\\'\\n \\'ClintonHill\\' \\'Co-opCity\\' \\'CobbleHill\\' \\'ColeValley\\' \\'CollegePoint\\'\\n \\'ColonialVillage\\' \\'ColumbiaHeights\\' \\'ColumbiaStreetWaterfront\\' \\'Commerce\\'\\n \\'ConcourseVillage\\' \\'ConeyIsland\\' \\'CongressHeights\\' \\'CoolidgeCorner\\'\\n \\'CowHollow\\' \\'CrockerAmazon\\' \\'CrownHeights\\' \\'CulverCity\\' \\'CypressPark\\'\\n \\'DalyCity\\' \\'DelRey\\' \\'DiamondHeights\\' \\'Ditmars/Steinway\\' \\'DonganHills\\'\\n \\'Downtown/PennQuarter\\' \\'DowntownBrooklyn\\' \\'DowntownCrossing\\'\\n \\'DuboceTriangle\\' \\'DupontCircle\\' \\'DupontPark\\' \\'DykerHeights\\' \\'EagleRock\\'\\n \\'EastBoston\\' \\'EastCorner\\' \\'EastElmhurst\\' \\'EastFlatbush\\' \\'EastHarlem\\'\\n \\'EastHollywood\\' \\'EastLosAngeles\\' \\'EastNewYork\\' \\'EastSanGabriel\\'\\n \\'EastVillage\\' \\'EastlandGardens\\' \\'EchoPark\\' \\'EdisonPark\\' \\'ElMonte\\'\\n \\'ElSegundo\\' \\'ElSereno\\' \\'ElmPark\\' \\'Eltingville\\' \\'ElysianValley\\'\\n \\'FinancialDistrict\\' \"Fisherman\\'sWharf\" \\'FlatironDistrict\\' \\'FoggyBottom\\'\\n \\'ForestHill\\' \\'ForestHills\\' \\'FortDavis\\' \\'FortDupont\\' \\'FortGreene\\'\\n \\'FortLincoln\\' \\'FortTotten\\' \\'FortWadsworth\\' \\'FreshMeadows\\'\\n \\'FriendshipHeights\\' \\'GarfieldHeights\\' \\'GarfieldPark\\' \\'GarfieldRidge\\'\\n \\'GlassellPark\\' \\'GlenPark\\' \\'GloverPark\\' \\'GoldCoast\\' \\'GoodHope\\'\\n \\'GovernmentCenter\\' \\'GramercyPark\\' \\'GranadaHillsNorth\\' \\'GrandCrossing\\'\\n \\'Graniteville\\' \\'GrantCity\\' \\'GreatKills\\' \\'GreenwichVillage\\'\\n \\'GreenwoodHeights\\' \\'GrymesHill\\' \\'HamiltonHeights\\' \\'HarborCity\\'\\n \\'HarborGateway\\' \\'HawaiianGardens\\' \\'HayesValley\\' \"Hell\\'sKitchen\"\\n \\'HermosaBeach\\' \\'HighlandPark\\' \\'HilcrestHeights/MarlowHeights,MD\\'\\n \\'Hillbrook\\' \\'HollywoodHills\\' \\'HowardBeach\\' \\'HudsonSquare\\' \\'Huguenot\\'\\n \\'HumboldtPark\\' \\'HuntingtonPark\\' \\'HuntsPoint\\' \\'HydePark\\' \\'InnerSunset\\'\\n \\'IrvingPark\\' \\'IvyCity\\' \\'JacksonHeights\\' \\'JamaicaPlain\\' \\'JeffersonPark\\'\\n \\'JudiciarySquare\\' \\'KewGardenHills\\' \\'KingmanPark\\' \\'KingsbridgeHeights\\'\\n \\'KipsBay\\' \\'LaCanadaFlintridge\\' \\'LaCrescenta-Montrose\\' \\'LaHabra\\'\\n \\'LaMirada\\' \\'LaPuente\\' \\'LakeBalboa\\' \\'LamondRiggs\\' \\'LaurelCanyon\\'\\n \\'LeDroitPark\\' \\'LeatherDistrict\\' \\'LeffertsGarden\\' \\'LighthouseHIll\\'\\n \\'LincolnHeights\\' \\'LincolnPark\\' \\'LincolnSquare\\' \\'Lindenwood\\' \\'LittleItaly\\'\\n \\'LittleItaly/UIC\\' \\'LittleVillage\\' \\'LoganCircle\\' \\'LoganSquare\\' \\'LongBeach\\'\\n \\'LongIslandCity\\' \\'LosFeliz\\' \\'LowerEastSide\\' \\'LowerHaight\\'\\n \\'ManhattanBeach\\' \\'ManorPark\\' \\'MarVista\\' \\'MarbleHill\\' \\'MarinaDelRey\\'\\n \\'MarinePark\\' \\'MarinersHarbor\\' \\'MarshallHeights\\' \\'MassachusettsHeights\\'\\n \\'McKinleyPark\\' \\'MeatpackingDistrict\\' \\'MeiersCorners\\' \\'MichiganPark\\'\\n \\'MiddleVillage\\' \\'MidlandBeach\\' \\'MidtownEast\\' \\'MillBasin\\' \\'MissionBay\\'\\n \\'MissionDistrict\\' \\'MissionHill\\' \\'MissionHills\\' \\'MissionTerrace\\'\\n \\'Montebello\\' \\'MontecitoHeights\\' \\'MontereyHills\\' \\'MontereyPark\\'\\n \\'MorganPark\\' \\'MorningsideHeights\\' \\'MorrisHeights\\' \\'MorrisPark\\'\\n \\'MottHaven\\' \\'MountEden\\' \\'MountPleasant\\' \\'MountVernonSquare\\'\\n \\'MountWashington\\' \\'Mt.Pleasant\\' \\'MtRainier/Brentwood,MD\\' \\'MurrayHill\\'\\n \\'NavyYard\\' \\'NaylorGardens\\' \\'NearNorthSide\\' \\'NearNortheast\\'\\n \\'NearNortheast/HStreetCorridor\\' \\'NearWestSide\\' \\'NewBrighton\\'\\n \\'NewDorpBeach\\' \\'NobHill\\' \\'NoeValley\\' \\'NorthBeach\\' \\'NorthCenter\\'\\n \\'NorthClevelandPark\\' \\'NorthEnd\\' \\'NorthHillsEast\\' \\'NorthHillsWest\\'\\n \\'NorthHollywood\\' \\'NorthLawndale\\' \\'NorthMichiganPark\\' \\'NorthPark\\'\\n \\'NorwoodPark\\' \"O\\'Hare\" \\'ObservatoryCircle\\' \"OldSoldiers\\'Home\" \\'OldTown\\'\\n \\'OuterSunset\\' \\'OzonePark\\' \\'PacificHeights\\' \\'PacificPalisades\\'\\n \\'PalosVerdes\\' \\'PanoramaCity\\' \\'Paramount\\' \\'ParkSlope\\' \\'ParkVersailles\\'\\n \\'ParkView\\' \\'PelhamBay\\' \\'PicoRivera\\' \\'PleasantHill\\' \\'PleasantPlains\\'\\n \\'PortMorris\\' \\'PortRichmond\\' \\'PortagePark\\' \\'PorterRanch\\' \\'PotreroHill\\'\\n \\'PresidioHeights\\' \\'ProspectHeights\\' \\'Pullman\\' \\'RanchoPalosVerdes\\'\\n \\'RandallManor\\' \\'RandleHighlands\\' \\'RedHook\\' \\'RedondoBeach\\' \\'RegoPark\\'\\n \\'RichmondDistrict\\' \\'RichmondHill\\' \\'RiverNorth\\' \\'RiverTerrace\\' \\'RiverWest\\'\\n \\'RogersPark\\' \\'RollingHills\\' \\'RollingHillsEstates\\' \\'RooseveltIsland\\'\\n \\'RoscoeVillage\\' \\'Rossville\\' \\'RussianHill\\' \\'SanGabriel\\' \\'SanMarino\\'\\n \\'SanPedro\\' \\'SantaFeSprings\\' \\'SantaMonica\\' \\'SeaCliff\\' \\'SeaGate\\'\\n \\'SheepsheadBay\\' \\'ShepherdPark\\' \\'ShermanOaks\\' \\'ShipleyTerrace\\'\\n \\'SierraMadre\\' \\'SignalHill\\' \\'SilverLake\\' \\'SilverSpring,MD\\' \\'SkidRow\\'\\n \\'Skyland\\' \\'SouthBeach\\' \\'SouthBoston\\' \\'SouthChicago\\' \\'SouthElMonte\\'\\n \\'SouthEnd\\' \\'SouthGate\\' \\'SouthLA\\' \\'SouthLoop/PrintersRow\\' \\'SouthOzonePark\\'\\n \\'SouthPasadena\\' \\'SouthRobertson\\' \\'SouthSanGabriel\\' \\'SouthShore\\'\\n \\'SouthStreetSeaport\\' \\'SouthWhittier\\' \\'SouthwestWaterfront\\' \\'SpringValley\\'\\n \\'SpuytenDuyvil\\' \\'St.Elizabeths\\' \\'St.George\\' \\'StudioCity\\' \\'SunValley\\'\\n \\'SunsetPark\\' \\'TakomaPark,MD\\' \\'TelegraphHill\\' \\'TempleCity\\' \\'TheBronx\\'\\n \\'TheCastro\\' \\'TheRockaways\\' \\'TheaterDistrict\\' \\'ThrogsNeck\\'\\n \\'TimesSquare/TheatreDistrict\\' \\'TodtHill\\' \\'TolucaLake\\' \\'Tottenville\\'\\n \\'TruxtonCircle\\' \\'TwinPeaks\\' \\'UStreetCorridor\\' \\'UkrainianVillage\\'\\n \\'UnionSquare\\' \\'UniversityHeights\\' \\'UpperEastSide\\' \\'UpperWestSide\\'\\n \\'ValleyGlen\\' \\'ValleyVillage\\' \\'VanNest\\' \\'VanNuys\\' \\'Vernon\\' \\'VinegarHill\\'\\n \\'VisitacionValley\\' \\'WashingtonHeights\\' \\'WashingtonHighlands\\'\\n \\'WashingtonPark\\' \\'WesleyHeights\\' \\'WestAdams\\' \\'WestAthens\\' \\'WestBrighton\\'\\n \\'WestCovina\\' \\'WestElsdon\\' \\'WestEnd\\' \\'WestFarms\\' \\'WestHills\\'\\n \\'WestHollywood\\' \\'WestLawn\\' \\'WestLoop/Greektown\\' \\'WestLosAngeles\\'\\n \\'WestPortal\\' \\'WestPuenteValley\\' \\'WestRidge\\' \\'WestRoxbury\\'\\n \\'WestTown/NobleSquare\\' \\'WestVillage\\' \\'Westchester/PlayaDelRey\\'\\n \\'WestchesterVillage\\' \\'WesternAddition/NOPA\\' \\'WickerPark\\' \\'WindsorTerrace\\'\\n \\'Winthrop\\' \\'Woodland\\' \\'WoodlandHills/WarnerCenter\\' \\'WoodleyPark\\'] not in index'",
     "output_type": "error",
     "traceback": [
      "\u001b[1;31m---------------------------------------------------------------------------\u001b[0m",
      "\u001b[1;31mKeyError\u001b[0m                                  Traceback (most recent call last)",
      "\u001b[1;32m<ipython-input-85-cf60b52cd860>\u001b[0m in \u001b[0;36m<module>\u001b[1;34m\u001b[0m\n\u001b[1;32m----> 1\u001b[1;33m \u001b[0mdf_prediction\u001b[0m \u001b[1;33m=\u001b[0m \u001b[0mdf_test\u001b[0m\u001b[1;33m[\u001b[0m\u001b[0mX_columns\u001b[0m\u001b[1;33m]\u001b[0m\u001b[1;33m.\u001b[0m\u001b[0mfillna\u001b[0m\u001b[1;33m(\u001b[0m\u001b[1;36m0.0\u001b[0m\u001b[1;33m)\u001b[0m\u001b[1;33m\u001b[0m\u001b[1;33m\u001b[0m\u001b[0m\n\u001b[0m\u001b[0;32m      2\u001b[0m \u001b[0mdf_test\u001b[0m\u001b[1;33m[\u001b[0m\u001b[1;34m'log_price'\u001b[0m\u001b[1;33m]\u001b[0m \u001b[1;33m=\u001b[0m \u001b[0mmodel\u001b[0m\u001b[1;33m.\u001b[0m\u001b[0mpredict\u001b[0m\u001b[1;33m(\u001b[0m\u001b[0mdf_prediction\u001b[0m\u001b[1;33m)\u001b[0m\u001b[1;33m\u001b[0m\u001b[1;33m\u001b[0m\u001b[0m\n\u001b[0;32m      3\u001b[0m \u001b[0mdf_test\u001b[0m\u001b[1;33m[\u001b[0m\u001b[1;33m[\u001b[0m\u001b[1;34m'id'\u001b[0m\u001b[1;33m,\u001b[0m \u001b[1;34m'log_price'\u001b[0m\u001b[1;33m]\u001b[0m\u001b[1;33m]\u001b[0m\u001b[1;33m\u001b[0m\u001b[1;33m\u001b[0m\u001b[0m\n",
      "\u001b[1;32mC:\\ProgramData\\Anaconda3\\lib\\site-packages\\pandas\\core\\frame.py\u001b[0m in \u001b[0;36m__getitem__\u001b[1;34m(self, key)\u001b[0m\n\u001b[0;32m   2680\u001b[0m         \u001b[1;32mif\u001b[0m \u001b[0misinstance\u001b[0m\u001b[1;33m(\u001b[0m\u001b[0mkey\u001b[0m\u001b[1;33m,\u001b[0m \u001b[1;33m(\u001b[0m\u001b[0mSeries\u001b[0m\u001b[1;33m,\u001b[0m \u001b[0mnp\u001b[0m\u001b[1;33m.\u001b[0m\u001b[0mndarray\u001b[0m\u001b[1;33m,\u001b[0m \u001b[0mIndex\u001b[0m\u001b[1;33m,\u001b[0m \u001b[0mlist\u001b[0m\u001b[1;33m)\u001b[0m\u001b[1;33m)\u001b[0m\u001b[1;33m:\u001b[0m\u001b[1;33m\u001b[0m\u001b[1;33m\u001b[0m\u001b[0m\n\u001b[0;32m   2681\u001b[0m             \u001b[1;31m# either boolean or fancy integer index\u001b[0m\u001b[1;33m\u001b[0m\u001b[1;33m\u001b[0m\u001b[1;33m\u001b[0m\u001b[0m\n\u001b[1;32m-> 2682\u001b[1;33m             \u001b[1;32mreturn\u001b[0m \u001b[0mself\u001b[0m\u001b[1;33m.\u001b[0m\u001b[0m_getitem_array\u001b[0m\u001b[1;33m(\u001b[0m\u001b[0mkey\u001b[0m\u001b[1;33m)\u001b[0m\u001b[1;33m\u001b[0m\u001b[1;33m\u001b[0m\u001b[0m\n\u001b[0m\u001b[0;32m   2683\u001b[0m         \u001b[1;32melif\u001b[0m \u001b[0misinstance\u001b[0m\u001b[1;33m(\u001b[0m\u001b[0mkey\u001b[0m\u001b[1;33m,\u001b[0m \u001b[0mDataFrame\u001b[0m\u001b[1;33m)\u001b[0m\u001b[1;33m:\u001b[0m\u001b[1;33m\u001b[0m\u001b[1;33m\u001b[0m\u001b[0m\n\u001b[0;32m   2684\u001b[0m             \u001b[1;32mreturn\u001b[0m \u001b[0mself\u001b[0m\u001b[1;33m.\u001b[0m\u001b[0m_getitem_frame\u001b[0m\u001b[1;33m(\u001b[0m\u001b[0mkey\u001b[0m\u001b[1;33m)\u001b[0m\u001b[1;33m\u001b[0m\u001b[1;33m\u001b[0m\u001b[0m\n",
      "\u001b[1;32mC:\\ProgramData\\Anaconda3\\lib\\site-packages\\pandas\\core\\frame.py\u001b[0m in \u001b[0;36m_getitem_array\u001b[1;34m(self, key)\u001b[0m\n\u001b[0;32m   2724\u001b[0m             \u001b[1;32mreturn\u001b[0m \u001b[0mself\u001b[0m\u001b[1;33m.\u001b[0m\u001b[0m_take\u001b[0m\u001b[1;33m(\u001b[0m\u001b[0mindexer\u001b[0m\u001b[1;33m,\u001b[0m \u001b[0maxis\u001b[0m\u001b[1;33m=\u001b[0m\u001b[1;36m0\u001b[0m\u001b[1;33m)\u001b[0m\u001b[1;33m\u001b[0m\u001b[1;33m\u001b[0m\u001b[0m\n\u001b[0;32m   2725\u001b[0m         \u001b[1;32melse\u001b[0m\u001b[1;33m:\u001b[0m\u001b[1;33m\u001b[0m\u001b[1;33m\u001b[0m\u001b[0m\n\u001b[1;32m-> 2726\u001b[1;33m             \u001b[0mindexer\u001b[0m \u001b[1;33m=\u001b[0m \u001b[0mself\u001b[0m\u001b[1;33m.\u001b[0m\u001b[0mloc\u001b[0m\u001b[1;33m.\u001b[0m\u001b[0m_convert_to_indexer\u001b[0m\u001b[1;33m(\u001b[0m\u001b[0mkey\u001b[0m\u001b[1;33m,\u001b[0m \u001b[0maxis\u001b[0m\u001b[1;33m=\u001b[0m\u001b[1;36m1\u001b[0m\u001b[1;33m)\u001b[0m\u001b[1;33m\u001b[0m\u001b[1;33m\u001b[0m\u001b[0m\n\u001b[0m\u001b[0;32m   2727\u001b[0m             \u001b[1;32mreturn\u001b[0m \u001b[0mself\u001b[0m\u001b[1;33m.\u001b[0m\u001b[0m_take\u001b[0m\u001b[1;33m(\u001b[0m\u001b[0mindexer\u001b[0m\u001b[1;33m,\u001b[0m \u001b[0maxis\u001b[0m\u001b[1;33m=\u001b[0m\u001b[1;36m1\u001b[0m\u001b[1;33m)\u001b[0m\u001b[1;33m\u001b[0m\u001b[1;33m\u001b[0m\u001b[0m\n\u001b[0;32m   2728\u001b[0m \u001b[1;33m\u001b[0m\u001b[0m\n",
      "\u001b[1;32mC:\\ProgramData\\Anaconda3\\lib\\site-packages\\pandas\\core\\indexing.py\u001b[0m in \u001b[0;36m_convert_to_indexer\u001b[1;34m(self, obj, axis, is_setter)\u001b[0m\n\u001b[0;32m   1325\u001b[0m                 \u001b[1;32mif\u001b[0m \u001b[0mmask\u001b[0m\u001b[1;33m.\u001b[0m\u001b[0many\u001b[0m\u001b[1;33m(\u001b[0m\u001b[1;33m)\u001b[0m\u001b[1;33m:\u001b[0m\u001b[1;33m\u001b[0m\u001b[1;33m\u001b[0m\u001b[0m\n\u001b[0;32m   1326\u001b[0m                     raise KeyError('{mask} not in index'\n\u001b[1;32m-> 1327\u001b[1;33m                                    .format(mask=objarr[mask]))\n\u001b[0m\u001b[0;32m   1328\u001b[0m \u001b[1;33m\u001b[0m\u001b[0m\n\u001b[0;32m   1329\u001b[0m                 \u001b[1;32mreturn\u001b[0m \u001b[0mcom\u001b[0m\u001b[1;33m.\u001b[0m\u001b[0m_values_from_object\u001b[0m\u001b[1;33m(\u001b[0m\u001b[0mindexer\u001b[0m\u001b[1;33m)\u001b[0m\u001b[1;33m\u001b[0m\u001b[1;33m\u001b[0m\u001b[0m\n",
      "\u001b[1;31mKeyError\u001b[0m: '[\\'16thStreetHeights\\' \\'AdamsMorgan\\' \\'AlamoSquare\\' \\'AlbanyPark\\'\\n \\'AlondraPark\\' \\'AlphabetCity\\' \\'AmericanUniversityPark\\' \\'Annadale\\'\\n \\'Arboretum\\' \\'ArcherHeights\\' \\'Arleta\\' \\'ArmourSquare\\' \\'Artesia\\'\\n \\'ArtsDistrict\\' \\'Ashburn\\' \\'AtwaterVillage\\' \\'AuburnGresham\\' \\'BackBay\\'\\n \\'BackoftheYards\\' \\'BalboaTerrace\\' \\'BaldwinHills\\' \\'BaldwinPark\\'\\n \\'BarneyCircle\\' \\'BarryFarm\\' \\'BathBeach\\' \\'BatteryParkCity\\' \\'BayRidge\\'\\n \\'BeaconHill\\' \\'BedfordPark\\' \\'BelAir/BeverlyCrest\\' \\'BelmontCragin\\'\\n \\'Benning\\' \\'BenningHeights\\' \\'BenningRidge\\' \\'BergenBeach\\' \\'BernalHeights\\'\\n \\'BeverlyHills\\' \\'BoerumHill\\' \\'BoroughPark\\' \\'BoyleHeights\\' \\'BrightonBeach\\'\\n \\'BrightonPark\\' \\'BrooklynHeights\\' \\'BrooklynNavyYard\\' \\'BuenaVista\\'\\n \\'CahuengaPass\\' \\'Cambridge\\' \\'CanogaPark\\' \\'CapitolHill\\' \\'CarrollGardens\\'\\n \\'CarverLangston\\' \\'CastleHill\\' \\'CastletonCorners\\' \\'CathedralHeights\\'\\n \\'CentralNortheast/MahaningHeights\\' \\'ChestnutHill\\' \\'ChevyChase\\'\\n \\'Chillum,MD\\' \\'CityIsland\\' \\'CivicCenter\\' \\'ClevelandPark\\' \\'Clifton\\'\\n \\'ClintonHill\\' \\'Co-opCity\\' \\'CobbleHill\\' \\'ColeValley\\' \\'CollegePoint\\'\\n \\'ColonialVillage\\' \\'ColumbiaHeights\\' \\'ColumbiaStreetWaterfront\\' \\'Commerce\\'\\n \\'ConcourseVillage\\' \\'ConeyIsland\\' \\'CongressHeights\\' \\'CoolidgeCorner\\'\\n \\'CowHollow\\' \\'CrockerAmazon\\' \\'CrownHeights\\' \\'CulverCity\\' \\'CypressPark\\'\\n \\'DalyCity\\' \\'DelRey\\' \\'DiamondHeights\\' \\'Ditmars/Steinway\\' \\'DonganHills\\'\\n \\'Downtown/PennQuarter\\' \\'DowntownBrooklyn\\' \\'DowntownCrossing\\'\\n \\'DuboceTriangle\\' \\'DupontCircle\\' \\'DupontPark\\' \\'DykerHeights\\' \\'EagleRock\\'\\n \\'EastBoston\\' \\'EastCorner\\' \\'EastElmhurst\\' \\'EastFlatbush\\' \\'EastHarlem\\'\\n \\'EastHollywood\\' \\'EastLosAngeles\\' \\'EastNewYork\\' \\'EastSanGabriel\\'\\n \\'EastVillage\\' \\'EastlandGardens\\' \\'EchoPark\\' \\'EdisonPark\\' \\'ElMonte\\'\\n \\'ElSegundo\\' \\'ElSereno\\' \\'ElmPark\\' \\'Eltingville\\' \\'ElysianValley\\'\\n \\'FinancialDistrict\\' \"Fisherman\\'sWharf\" \\'FlatironDistrict\\' \\'FoggyBottom\\'\\n \\'ForestHill\\' \\'ForestHills\\' \\'FortDavis\\' \\'FortDupont\\' \\'FortGreene\\'\\n \\'FortLincoln\\' \\'FortTotten\\' \\'FortWadsworth\\' \\'FreshMeadows\\'\\n \\'FriendshipHeights\\' \\'GarfieldHeights\\' \\'GarfieldPark\\' \\'GarfieldRidge\\'\\n \\'GlassellPark\\' \\'GlenPark\\' \\'GloverPark\\' \\'GoldCoast\\' \\'GoodHope\\'\\n \\'GovernmentCenter\\' \\'GramercyPark\\' \\'GranadaHillsNorth\\' \\'GrandCrossing\\'\\n \\'Graniteville\\' \\'GrantCity\\' \\'GreatKills\\' \\'GreenwichVillage\\'\\n \\'GreenwoodHeights\\' \\'GrymesHill\\' \\'HamiltonHeights\\' \\'HarborCity\\'\\n \\'HarborGateway\\' \\'HawaiianGardens\\' \\'HayesValley\\' \"Hell\\'sKitchen\"\\n \\'HermosaBeach\\' \\'HighlandPark\\' \\'HilcrestHeights/MarlowHeights,MD\\'\\n \\'Hillbrook\\' \\'HollywoodHills\\' \\'HowardBeach\\' \\'HudsonSquare\\' \\'Huguenot\\'\\n \\'HumboldtPark\\' \\'HuntingtonPark\\' \\'HuntsPoint\\' \\'HydePark\\' \\'InnerSunset\\'\\n \\'IrvingPark\\' \\'IvyCity\\' \\'JacksonHeights\\' \\'JamaicaPlain\\' \\'JeffersonPark\\'\\n \\'JudiciarySquare\\' \\'KewGardenHills\\' \\'KingmanPark\\' \\'KingsbridgeHeights\\'\\n \\'KipsBay\\' \\'LaCanadaFlintridge\\' \\'LaCrescenta-Montrose\\' \\'LaHabra\\'\\n \\'LaMirada\\' \\'LaPuente\\' \\'LakeBalboa\\' \\'LamondRiggs\\' \\'LaurelCanyon\\'\\n \\'LeDroitPark\\' \\'LeatherDistrict\\' \\'LeffertsGarden\\' \\'LighthouseHIll\\'\\n \\'LincolnHeights\\' \\'LincolnPark\\' \\'LincolnSquare\\' \\'Lindenwood\\' \\'LittleItaly\\'\\n \\'LittleItaly/UIC\\' \\'LittleVillage\\' \\'LoganCircle\\' \\'LoganSquare\\' \\'LongBeach\\'\\n \\'LongIslandCity\\' \\'LosFeliz\\' \\'LowerEastSide\\' \\'LowerHaight\\'\\n \\'ManhattanBeach\\' \\'ManorPark\\' \\'MarVista\\' \\'MarbleHill\\' \\'MarinaDelRey\\'\\n \\'MarinePark\\' \\'MarinersHarbor\\' \\'MarshallHeights\\' \\'MassachusettsHeights\\'\\n \\'McKinleyPark\\' \\'MeatpackingDistrict\\' \\'MeiersCorners\\' \\'MichiganPark\\'\\n \\'MiddleVillage\\' \\'MidlandBeach\\' \\'MidtownEast\\' \\'MillBasin\\' \\'MissionBay\\'\\n \\'MissionDistrict\\' \\'MissionHill\\' \\'MissionHills\\' \\'MissionTerrace\\'\\n \\'Montebello\\' \\'MontecitoHeights\\' \\'MontereyHills\\' \\'MontereyPark\\'\\n \\'MorganPark\\' \\'MorningsideHeights\\' \\'MorrisHeights\\' \\'MorrisPark\\'\\n \\'MottHaven\\' \\'MountEden\\' \\'MountPleasant\\' \\'MountVernonSquare\\'\\n \\'MountWashington\\' \\'Mt.Pleasant\\' \\'MtRainier/Brentwood,MD\\' \\'MurrayHill\\'\\n \\'NavyYard\\' \\'NaylorGardens\\' \\'NearNorthSide\\' \\'NearNortheast\\'\\n \\'NearNortheast/HStreetCorridor\\' \\'NearWestSide\\' \\'NewBrighton\\'\\n \\'NewDorpBeach\\' \\'NobHill\\' \\'NoeValley\\' \\'NorthBeach\\' \\'NorthCenter\\'\\n \\'NorthClevelandPark\\' \\'NorthEnd\\' \\'NorthHillsEast\\' \\'NorthHillsWest\\'\\n \\'NorthHollywood\\' \\'NorthLawndale\\' \\'NorthMichiganPark\\' \\'NorthPark\\'\\n \\'NorwoodPark\\' \"O\\'Hare\" \\'ObservatoryCircle\\' \"OldSoldiers\\'Home\" \\'OldTown\\'\\n \\'OuterSunset\\' \\'OzonePark\\' \\'PacificHeights\\' \\'PacificPalisades\\'\\n \\'PalosVerdes\\' \\'PanoramaCity\\' \\'Paramount\\' \\'ParkSlope\\' \\'ParkVersailles\\'\\n \\'ParkView\\' \\'PelhamBay\\' \\'PicoRivera\\' \\'PleasantHill\\' \\'PleasantPlains\\'\\n \\'PortMorris\\' \\'PortRichmond\\' \\'PortagePark\\' \\'PorterRanch\\' \\'PotreroHill\\'\\n \\'PresidioHeights\\' \\'ProspectHeights\\' \\'Pullman\\' \\'RanchoPalosVerdes\\'\\n \\'RandallManor\\' \\'RandleHighlands\\' \\'RedHook\\' \\'RedondoBeach\\' \\'RegoPark\\'\\n \\'RichmondDistrict\\' \\'RichmondHill\\' \\'RiverNorth\\' \\'RiverTerrace\\' \\'RiverWest\\'\\n \\'RogersPark\\' \\'RollingHills\\' \\'RollingHillsEstates\\' \\'RooseveltIsland\\'\\n \\'RoscoeVillage\\' \\'Rossville\\' \\'RussianHill\\' \\'SanGabriel\\' \\'SanMarino\\'\\n \\'SanPedro\\' \\'SantaFeSprings\\' \\'SantaMonica\\' \\'SeaCliff\\' \\'SeaGate\\'\\n \\'SheepsheadBay\\' \\'ShepherdPark\\' \\'ShermanOaks\\' \\'ShipleyTerrace\\'\\n \\'SierraMadre\\' \\'SignalHill\\' \\'SilverLake\\' \\'SilverSpring,MD\\' \\'SkidRow\\'\\n \\'Skyland\\' \\'SouthBeach\\' \\'SouthBoston\\' \\'SouthChicago\\' \\'SouthElMonte\\'\\n \\'SouthEnd\\' \\'SouthGate\\' \\'SouthLA\\' \\'SouthLoop/PrintersRow\\' \\'SouthOzonePark\\'\\n \\'SouthPasadena\\' \\'SouthRobertson\\' \\'SouthSanGabriel\\' \\'SouthShore\\'\\n \\'SouthStreetSeaport\\' \\'SouthWhittier\\' \\'SouthwestWaterfront\\' \\'SpringValley\\'\\n \\'SpuytenDuyvil\\' \\'St.Elizabeths\\' \\'St.George\\' \\'StudioCity\\' \\'SunValley\\'\\n \\'SunsetPark\\' \\'TakomaPark,MD\\' \\'TelegraphHill\\' \\'TempleCity\\' \\'TheBronx\\'\\n \\'TheCastro\\' \\'TheRockaways\\' \\'TheaterDistrict\\' \\'ThrogsNeck\\'\\n \\'TimesSquare/TheatreDistrict\\' \\'TodtHill\\' \\'TolucaLake\\' \\'Tottenville\\'\\n \\'TruxtonCircle\\' \\'TwinPeaks\\' \\'UStreetCorridor\\' \\'UkrainianVillage\\'\\n \\'UnionSquare\\' \\'UniversityHeights\\' \\'UpperEastSide\\' \\'UpperWestSide\\'\\n \\'ValleyGlen\\' \\'ValleyVillage\\' \\'VanNest\\' \\'VanNuys\\' \\'Vernon\\' \\'VinegarHill\\'\\n \\'VisitacionValley\\' \\'WashingtonHeights\\' \\'WashingtonHighlands\\'\\n \\'WashingtonPark\\' \\'WesleyHeights\\' \\'WestAdams\\' \\'WestAthens\\' \\'WestBrighton\\'\\n \\'WestCovina\\' \\'WestElsdon\\' \\'WestEnd\\' \\'WestFarms\\' \\'WestHills\\'\\n \\'WestHollywood\\' \\'WestLawn\\' \\'WestLoop/Greektown\\' \\'WestLosAngeles\\'\\n \\'WestPortal\\' \\'WestPuenteValley\\' \\'WestRidge\\' \\'WestRoxbury\\'\\n \\'WestTown/NobleSquare\\' \\'WestVillage\\' \\'Westchester/PlayaDelRey\\'\\n \\'WestchesterVillage\\' \\'WesternAddition/NOPA\\' \\'WickerPark\\' \\'WindsorTerrace\\'\\n \\'Winthrop\\' \\'Woodland\\' \\'WoodlandHills/WarnerCenter\\' \\'WoodleyPark\\'] not in index'"
     ]
    }
   ],
   "source": [
    "df_prediction = df_test[X_columns].fillna(0.0)\n",
    "df_test['log_price'] = model.predict(df_prediction)\n",
    "df_test[['id', 'log_price']]"
   ]
  },
  {
   "cell_type": "code",
   "execution_count": null,
   "metadata": {},
   "outputs": [],
   "source": [
    "df_test[['id', 'log_price']].to_csv('Submission/AirBnB_Submission_5.csv', index=False)"
   ]
  },
  {
   "cell_type": "code",
   "execution_count": null,
   "metadata": {},
   "outputs": [],
   "source": []
  }
 ],
 "metadata": {
  "kernelspec": {
   "display_name": "Python 3",
   "language": "python",
   "name": "python3"
  },
  "language_info": {
   "codemirror_mode": {
    "name": "ipython",
    "version": 3
   },
   "file_extension": ".py",
   "mimetype": "text/x-python",
   "name": "python",
   "nbconvert_exporter": "python",
   "pygments_lexer": "ipython3",
   "version": "3.7.1"
  }
 },
 "nbformat": 4,
 "nbformat_minor": 2
}
