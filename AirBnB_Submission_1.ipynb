{
 "cells": [
  {
   "cell_type": "markdown",
   "metadata": {},
   "source": [
    "# AirBnB Price Prediction"
   ]
  },
  {
   "cell_type": "code",
   "execution_count": null,
   "metadata": {},
   "outputs": [],
   "source": [
    "# import the library\n",
    "%matplotlib inline\n",
    "\n",
    "import pandas as pd\n",
    "import numpy as np\n",
    "import matplotlib.pyplot as plt\n",
    "import seaborn as sns\n",
    "\n",
    "# sklearn :: utils\n",
    "from sklearn.model_selection import train_test_split\n",
    "\n",
    "# sklearn :: models\n",
    "from sklearn.linear_model import LinearRegression\n",
    "from sklearn.neighbors import KNeighborsRegressor\n",
    "from sklearn.tree import DecisionTreeRegressor\n",
    "from sklearn.ensemble import RandomForestRegressor\n",
    "from sklearn.ensemble import GradientBoostingRegressor\n",
    "\n",
    "# sklearn :: evaluation metrics\n",
    "from sklearn.metrics import mean_absolute_error\n",
    "from sklearn.metrics import mean_squared_error\n",
    "\n",
    "sns.set_style('whitegrid')"
   ]
  },
  {
   "cell_type": "markdown",
   "metadata": {},
   "source": [
    "# Load the csv Data Files into Dataframe"
   ]
  },
  {
   "cell_type": "code",
   "execution_count": null,
   "metadata": {},
   "outputs": [],
   "source": [
    "df_train = pd.read_csv('data/train.csv')\n",
    "df_test = pd.read_csv('data/test.csv')\n",
    "print(df_train.shape, df_test.shape)"
   ]
  },
  {
   "cell_type": "markdown",
   "metadata": {},
   "source": [
    "# Handline Missing Values & Convert Data Type"
   ]
  },
  {
   "cell_type": "code",
   "execution_count": null,
   "metadata": {},
   "outputs": [],
   "source": [
    "print(df_train.columns)\n",
    "df_train.head()"
   ]
  },
  {
   "cell_type": "code",
   "execution_count": null,
   "metadata": {},
   "outputs": [],
   "source": [
    "# Data types of the Feature\n",
    "df_train.dtypes"
   ]
  },
  {
   "cell_type": "code",
   "execution_count": null,
   "metadata": {},
   "outputs": [],
   "source": [
    "# Find the missing values\n",
    "print(df_train.isnull().sum())"
   ]
  },
  {
   "cell_type": "code",
   "execution_count": null,
   "metadata": {},
   "outputs": [],
   "source": [
    "df_missing = df_train.filter(['bathrooms', 'first_review', 'last_review', 'host_has_profile_pic', 'host_identity_verified', \n",
    "                              'host_response_rate', 'host_since', 'neighbourhood', 'review_scores_rating','zipcode'])\n",
    "df_missing"
   ]
  },
  {
   "cell_type": "code",
   "execution_count": null,
   "metadata": {},
   "outputs": [],
   "source": [
    "# Transform object/string Date/Time data to datetime\n",
    "df_train['first_review'] = pd.to_datetime(df_train['first_review'])\n",
    "df_train['last_review'] = pd.to_datetime(df_train['last_review'])\n",
    "df_train['host_since'] = pd.to_datetime(df_train['host_since'])"
   ]
  },
  {
   "cell_type": "code",
   "execution_count": null,
   "metadata": {},
   "outputs": [],
   "source": [
    "df_train['host_since_year'] = df_train['host_since'].dt.year\n",
    "print(round(df_train['host_since_year'].mean(skipna=True)))\n",
    "df_train['host_since_year'].fillna(round(df_train['host_since_year'].mean()), inplace=True)\n",
    "# df_train"
   ]
  },
  {
   "cell_type": "code",
   "execution_count": null,
   "metadata": {},
   "outputs": [],
   "source": [
    "# Replace NaN with Mean value in bathroom feature / column\n",
    "df_train['bathrooms'].fillna(round(df_train['bathrooms'].mean()), inplace=True)"
   ]
  },
  {
   "cell_type": "code",
   "execution_count": null,
   "metadata": {},
   "outputs": [],
   "source": [
    "# Replace NaN with Mean value in bedrooms feature / column\n",
    "df_train['bedrooms'].fillna(round(df_train['bedrooms'].mean()), inplace=True)"
   ]
  },
  {
   "cell_type": "code",
   "execution_count": null,
   "metadata": {},
   "outputs": [],
   "source": [
    "# Replace NaN with Mean value in bedrooms feature / column\n",
    "df_train['beds'].fillna(round(df_train['beds'].mean()), inplace=True)"
   ]
  },
  {
   "cell_type": "code",
   "execution_count": null,
   "metadata": {},
   "outputs": [],
   "source": [
    "# Replace NaN with Mean value in review_scores_rating feature / column\n",
    "df_train['review_scores_rating'].fillna(round(df_train['review_scores_rating'].mean()), inplace=True)"
   ]
  },
  {
   "cell_type": "code",
   "execution_count": null,
   "metadata": {},
   "outputs": [],
   "source": [
    "# Delete % sign from host_response_rate data and convert the data from object to integer\n",
    "df_train['host_response_rate'] = df_train['host_response_rate'].str.replace('%', '')\n",
    "df_train['host_response_rate'].fillna(0, inplace=True)\n",
    "# Convert data type to Integer\n",
    "df_train['host_response_rate'] = df_train['host_response_rate'].astype(int)\n",
    "\n",
    "# Mean of host_response_rate without considering 0 values \n",
    "mean_host_response_rate = round(df_train['host_response_rate'].mean(skipna=True))\n",
    "\n",
    "# Replace 0 with Mean value\n",
    "df_train['host_response_rate'].mask(df_train['host_response_rate'] == 0, mean_host_response_rate, inplace=True)"
   ]
  },
  {
   "cell_type": "code",
   "execution_count": null,
   "metadata": {},
   "outputs": [],
   "source": [
    "# Replace t with 1, f with 0 and NaN with 0 of host_identity_verified feature\n",
    "df_train['host_identity_verified'].mask(df_train['host_identity_verified'] == \"t\", \"1\", inplace=True)\n",
    "df_train['host_identity_verified'].mask(df_train['host_identity_verified'] == \"f\", \"0\", inplace=True)\n",
    "df_train['host_identity_verified'].fillna(0.0, inplace=True)\n",
    "\n",
    "# COnvert Data Type to Float\n",
    "df_train['host_identity_verified'] = df_train['host_identity_verified'].astype(float)"
   ]
  },
  {
   "cell_type": "code",
   "execution_count": null,
   "metadata": {},
   "outputs": [],
   "source": [
    "# Replace t with 1, f with 0 and NaN with 0 of host_identity_verified feature\n",
    "df_train['host_has_profile_pic'].mask(df_train['host_has_profile_pic'] == \"t\", \"1\", inplace=True)\n",
    "df_train['host_has_profile_pic'].mask(df_train['host_has_profile_pic'] == \"f\", \"0\", inplace=True)\n",
    "df_train['host_has_profile_pic'].fillna(0.0, inplace=True)\n",
    "\n",
    "# Convert Data Type to Float\n",
    "df_train['host_has_profile_pic'] = df_train['host_has_profile_pic'].astype(float)"
   ]
  },
  {
   "cell_type": "code",
   "execution_count": null,
   "metadata": {},
   "outputs": [],
   "source": [
    "# Replace t with 1, f with 0 and NaN with 0 of host_identity_verified feature\n",
    "df_train['instant_bookable'].mask(df_train['instant_bookable'] == \"t\", \"1\", inplace=True)\n",
    "df_train['instant_bookable'].mask(df_train['instant_bookable'] == \"f\", \"0\", inplace=True)\n",
    "\n",
    "# Convert Data Type to Float\n",
    "df_train['instant_bookable'] = df_train['instant_bookable'].astype(int)"
   ]
  },
  {
   "cell_type": "code",
   "execution_count": null,
   "metadata": {},
   "outputs": [],
   "source": [
    "df_train['room_type'].value_counts()"
   ]
  },
  {
   "cell_type": "code",
   "execution_count": null,
   "metadata": {},
   "outputs": [],
   "source": [
    "df_test['room_type'].value_counts()"
   ]
  },
  {
   "cell_type": "code",
   "execution_count": null,
   "metadata": {},
   "outputs": [],
   "source": [
    "df_train.groupby(by='room_type')['log_price'].mean()"
   ]
  },
  {
   "cell_type": "code",
   "execution_count": null,
   "metadata": {},
   "outputs": [],
   "source": [
    "# Find the missing values\n",
    "print(df_train.isnull().sum())"
   ]
  },
  {
   "cell_type": "markdown",
   "metadata": {},
   "source": [
    "# Feature Re-Engineering"
   ]
  },
  {
   "cell_type": "code",
   "execution_count": null,
   "metadata": {},
   "outputs": [],
   "source": [
    "#List unique values of a Feature / Column\n",
    "# df_train['zipcode'].value_counts()"
   ]
  },
  {
   "cell_type": "code",
   "execution_count": null,
   "metadata": {},
   "outputs": [],
   "source": [
    "# Create new features from city\n",
    "df_city = pd.get_dummies(df_train['city'])\n",
    "df_train = pd.concat([df_train, df_city], axis=1)"
   ]
  },
  {
   "cell_type": "code",
   "execution_count": null,
   "metadata": {},
   "outputs": [],
   "source": [
    "# Create new features from property_type\n",
    "df_property_type = pd.get_dummies(df_train['property_type'])\n",
    "df_train = pd.concat([df_train, df_property_type], axis=1)"
   ]
  },
  {
   "cell_type": "code",
   "execution_count": null,
   "metadata": {},
   "outputs": [],
   "source": [
    "# Create new features from bed_type\n",
    "df_bed_type = pd.get_dummies(df_train['bed_type'])\n",
    "df_train = pd.concat([df_train, df_bed_type], axis=1)"
   ]
  },
  {
   "cell_type": "code",
   "execution_count": null,
   "metadata": {},
   "outputs": [],
   "source": [
    "# Create new features from room_type\n",
    "df_room_type = pd.get_dummies(df_train['room_type'])\n",
    "df_train = pd.concat([df_train, df_room_type], axis=1)"
   ]
  },
  {
   "cell_type": "code",
   "execution_count": null,
   "metadata": {},
   "outputs": [],
   "source": [
    "df_train.head(10)"
   ]
  },
  {
   "cell_type": "code",
   "execution_count": null,
   "metadata": {},
   "outputs": [],
   "source": [
    "# Correlation\n",
    "df_temp = df_train.filter(['log_price', 'accommodates', 'bathrooms', 'bedrooms', 'beds', 'Couch', 'Real Bed', 'Shared room', 'Entire home/apt', \n",
    "             'Private room', 'SF', 'instant_bookable'], axis=1)\n",
    "df_temp.corr()"
   ]
  },
  {
   "cell_type": "code",
   "execution_count": null,
   "metadata": {},
   "outputs": [],
   "source": [
    "# select the columns\n",
    "# X_columns = ['accommodates', 'bathrooms', 'bedrooms', 'beds', 'number_of_reviews', 'review_scores_rating']\n",
    "X_columns = ['accommodates', 'bathrooms', 'bedrooms', 'beds', 'Real Bed', 'Shared room', 'Entire home/apt', \n",
    "             'Private room', 'SF']\n",
    "# X_columns = ['accommodates', 'bathrooms', 'bedrooms', 'beds', 'cleaning_fee']\n",
    "y_column = ['log_price']"
   ]
  },
  {
   "cell_type": "code",
   "execution_count": null,
   "metadata": {
    "scrolled": true
   },
   "outputs": [],
   "source": [
    "# handle missing values\n",
    "df_train = df_train[X_columns + y_column]\n",
    "print(df_train.shape)\n",
    "df_train = df_train.fillna(0.0) # probably not a good idea for 'review_scores_rating'\n",
    "print(df_train.shape)"
   ]
  },
  {
   "cell_type": "markdown",
   "metadata": {},
   "source": [
    "# Experiment"
   ]
  },
  {
   "cell_type": "code",
   "execution_count": null,
   "metadata": {},
   "outputs": [],
   "source": [
    "# split the data using sklearn\n",
    "\n",
    "threshold = 0.7\n",
    "X = df_train[X_columns]\n",
    "y = df_train[y_column]\n",
    "X_train, X_test, y_train, y_test = train_test_split(X, y, test_size=1.0-threshold, shuffle=True)\n",
    "\n",
    "print('X_train', X_train.shape)\n",
    "print('y_train', y_train.shape)\n",
    "print('X_test', X_test.shape)\n",
    "print('y_test', y_test.shape)"
   ]
  },
  {
   "cell_type": "code",
   "execution_count": null,
   "metadata": {},
   "outputs": [],
   "source": [
    "def model_training(model_name, model, X_train, y_train):\n",
    "    model.fit(X_train, y_train)\n",
    "    return model\n",
    "    \n",
    "def model_prediction(model, X_test):\n",
    "    y_pred = model.predict(X_test)\n",
    "    return y_pred\n",
    "\n",
    "def model_evaluation(model_name, y_test, y_pred):\n",
    "    print(model_name)\n",
    "    print('MAE', mean_absolute_error(y_test, y_pred))\n",
    "    print('RMSE', np.sqrt(mean_squared_error(y_test, y_pred)))\n",
    "#     plt.scatter(y_test, y_pred, alpha=0.3)\n",
    "#     plt.plot(range(0,5000000, 100), range(0,5000000, 100), '--r', alpha=0.3, label='Line1')\n",
    "#     plt.title(model_name)\n",
    "#     plt.xlabel('True Value')\n",
    "#     plt.ylabel('Predict Value')\n",
    "#     plt.xlim([0, 5000000])\n",
    "#     plt.ylim([0, 5000000])\n",
    "#     plt.show()\n",
    "    print('')\n",
    "\n",
    "def run_experiment(model_name, model, X_train, y_train, X_test):\n",
    "    train_model = model_training(model_name, model, X_train, y_train)\n",
    "    predictions = model_prediction(train_model, X_test)\n",
    "    model_evaluation(model_name, y_test, predictions)\n",
    "    \n",
    "run_experiment('Linear Regression', LinearRegression(), X_train, y_train, X_test)\n",
    "run_experiment('KNN 5', KNeighborsRegressor(5), X_train, y_train, X_test)\n",
    "run_experiment('KNN 2', KNeighborsRegressor(2), X_train, y_train, X_test)\n",
    "run_experiment('Decision Tree', DecisionTreeRegressor(), X_train, y_train, X_test)\n",
    "run_experiment('Random Forest 10', RandomForestRegressor(10), X_train, y_train, X_test)\n",
    "run_experiment('Random Forest 100', RandomForestRegressor(100), X_train, y_train, X_test)\n",
    "run_experiment('Gradient Boosting', GradientBoostingRegressor(), X_train, y_train, X_test)\n"
   ]
  },
  {
   "cell_type": "markdown",
   "metadata": {},
   "source": [
    "# Model Training"
   ]
  },
  {
   "cell_type": "code",
   "execution_count": null,
   "metadata": {},
   "outputs": [],
   "source": [
    "# train a linear regression\n",
    "model = GradientBoostingRegressor()\n",
    "model.fit(X_train, y_train)\n",
    "y_pred = model.predict(X_test)"
   ]
  },
  {
   "cell_type": "markdown",
   "metadata": {},
   "source": [
    "# Model Evaluation"
   ]
  },
  {
   "cell_type": "code",
   "execution_count": null,
   "metadata": {},
   "outputs": [],
   "source": [
    "rmse = np.sqrt(mean_squared_error(y_test, y_pred))\n",
    "print('RMSE', round(rmse, 2))\n",
    "plt.scatter(y_test, y_pred, alpha=0.3)\n",
    "plt.plot(range(0,10), range(0,10), '--r', alpha=0.3, label='Line1')\n",
    "plt.title('Gradient Boosting')\n",
    "plt.xlabel('True Value')\n",
    "plt.ylabel('Predict Value')\n",
    "plt.show()"
   ]
  },
  {
   "cell_type": "markdown",
   "metadata": {},
   "source": [
    "# Prepare submission"
   ]
  },
  {
   "cell_type": "code",
   "execution_count": null,
   "metadata": {},
   "outputs": [],
   "source": [
    "# Create new features from city\n",
    "df_city = pd.get_dummies(df_test['city'])\n",
    "df_test = pd.concat([df_test, df_city], axis=1)\n",
    "\n",
    "# Create new features from property_type\n",
    "df_property_type = pd.get_dummies(df_test['property_type'])\n",
    "df_test = pd.concat([df_test, df_property_type], axis=1)\n",
    "\n",
    "# Create new features from bed_type\n",
    "df_bed_type = pd.get_dummies(df_test['bed_type'])\n",
    "df_test = pd.concat([df_test, df_bed_type], axis=1)\n",
    "\n",
    "# Create new features from room_type\n",
    "df_room_type = pd.get_dummies(df_test['room_type'])\n",
    "df_test = pd.concat([df_test, df_room_type], axis=1)"
   ]
  },
  {
   "cell_type": "code",
   "execution_count": null,
   "metadata": {},
   "outputs": [],
   "source": [
    "df_prediction = df_test[X_columns].fillna(0.0)\n",
    "df_test['log_price'] = model.predict(df_prediction)\n",
    "df_test[['id', 'log_price']]"
   ]
  },
  {
   "cell_type": "code",
   "execution_count": null,
   "metadata": {},
   "outputs": [],
   "source": [
    "df_test[['id', 'log_price']].to_csv('Submission/AirBnB_Submission_1.csv', index=False)"
   ]
  },
  {
   "cell_type": "code",
   "execution_count": null,
   "metadata": {},
   "outputs": [],
   "source": []
  }
 ],
 "metadata": {
  "kernelspec": {
   "display_name": "Python 3",
   "language": "python",
   "name": "python3"
  },
  "language_info": {
   "codemirror_mode": {
    "name": "ipython",
    "version": 3
   },
   "file_extension": ".py",
   "mimetype": "text/x-python",
   "name": "python",
   "nbconvert_exporter": "python",
   "pygments_lexer": "ipython3",
   "version": "3.7.1"
  }
 },
 "nbformat": 4,
 "nbformat_minor": 2
}
